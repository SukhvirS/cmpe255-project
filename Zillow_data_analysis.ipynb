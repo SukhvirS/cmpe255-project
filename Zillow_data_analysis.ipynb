{
  "nbformat": 4,
  "nbformat_minor": 0,
  "metadata": {
    "colab": {
      "name": "Zillow data analysis (25gb).ipynb",
      "provenance": [],
      "collapsed_sections": [],
      "machine_shape": "hm"
    },
    "kernelspec": {
      "name": "python3",
      "display_name": "Python 3"
    }
  },
  "cells": [
    {
      "cell_type": "markdown",
      "metadata": {
        "id": "086suhIOK7Hv"
      },
      "source": [
        "# Group 6\n",
        "- Sukhvir Singh\n",
        "- Rich Chau\n",
        "- Tyler Tran\n",
        "- Roopesha Rai\n",
        "\n",
        "Data analysis, visualization, preprocessing, and modeling of the Zillow Housing dataset."
      ]
    },
    {
      "cell_type": "code",
      "metadata": {
        "id": "WevLagxk4xtb",
        "outputId": "c4372cd6-8cbc-479d-aea7-21899a433b1c",
        "colab": {
          "base_uri": "https://localhost:8080/"
        }
      },
      "source": [
        "# this is needed to connect the notebook to the google drive\n",
        "from google.colab import drive\n",
        "drive.mount('/content/drive')"
      ],
      "execution_count": 1,
      "outputs": [
        {
          "output_type": "stream",
          "text": [
            "Mounted at /content/drive\n"
          ],
          "name": "stdout"
        }
      ]
    },
    {
      "cell_type": "code",
      "metadata": {
        "id": "aRDpRV0k4zaf"
      },
      "source": [
        "import pandas as pd\n",
        "import numpy as np\n",
        "import matplotlib.pyplot as plt\n",
        "import seaborn as sns\n",
        "import pickle"
      ],
      "execution_count": 2,
      "outputs": []
    },
    {
      "cell_type": "markdown",
      "metadata": {
        "id": "4deOHosyLTEK"
      },
      "source": [
        "## Load 2016 data"
      ]
    },
    {
      "cell_type": "markdown",
      "metadata": {
        "id": "Cxq2GWx3LXnJ"
      },
      "source": [
        "### train 2016"
      ]
    },
    {
      "cell_type": "code",
      "metadata": {
        "id": "NCxY_Eky4_0c"
      },
      "source": [
        "train_df = pd.read_csv('/content/drive/My Drive/CMPE 255 Project/zillow-prize-1/train_2016_v2.csv', parse_dates=['transactiondate'])"
      ],
      "execution_count": 3,
      "outputs": []
    },
    {
      "cell_type": "code",
      "metadata": {
        "id": "Po-YxrYP5D01",
        "outputId": "9d4e304a-5d20-4306-d2b2-a6eaa6afe234",
        "colab": {
          "base_uri": "https://localhost:8080/"
        }
      },
      "source": [
        "train_df.shape"
      ],
      "execution_count": 4,
      "outputs": [
        {
          "output_type": "execute_result",
          "data": {
            "text/plain": [
              "(90275, 3)"
            ]
          },
          "metadata": {
            "tags": []
          },
          "execution_count": 4
        }
      ]
    },
    {
      "cell_type": "code",
      "metadata": {
        "id": "Qdctgs5u90mR",
        "outputId": "5cc28e0b-50f8-47bf-e3a1-f2993fba5935",
        "colab": {
          "base_uri": "https://localhost:8080/",
          "height": 204
        }
      },
      "source": [
        "train_df.head()"
      ],
      "execution_count": 5,
      "outputs": [
        {
          "output_type": "execute_result",
          "data": {
            "text/html": [
              "<div>\n",
              "<style scoped>\n",
              "    .dataframe tbody tr th:only-of-type {\n",
              "        vertical-align: middle;\n",
              "    }\n",
              "\n",
              "    .dataframe tbody tr th {\n",
              "        vertical-align: top;\n",
              "    }\n",
              "\n",
              "    .dataframe thead th {\n",
              "        text-align: right;\n",
              "    }\n",
              "</style>\n",
              "<table border=\"1\" class=\"dataframe\">\n",
              "  <thead>\n",
              "    <tr style=\"text-align: right;\">\n",
              "      <th></th>\n",
              "      <th>parcelid</th>\n",
              "      <th>logerror</th>\n",
              "      <th>transactiondate</th>\n",
              "    </tr>\n",
              "  </thead>\n",
              "  <tbody>\n",
              "    <tr>\n",
              "      <th>0</th>\n",
              "      <td>11016594</td>\n",
              "      <td>0.0276</td>\n",
              "      <td>2016-01-01</td>\n",
              "    </tr>\n",
              "    <tr>\n",
              "      <th>1</th>\n",
              "      <td>14366692</td>\n",
              "      <td>-0.1684</td>\n",
              "      <td>2016-01-01</td>\n",
              "    </tr>\n",
              "    <tr>\n",
              "      <th>2</th>\n",
              "      <td>12098116</td>\n",
              "      <td>-0.0040</td>\n",
              "      <td>2016-01-01</td>\n",
              "    </tr>\n",
              "    <tr>\n",
              "      <th>3</th>\n",
              "      <td>12643413</td>\n",
              "      <td>0.0218</td>\n",
              "      <td>2016-01-02</td>\n",
              "    </tr>\n",
              "    <tr>\n",
              "      <th>4</th>\n",
              "      <td>14432541</td>\n",
              "      <td>-0.0050</td>\n",
              "      <td>2016-01-02</td>\n",
              "    </tr>\n",
              "  </tbody>\n",
              "</table>\n",
              "</div>"
            ],
            "text/plain": [
              "   parcelid  logerror transactiondate\n",
              "0  11016594    0.0276      2016-01-01\n",
              "1  14366692   -0.1684      2016-01-01\n",
              "2  12098116   -0.0040      2016-01-01\n",
              "3  12643413    0.0218      2016-01-02\n",
              "4  14432541   -0.0050      2016-01-02"
            ]
          },
          "metadata": {
            "tags": []
          },
          "execution_count": 5
        }
      ]
    },
    {
      "cell_type": "code",
      "metadata": {
        "id": "zRkE3WPw-B8x",
        "outputId": "6cda7f70-d723-4f70-a93e-396e94b6a53d",
        "colab": {
          "base_uri": "https://localhost:8080/",
          "height": 367
        }
      },
      "source": [
        "plt.figure(figsize=(8,5))\n",
        "plt.xlabel('Index')\n",
        "plt.ylabel('Log error')\n",
        "plt.scatter(range(train_df.shape[0]), np.sort(train_df['logerror'].values))\n",
        "plt.title('Logerror vs Index')"
      ],
      "execution_count": 6,
      "outputs": [
        {
          "output_type": "execute_result",
          "data": {
            "text/plain": [
              "Text(0.5, 1.0, 'Logerror vs Index')"
            ]
          },
          "metadata": {
            "tags": []
          },
          "execution_count": 6
        },
        {
          "output_type": "display_data",
          "data": {
            "image/png": "[encoded data removed]",
            "text/plain": [
              "<Figure size 576x360 with 1 Axes>"
            ]
          },
          "metadata": {
            "tags": [],
            "needs_background": "light"
          }
        }
      ]
    },
    {
      "cell_type": "code",
      "metadata": {
        "id": "BwK9ujnC_OK3",
        "outputId": "a2b94342-b90d-4a67-f835-86313c7ad3b3",
        "colab": {
          "base_uri": "https://localhost:8080/",
          "height": 551
        }
      },
      "source": [
        "# show transactions for each month of the year\n",
        "train_df['transaction_month'] = train_df['transactiondate'].dt.month\n",
        "months = train_df['transaction_month'].value_counts()\n",
        "plt.figure(figsize=(10,8))\n",
        "sns.barplot(months.index, months.values)\n",
        "plt.xlabel('Transaction Month')\n",
        "plt.ylabel('# of transactions')\n",
        "plt.show()"
      ],
      "execution_count": 7,
      "outputs": [
        {
          "output_type": "stream",
          "text": [
            "/usr/local/lib/python3.6/dist-packages/seaborn/_decorators.py:43: FutureWarning: Pass the following variables as keyword args: x, y. From version 0.12, the only valid positional argument will be `data`, and passing other arguments without an explicit keyword will result in an error or misinterpretation.\n",
            "  FutureWarning\n"
          ],
          "name": "stderr"
        },
        {
          "output_type": "display_data",
          "data": {
            "image/png": "[encoded data removed]",
            "text/plain": [
              "<Figure size 720x576 with 1 Axes>"
            ]
          },
          "metadata": {
            "tags": [],
            "needs_background": "light"
          }
        }
      ]
    },
    {
      "cell_type": "markdown",
      "metadata": {
        "id": "ZQjSZwuAAegS"
      },
      "source": [
        "### properties 2016"
      ]
    },
    {
      "cell_type": "code",
      "metadata": {
        "id": "Z2NQSa5gAXhh",
        "outputId": "ea0eb2c4-566c-4366-e5a8-9460a80fae42",
        "colab": {
          "base_uri": "https://localhost:8080/"
        }
      },
      "source": [
        "properties_df = pd.read_csv('/content/drive/My Drive/CMPE 255 Project/zillow-prize-1/properties_2016.csv')\n",
        "properties_df.shape"
      ],
      "execution_count": 8,
      "outputs": [
        {
          "output_type": "stream",
          "text": [
            "/usr/local/lib/python3.6/dist-packages/IPython/core/interactiveshell.py:2718: DtypeWarning: Columns (22,32,34,49,55) have mixed types.Specify dtype option on import or set low_memory=False.\n",
            "  interactivity=interactivity, compiler=compiler, result=result)\n"
          ],
          "name": "stderr"
        },
        {
          "output_type": "execute_result",
          "data": {
            "text/plain": [
              "(2985217, 58)"
            ]
          },
          "metadata": {
            "tags": []
          },
          "execution_count": 8
        }
      ]
    },
    {
      "cell_type": "code",
      "metadata": {
        "id": "TqV7wFG3AyDQ",
        "outputId": "979b2c48-7294-4999-c819-574e88ada54c",
        "colab": {
          "base_uri": "https://localhost:8080/",
          "height": 224
        }
      },
      "source": [
        "properties_df.head()"
      ],
      "execution_count": 10,
      "outputs": [
        {
          "output_type": "execute_result",
          "data": {
            "text/html": [
              "<div>\n",
              "<style scoped>\n",
              "    .dataframe tbody tr th:only-of-type {\n",
              "        vertical-align: middle;\n",
              "    }\n",
              "\n",
              "    .dataframe tbody tr th {\n",
              "        vertical-align: top;\n",
              "    }\n",
              "\n",
              "    .dataframe thead th {\n",
              "        text-align: right;\n",
              "    }\n",
              "</style>\n",
              "<table border=\"1\" class=\"dataframe\">\n",
              "  <thead>\n",
              "    <tr style=\"text-align: right;\">\n",
              "      <th></th>\n",
              "      <th>parcelid</th>\n",
              "      <th>airconditioningtypeid</th>\n",
              "      <th>architecturalstyletypeid</th>\n",
              "      <th>basementsqft</th>\n",
              "      <th>bathroomcnt</th>\n",
              "      <th>bedroomcnt</th>\n",
              "      <th>buildingclasstypeid</th>\n",
              "      <th>buildingqualitytypeid</th>\n",
              "      <th>calculatedbathnbr</th>\n",
              "      <th>decktypeid</th>\n",
              "      <th>finishedfloor1squarefeet</th>\n",
              "      <th>calculatedfinishedsquarefeet</th>\n",
              "      <th>finishedsquarefeet12</th>\n",
              "      <th>finishedsquarefeet13</th>\n",
              "      <th>finishedsquarefeet15</th>\n",
              "      <th>finishedsquarefeet50</th>\n",
              "      <th>finishedsquarefeet6</th>\n",
              "      <th>fips</th>\n",
              "      <th>fireplacecnt</th>\n",
              "      <th>fullbathcnt</th>\n",
              "      <th>garagecarcnt</th>\n",
              "      <th>garagetotalsqft</th>\n",
              "      <th>hashottuborspa</th>\n",
              "      <th>heatingorsystemtypeid</th>\n",
              "      <th>latitude</th>\n",
              "      <th>longitude</th>\n",
              "      <th>lotsizesquarefeet</th>\n",
              "      <th>poolcnt</th>\n",
              "      <th>poolsizesum</th>\n",
              "      <th>pooltypeid10</th>\n",
              "      <th>pooltypeid2</th>\n",
              "      <th>pooltypeid7</th>\n",
              "      <th>propertycountylandusecode</th>\n",
              "      <th>propertylandusetypeid</th>\n",
              "      <th>propertyzoningdesc</th>\n",
              "      <th>rawcensustractandblock</th>\n",
              "      <th>regionidcity</th>\n",
              "      <th>regionidcounty</th>\n",
              "      <th>regionidneighborhood</th>\n",
              "      <th>regionidzip</th>\n",
              "      <th>roomcnt</th>\n",
              "      <th>storytypeid</th>\n",
              "      <th>threequarterbathnbr</th>\n",
              "      <th>typeconstructiontypeid</th>\n",
              "      <th>unitcnt</th>\n",
              "      <th>yardbuildingsqft17</th>\n",
              "      <th>yardbuildingsqft26</th>\n",
              "      <th>yearbuilt</th>\n",
              "      <th>numberofstories</th>\n",
              "      <th>fireplaceflag</th>\n",
              "      <th>structuretaxvaluedollarcnt</th>\n",
              "      <th>taxvaluedollarcnt</th>\n",
              "      <th>assessmentyear</th>\n",
              "      <th>landtaxvaluedollarcnt</th>\n",
              "      <th>taxamount</th>\n",
              "      <th>taxdelinquencyflag</th>\n",
              "      <th>taxdelinquencyyear</th>\n",
              "      <th>censustractandblock</th>\n",
              "    </tr>\n",
              "  </thead>\n",
              "  <tbody>\n",
              "    <tr>\n",
              "      <th>0</th>\n",
              "      <td>10754147</td>\n",
              "      <td>NaN</td>\n",
              "      <td>NaN</td>\n",
              "      <td>NaN</td>\n",
              "      <td>0.0</td>\n",
              "      <td>0.0</td>\n",
              "      <td>NaN</td>\n",
              "      <td>NaN</td>\n",
              "      <td>NaN</td>\n",
              "      <td>NaN</td>\n",
              "      <td>NaN</td>\n",
              "      <td>NaN</td>\n",
              "      <td>NaN</td>\n",
              "      <td>NaN</td>\n",
              "      <td>NaN</td>\n",
              "      <td>NaN</td>\n",
              "      <td>NaN</td>\n",
              "      <td>6037.0</td>\n",
              "      <td>NaN</td>\n",
              "      <td>NaN</td>\n",
              "      <td>NaN</td>\n",
              "      <td>NaN</td>\n",
              "      <td>NaN</td>\n",
              "      <td>NaN</td>\n",
              "      <td>34144442.0</td>\n",
              "      <td>-118654084.0</td>\n",
              "      <td>85768.0</td>\n",
              "      <td>NaN</td>\n",
              "      <td>NaN</td>\n",
              "      <td>NaN</td>\n",
              "      <td>NaN</td>\n",
              "      <td>NaN</td>\n",
              "      <td>010D</td>\n",
              "      <td>269.0</td>\n",
              "      <td>NaN</td>\n",
              "      <td>6.037800e+07</td>\n",
              "      <td>37688.0</td>\n",
              "      <td>3101.0</td>\n",
              "      <td>NaN</td>\n",
              "      <td>96337.0</td>\n",
              "      <td>0.0</td>\n",
              "      <td>NaN</td>\n",
              "      <td>NaN</td>\n",
              "      <td>NaN</td>\n",
              "      <td>NaN</td>\n",
              "      <td>NaN</td>\n",
              "      <td>NaN</td>\n",
              "      <td>NaN</td>\n",
              "      <td>NaN</td>\n",
              "      <td>NaN</td>\n",
              "      <td>NaN</td>\n",
              "      <td>9.0</td>\n",
              "      <td>2015.0</td>\n",
              "      <td>9.0</td>\n",
              "      <td>NaN</td>\n",
              "      <td>NaN</td>\n",
              "      <td>NaN</td>\n",
              "      <td>NaN</td>\n",
              "    </tr>\n",
              "    <tr>\n",
              "      <th>1</th>\n",
              "      <td>10759547</td>\n",
              "      <td>NaN</td>\n",
              "      <td>NaN</td>\n",
              "      <td>NaN</td>\n",
              "      <td>0.0</td>\n",
              "      <td>0.0</td>\n",
              "      <td>NaN</td>\n",
              "      <td>NaN</td>\n",
              "      <td>NaN</td>\n",
              "      <td>NaN</td>\n",
              "      <td>NaN</td>\n",
              "      <td>NaN</td>\n",
              "      <td>NaN</td>\n",
              "      <td>NaN</td>\n",
              "      <td>NaN</td>\n",
              "      <td>NaN</td>\n",
              "      <td>NaN</td>\n",
              "      <td>6037.0</td>\n",
              "      <td>NaN</td>\n",
              "      <td>NaN</td>\n",
              "      <td>NaN</td>\n",
              "      <td>NaN</td>\n",
              "      <td>NaN</td>\n",
              "      <td>NaN</td>\n",
              "      <td>34140430.0</td>\n",
              "      <td>-118625364.0</td>\n",
              "      <td>4083.0</td>\n",
              "      <td>NaN</td>\n",
              "      <td>NaN</td>\n",
              "      <td>NaN</td>\n",
              "      <td>NaN</td>\n",
              "      <td>NaN</td>\n",
              "      <td>0109</td>\n",
              "      <td>261.0</td>\n",
              "      <td>LCA11*</td>\n",
              "      <td>6.037800e+07</td>\n",
              "      <td>37688.0</td>\n",
              "      <td>3101.0</td>\n",
              "      <td>NaN</td>\n",
              "      <td>96337.0</td>\n",
              "      <td>0.0</td>\n",
              "      <td>NaN</td>\n",
              "      <td>NaN</td>\n",
              "      <td>NaN</td>\n",
              "      <td>NaN</td>\n",
              "      <td>NaN</td>\n",
              "      <td>NaN</td>\n",
              "      <td>NaN</td>\n",
              "      <td>NaN</td>\n",
              "      <td>NaN</td>\n",
              "      <td>NaN</td>\n",
              "      <td>27516.0</td>\n",
              "      <td>2015.0</td>\n",
              "      <td>27516.0</td>\n",
              "      <td>NaN</td>\n",
              "      <td>NaN</td>\n",
              "      <td>NaN</td>\n",
              "      <td>NaN</td>\n",
              "    </tr>\n",
              "    <tr>\n",
              "      <th>2</th>\n",
              "      <td>10843547</td>\n",
              "      <td>NaN</td>\n",
              "      <td>NaN</td>\n",
              "      <td>NaN</td>\n",
              "      <td>0.0</td>\n",
              "      <td>0.0</td>\n",
              "      <td>NaN</td>\n",
              "      <td>NaN</td>\n",
              "      <td>NaN</td>\n",
              "      <td>NaN</td>\n",
              "      <td>NaN</td>\n",
              "      <td>73026.0</td>\n",
              "      <td>NaN</td>\n",
              "      <td>NaN</td>\n",
              "      <td>73026.0</td>\n",
              "      <td>NaN</td>\n",
              "      <td>NaN</td>\n",
              "      <td>6037.0</td>\n",
              "      <td>NaN</td>\n",
              "      <td>NaN</td>\n",
              "      <td>NaN</td>\n",
              "      <td>NaN</td>\n",
              "      <td>NaN</td>\n",
              "      <td>NaN</td>\n",
              "      <td>33989359.0</td>\n",
              "      <td>-118394633.0</td>\n",
              "      <td>63085.0</td>\n",
              "      <td>NaN</td>\n",
              "      <td>NaN</td>\n",
              "      <td>NaN</td>\n",
              "      <td>NaN</td>\n",
              "      <td>NaN</td>\n",
              "      <td>1200</td>\n",
              "      <td>47.0</td>\n",
              "      <td>LAC2</td>\n",
              "      <td>6.037703e+07</td>\n",
              "      <td>51617.0</td>\n",
              "      <td>3101.0</td>\n",
              "      <td>NaN</td>\n",
              "      <td>96095.0</td>\n",
              "      <td>0.0</td>\n",
              "      <td>NaN</td>\n",
              "      <td>NaN</td>\n",
              "      <td>NaN</td>\n",
              "      <td>2.0</td>\n",
              "      <td>NaN</td>\n",
              "      <td>NaN</td>\n",
              "      <td>NaN</td>\n",
              "      <td>NaN</td>\n",
              "      <td>NaN</td>\n",
              "      <td>650756.0</td>\n",
              "      <td>1413387.0</td>\n",
              "      <td>2015.0</td>\n",
              "      <td>762631.0</td>\n",
              "      <td>20800.37</td>\n",
              "      <td>NaN</td>\n",
              "      <td>NaN</td>\n",
              "      <td>NaN</td>\n",
              "    </tr>\n",
              "    <tr>\n",
              "      <th>3</th>\n",
              "      <td>10859147</td>\n",
              "      <td>NaN</td>\n",
              "      <td>NaN</td>\n",
              "      <td>NaN</td>\n",
              "      <td>0.0</td>\n",
              "      <td>0.0</td>\n",
              "      <td>3.0</td>\n",
              "      <td>7.0</td>\n",
              "      <td>NaN</td>\n",
              "      <td>NaN</td>\n",
              "      <td>NaN</td>\n",
              "      <td>5068.0</td>\n",
              "      <td>NaN</td>\n",
              "      <td>NaN</td>\n",
              "      <td>5068.0</td>\n",
              "      <td>NaN</td>\n",
              "      <td>NaN</td>\n",
              "      <td>6037.0</td>\n",
              "      <td>NaN</td>\n",
              "      <td>NaN</td>\n",
              "      <td>NaN</td>\n",
              "      <td>NaN</td>\n",
              "      <td>NaN</td>\n",
              "      <td>NaN</td>\n",
              "      <td>34148863.0</td>\n",
              "      <td>-118437206.0</td>\n",
              "      <td>7521.0</td>\n",
              "      <td>NaN</td>\n",
              "      <td>NaN</td>\n",
              "      <td>NaN</td>\n",
              "      <td>NaN</td>\n",
              "      <td>NaN</td>\n",
              "      <td>1200</td>\n",
              "      <td>47.0</td>\n",
              "      <td>LAC2</td>\n",
              "      <td>6.037141e+07</td>\n",
              "      <td>12447.0</td>\n",
              "      <td>3101.0</td>\n",
              "      <td>27080.0</td>\n",
              "      <td>96424.0</td>\n",
              "      <td>0.0</td>\n",
              "      <td>NaN</td>\n",
              "      <td>NaN</td>\n",
              "      <td>NaN</td>\n",
              "      <td>NaN</td>\n",
              "      <td>NaN</td>\n",
              "      <td>NaN</td>\n",
              "      <td>1948.0</td>\n",
              "      <td>1.0</td>\n",
              "      <td>NaN</td>\n",
              "      <td>571346.0</td>\n",
              "      <td>1156834.0</td>\n",
              "      <td>2015.0</td>\n",
              "      <td>585488.0</td>\n",
              "      <td>14557.57</td>\n",
              "      <td>NaN</td>\n",
              "      <td>NaN</td>\n",
              "      <td>NaN</td>\n",
              "    </tr>\n",
              "    <tr>\n",
              "      <th>4</th>\n",
              "      <td>10879947</td>\n",
              "      <td>NaN</td>\n",
              "      <td>NaN</td>\n",
              "      <td>NaN</td>\n",
              "      <td>0.0</td>\n",
              "      <td>0.0</td>\n",
              "      <td>4.0</td>\n",
              "      <td>NaN</td>\n",
              "      <td>NaN</td>\n",
              "      <td>NaN</td>\n",
              "      <td>NaN</td>\n",
              "      <td>1776.0</td>\n",
              "      <td>NaN</td>\n",
              "      <td>NaN</td>\n",
              "      <td>1776.0</td>\n",
              "      <td>NaN</td>\n",
              "      <td>NaN</td>\n",
              "      <td>6037.0</td>\n",
              "      <td>NaN</td>\n",
              "      <td>NaN</td>\n",
              "      <td>NaN</td>\n",
              "      <td>NaN</td>\n",
              "      <td>NaN</td>\n",
              "      <td>NaN</td>\n",
              "      <td>34194168.0</td>\n",
              "      <td>-118385816.0</td>\n",
              "      <td>8512.0</td>\n",
              "      <td>NaN</td>\n",
              "      <td>NaN</td>\n",
              "      <td>NaN</td>\n",
              "      <td>NaN</td>\n",
              "      <td>NaN</td>\n",
              "      <td>1210</td>\n",
              "      <td>31.0</td>\n",
              "      <td>LAM1</td>\n",
              "      <td>6.037123e+07</td>\n",
              "      <td>12447.0</td>\n",
              "      <td>3101.0</td>\n",
              "      <td>46795.0</td>\n",
              "      <td>96450.0</td>\n",
              "      <td>0.0</td>\n",
              "      <td>NaN</td>\n",
              "      <td>NaN</td>\n",
              "      <td>NaN</td>\n",
              "      <td>1.0</td>\n",
              "      <td>NaN</td>\n",
              "      <td>NaN</td>\n",
              "      <td>1947.0</td>\n",
              "      <td>NaN</td>\n",
              "      <td>NaN</td>\n",
              "      <td>193796.0</td>\n",
              "      <td>433491.0</td>\n",
              "      <td>2015.0</td>\n",
              "      <td>239695.0</td>\n",
              "      <td>5725.17</td>\n",
              "      <td>NaN</td>\n",
              "      <td>NaN</td>\n",
              "      <td>NaN</td>\n",
              "    </tr>\n",
              "  </tbody>\n",
              "</table>\n",
              "</div>"
            ],
            "text/plain": [
              "   parcelid  airconditioningtypeid  ...  taxdelinquencyyear  censustractandblock\n",
              "0  10754147                    NaN  ...                 NaN                  NaN\n",
              "1  10759547                    NaN  ...                 NaN                  NaN\n",
              "2  10843547                    NaN  ...                 NaN                  NaN\n",
              "3  10859147                    NaN  ...                 NaN                  NaN\n",
              "4  10879947                    NaN  ...                 NaN                  NaN\n",
              "\n",
              "[5 rows x 58 columns]"
            ]
          },
          "metadata": {
            "tags": []
          },
          "execution_count": 10
        }
      ]
    },
    {
      "cell_type": "code",
      "metadata": {
        "id": "hZVVAQA4P0V_",
        "outputId": "95627201-1746-4e9a-ddbd-516f9834171b",
        "colab": {
          "base_uri": "https://localhost:8080/"
        }
      },
      "source": [
        "properties_df.isna().sum()"
      ],
      "execution_count": 11,
      "outputs": [
        {
          "output_type": "execute_result",
          "data": {
            "text/plain": [
              "parcelid                              0\n",
              "airconditioningtypeid           2173698\n",
              "architecturalstyletypeid        2979156\n",
              "basementsqft                    2983589\n",
              "bathroomcnt                       11462\n",
              "bedroomcnt                        11450\n",
              "buildingclasstypeid             2972588\n",
              "buildingqualitytypeid           1046729\n",
              "calculatedbathnbr                128912\n",
              "decktypeid                      2968121\n",
              "finishedfloor1squarefeet        2782500\n",
              "calculatedfinishedsquarefeet      55565\n",
              "finishedsquarefeet12             276033\n",
              "finishedsquarefeet13            2977545\n",
              "finishedsquarefeet15            2794419\n",
              "finishedsquarefeet50            2782500\n",
              "finishedsquarefeet6             2963216\n",
              "fips                              11437\n",
              "fireplacecnt                    2672580\n",
              "fullbathcnt                      128912\n",
              "garagecarcnt                    2101950\n",
              "garagetotalsqft                 2101950\n",
              "hashottuborspa                  2916203\n",
              "heatingorsystemtypeid           1178816\n",
              "latitude                          11437\n",
              "longitude                         11437\n",
              "lotsizesquarefeet                276099\n",
              "poolcnt                         2467683\n",
              "poolsizesum                     2957257\n",
              "pooltypeid10                    2948278\n",
              "pooltypeid2                     2953142\n",
              "pooltypeid7                     2499758\n",
              "propertycountylandusecode         12277\n",
              "propertylandusetypeid             11437\n",
              "propertyzoningdesc              1006588\n",
              "rawcensustractandblock            11437\n",
              "regionidcity                      62845\n",
              "regionidcounty                    11437\n",
              "regionidneighborhood            1828815\n",
              "regionidzip                       13980\n",
              "roomcnt                           11475\n",
              "storytypeid                     2983593\n",
              "threequarterbathnbr             2673586\n",
              "typeconstructiontypeid          2978470\n",
              "unitcnt                         1007727\n",
              "yardbuildingsqft17              2904862\n",
              "yardbuildingsqft26              2982570\n",
              "yearbuilt                         59928\n",
              "numberofstories                 2303148\n",
              "fireplaceflag                   2980054\n",
              "structuretaxvaluedollarcnt        54982\n",
              "taxvaluedollarcnt                 42550\n",
              "assessmentyear                    11439\n",
              "landtaxvaluedollarcnt             67733\n",
              "taxamount                         31250\n",
              "taxdelinquencyflag              2928755\n",
              "taxdelinquencyyear              2928753\n",
              "censustractandblock               75126\n",
              "dtype: int64"
            ]
          },
          "metadata": {
            "tags": []
          },
          "execution_count": 11
        }
      ]
    },
    {
      "cell_type": "code",
      "metadata": {
        "id": "VZuEsALlA3wJ",
        "outputId": "9bd39459-11d1-44aa-ae62-23c3c875fd12",
        "colab": {
          "base_uri": "https://localhost:8080/",
          "height": 886
        }
      },
      "source": [
        "# visualize the missing values for each attribute\n",
        "missing_df = properties_df.isnull().sum(axis=0).reset_index()\n",
        "missing_df.columns = ['column_name', 'missing_count']\n",
        "missing_df = missing_df.loc[missing_df['missing_count'] > 0]\n",
        "missing_df = missing_df.sort_values(by='missing_count')\n",
        "\n",
        "index = np.arange(missing_df.shape[0])\n",
        "width = 0.9\n",
        "fig, ax = plt.subplots(figsize=(10,15))\n",
        "rectangles = ax.barh(index, missing_df.missing_count.values, color='green')\n",
        "ax.set_yticks(index)\n",
        "ax.set_yticklabels(missing_df.column_name.values, rotation='horizontal')\n",
        "ax.set_xlabel('# of missing values')\n",
        "ax.set_title('Missing values for each attribute')\n",
        "plt.show()"
      ],
      "execution_count": 12,
      "outputs": [
        {
          "output_type": "display_data",
          "data": {
            "image/png": "[encoded data removed]",
            "text/plain": [
              "<Figure size 720x1080 with 1 Axes>"
            ]
          },
          "metadata": {
            "tags": [],
            "needs_background": "light"
          }
        }
      ]
    },
    {
      "cell_type": "code",
      "metadata": {
        "id": "uRhzm1n_Bszj",
        "outputId": "d4813b05-105e-4ead-e131-9cb8bf32d0d5",
        "colab": {
          "base_uri": "https://localhost:8080/",
          "height": 791
        }
      },
      "source": [
        "# the data comes with latitude and longitude that can be visualized\n",
        "plt.figure(figsize=(10,10))\n",
        "sns.jointplot(x=properties_df['latitude'].values, y=properties_df['longitude'].values, size=10)\n",
        "plt.ylabel('Longitude')\n",
        "plt.xlabel('Latitude')\n",
        "plt.show()"
      ],
      "execution_count": 13,
      "outputs": [
        {
          "output_type": "stream",
          "text": [
            "/usr/local/lib/python3.6/dist-packages/seaborn/axisgrid.py:2015: UserWarning: The `size` parameter has been renamed to `height`; please update your code.\n",
            "  warnings.warn(msg, UserWarning)\n"
          ],
          "name": "stderr"
        },
        {
          "output_type": "display_data",
          "data": {
            "text/plain": [
              "<Figure size 720x720 with 0 Axes>"
            ]
          },
          "metadata": {
            "tags": []
          }
        },
        {
          "output_type": "display_data",
          "data": {
            "image/png": "[encoded data removed]",
            "text/plain": [
              "<Figure size 720x720 with 3 Axes>"
            ]
          },
          "metadata": {
            "tags": [],
            "needs_background": "light"
          }
        }
      ]
    },
    {
      "cell_type": "markdown",
      "metadata": {
        "id": "9SEtXP2WQKGu"
      },
      "source": [
        "It is important to note that all of the data is from 3 California counties: Los Angeles, Ventura, and Orange"
      ]
    },
    {
      "cell_type": "markdown",
      "metadata": {
        "id": "3E5XU4suQ0XO"
      },
      "source": [
        "![title](https://ca.ccw-permits.com/images/CA-CCW-County.jpg)"
      ]
    },
    {
      "cell_type": "markdown",
      "metadata": {
        "id": "r9ssxnR4H8dX"
      },
      "source": [
        "### combine train and properties datasets"
      ]
    },
    {
      "cell_type": "code",
      "metadata": {
        "id": "FxW5BJusHnXJ",
        "outputId": "dc084c5e-22b3-44db-edae-81b3d36537d1",
        "colab": {
          "base_uri": "https://localhost:8080/",
          "height": 224
        }
      },
      "source": [
        "train_df = pd.merge(train_df, properties_df, on='parcelid', how='left')\n",
        "train_df.head()"
      ],
      "execution_count": 14,
      "outputs": [
        {
          "output_type": "execute_result",
          "data": {
            "text/html": [
              "<div>\n",
              "<style scoped>\n",
              "    .dataframe tbody tr th:only-of-type {\n",
              "        vertical-align: middle;\n",
              "    }\n",
              "\n",
              "    .dataframe tbody tr th {\n",
              "        vertical-align: top;\n",
              "    }\n",
              "\n",
              "    .dataframe thead th {\n",
              "        text-align: right;\n",
              "    }\n",
              "</style>\n",
              "<table border=\"1\" class=\"dataframe\">\n",
              "  <thead>\n",
              "    <tr style=\"text-align: right;\">\n",
              "      <th></th>\n",
              "      <th>parcelid</th>\n",
              "      <th>logerror</th>\n",
              "      <th>transactiondate</th>\n",
              "      <th>transaction_month</th>\n",
              "      <th>airconditioningtypeid</th>\n",
              "      <th>architecturalstyletypeid</th>\n",
              "      <th>basementsqft</th>\n",
              "      <th>bathroomcnt</th>\n",
              "      <th>bedroomcnt</th>\n",
              "      <th>buildingclasstypeid</th>\n",
              "      <th>buildingqualitytypeid</th>\n",
              "      <th>calculatedbathnbr</th>\n",
              "      <th>decktypeid</th>\n",
              "      <th>finishedfloor1squarefeet</th>\n",
              "      <th>calculatedfinishedsquarefeet</th>\n",
              "      <th>finishedsquarefeet12</th>\n",
              "      <th>finishedsquarefeet13</th>\n",
              "      <th>finishedsquarefeet15</th>\n",
              "      <th>finishedsquarefeet50</th>\n",
              "      <th>finishedsquarefeet6</th>\n",
              "      <th>fips</th>\n",
              "      <th>fireplacecnt</th>\n",
              "      <th>fullbathcnt</th>\n",
              "      <th>garagecarcnt</th>\n",
              "      <th>garagetotalsqft</th>\n",
              "      <th>hashottuborspa</th>\n",
              "      <th>heatingorsystemtypeid</th>\n",
              "      <th>latitude</th>\n",
              "      <th>longitude</th>\n",
              "      <th>lotsizesquarefeet</th>\n",
              "      <th>poolcnt</th>\n",
              "      <th>poolsizesum</th>\n",
              "      <th>pooltypeid10</th>\n",
              "      <th>pooltypeid2</th>\n",
              "      <th>pooltypeid7</th>\n",
              "      <th>propertycountylandusecode</th>\n",
              "      <th>propertylandusetypeid</th>\n",
              "      <th>propertyzoningdesc</th>\n",
              "      <th>rawcensustractandblock</th>\n",
              "      <th>regionidcity</th>\n",
              "      <th>regionidcounty</th>\n",
              "      <th>regionidneighborhood</th>\n",
              "      <th>regionidzip</th>\n",
              "      <th>roomcnt</th>\n",
              "      <th>storytypeid</th>\n",
              "      <th>threequarterbathnbr</th>\n",
              "      <th>typeconstructiontypeid</th>\n",
              "      <th>unitcnt</th>\n",
              "      <th>yardbuildingsqft17</th>\n",
              "      <th>yardbuildingsqft26</th>\n",
              "      <th>yearbuilt</th>\n",
              "      <th>numberofstories</th>\n",
              "      <th>fireplaceflag</th>\n",
              "      <th>structuretaxvaluedollarcnt</th>\n",
              "      <th>taxvaluedollarcnt</th>\n",
              "      <th>assessmentyear</th>\n",
              "      <th>landtaxvaluedollarcnt</th>\n",
              "      <th>taxamount</th>\n",
              "      <th>taxdelinquencyflag</th>\n",
              "      <th>taxdelinquencyyear</th>\n",
              "      <th>censustractandblock</th>\n",
              "    </tr>\n",
              "  </thead>\n",
              "  <tbody>\n",
              "    <tr>\n",
              "      <th>0</th>\n",
              "      <td>11016594</td>\n",
              "      <td>0.0276</td>\n",
              "      <td>2016-01-01</td>\n",
              "      <td>1</td>\n",
              "      <td>1.0</td>\n",
              "      <td>NaN</td>\n",
              "      <td>NaN</td>\n",
              "      <td>2.0</td>\n",
              "      <td>3.0</td>\n",
              "      <td>NaN</td>\n",
              "      <td>4.0</td>\n",
              "      <td>2.0</td>\n",
              "      <td>NaN</td>\n",
              "      <td>NaN</td>\n",
              "      <td>1684.0</td>\n",
              "      <td>1684.0</td>\n",
              "      <td>NaN</td>\n",
              "      <td>NaN</td>\n",
              "      <td>NaN</td>\n",
              "      <td>NaN</td>\n",
              "      <td>6037.0</td>\n",
              "      <td>NaN</td>\n",
              "      <td>2.0</td>\n",
              "      <td>NaN</td>\n",
              "      <td>NaN</td>\n",
              "      <td>NaN</td>\n",
              "      <td>2.0</td>\n",
              "      <td>34280990.0</td>\n",
              "      <td>-118488536.0</td>\n",
              "      <td>7528.0</td>\n",
              "      <td>NaN</td>\n",
              "      <td>NaN</td>\n",
              "      <td>NaN</td>\n",
              "      <td>NaN</td>\n",
              "      <td>NaN</td>\n",
              "      <td>0100</td>\n",
              "      <td>261.0</td>\n",
              "      <td>LARS</td>\n",
              "      <td>6.037107e+07</td>\n",
              "      <td>12447.0</td>\n",
              "      <td>3101.0</td>\n",
              "      <td>31817.0</td>\n",
              "      <td>96370.0</td>\n",
              "      <td>0.0</td>\n",
              "      <td>NaN</td>\n",
              "      <td>NaN</td>\n",
              "      <td>NaN</td>\n",
              "      <td>1.0</td>\n",
              "      <td>NaN</td>\n",
              "      <td>NaN</td>\n",
              "      <td>1959.0</td>\n",
              "      <td>NaN</td>\n",
              "      <td>NaN</td>\n",
              "      <td>122754.0</td>\n",
              "      <td>360170.0</td>\n",
              "      <td>2015.0</td>\n",
              "      <td>237416.0</td>\n",
              "      <td>6735.88</td>\n",
              "      <td>NaN</td>\n",
              "      <td>NaN</td>\n",
              "      <td>6.037107e+13</td>\n",
              "    </tr>\n",
              "    <tr>\n",
              "      <th>1</th>\n",
              "      <td>14366692</td>\n",
              "      <td>-0.1684</td>\n",
              "      <td>2016-01-01</td>\n",
              "      <td>1</td>\n",
              "      <td>NaN</td>\n",
              "      <td>NaN</td>\n",
              "      <td>NaN</td>\n",
              "      <td>3.5</td>\n",
              "      <td>4.0</td>\n",
              "      <td>NaN</td>\n",
              "      <td>NaN</td>\n",
              "      <td>3.5</td>\n",
              "      <td>NaN</td>\n",
              "      <td>NaN</td>\n",
              "      <td>2263.0</td>\n",
              "      <td>2263.0</td>\n",
              "      <td>NaN</td>\n",
              "      <td>NaN</td>\n",
              "      <td>NaN</td>\n",
              "      <td>NaN</td>\n",
              "      <td>6059.0</td>\n",
              "      <td>NaN</td>\n",
              "      <td>3.0</td>\n",
              "      <td>2.0</td>\n",
              "      <td>468.0</td>\n",
              "      <td>NaN</td>\n",
              "      <td>NaN</td>\n",
              "      <td>33668120.0</td>\n",
              "      <td>-117677556.0</td>\n",
              "      <td>3643.0</td>\n",
              "      <td>NaN</td>\n",
              "      <td>NaN</td>\n",
              "      <td>NaN</td>\n",
              "      <td>NaN</td>\n",
              "      <td>NaN</td>\n",
              "      <td>1</td>\n",
              "      <td>261.0</td>\n",
              "      <td>NaN</td>\n",
              "      <td>6.059052e+07</td>\n",
              "      <td>32380.0</td>\n",
              "      <td>1286.0</td>\n",
              "      <td>NaN</td>\n",
              "      <td>96962.0</td>\n",
              "      <td>0.0</td>\n",
              "      <td>NaN</td>\n",
              "      <td>1.0</td>\n",
              "      <td>NaN</td>\n",
              "      <td>NaN</td>\n",
              "      <td>NaN</td>\n",
              "      <td>NaN</td>\n",
              "      <td>2014.0</td>\n",
              "      <td>NaN</td>\n",
              "      <td>NaN</td>\n",
              "      <td>346458.0</td>\n",
              "      <td>585529.0</td>\n",
              "      <td>2015.0</td>\n",
              "      <td>239071.0</td>\n",
              "      <td>10153.02</td>\n",
              "      <td>NaN</td>\n",
              "      <td>NaN</td>\n",
              "      <td>NaN</td>\n",
              "    </tr>\n",
              "    <tr>\n",
              "      <th>2</th>\n",
              "      <td>12098116</td>\n",
              "      <td>-0.0040</td>\n",
              "      <td>2016-01-01</td>\n",
              "      <td>1</td>\n",
              "      <td>1.0</td>\n",
              "      <td>NaN</td>\n",
              "      <td>NaN</td>\n",
              "      <td>3.0</td>\n",
              "      <td>2.0</td>\n",
              "      <td>NaN</td>\n",
              "      <td>4.0</td>\n",
              "      <td>3.0</td>\n",
              "      <td>NaN</td>\n",
              "      <td>NaN</td>\n",
              "      <td>2217.0</td>\n",
              "      <td>2217.0</td>\n",
              "      <td>NaN</td>\n",
              "      <td>NaN</td>\n",
              "      <td>NaN</td>\n",
              "      <td>NaN</td>\n",
              "      <td>6037.0</td>\n",
              "      <td>NaN</td>\n",
              "      <td>3.0</td>\n",
              "      <td>NaN</td>\n",
              "      <td>NaN</td>\n",
              "      <td>NaN</td>\n",
              "      <td>2.0</td>\n",
              "      <td>34136312.0</td>\n",
              "      <td>-118175032.0</td>\n",
              "      <td>11423.0</td>\n",
              "      <td>NaN</td>\n",
              "      <td>NaN</td>\n",
              "      <td>NaN</td>\n",
              "      <td>NaN</td>\n",
              "      <td>NaN</td>\n",
              "      <td>0100</td>\n",
              "      <td>261.0</td>\n",
              "      <td>PSR6</td>\n",
              "      <td>6.037464e+07</td>\n",
              "      <td>47019.0</td>\n",
              "      <td>3101.0</td>\n",
              "      <td>275411.0</td>\n",
              "      <td>96293.0</td>\n",
              "      <td>0.0</td>\n",
              "      <td>NaN</td>\n",
              "      <td>NaN</td>\n",
              "      <td>NaN</td>\n",
              "      <td>1.0</td>\n",
              "      <td>NaN</td>\n",
              "      <td>NaN</td>\n",
              "      <td>1940.0</td>\n",
              "      <td>NaN</td>\n",
              "      <td>NaN</td>\n",
              "      <td>61994.0</td>\n",
              "      <td>119906.0</td>\n",
              "      <td>2015.0</td>\n",
              "      <td>57912.0</td>\n",
              "      <td>11484.48</td>\n",
              "      <td>NaN</td>\n",
              "      <td>NaN</td>\n",
              "      <td>6.037464e+13</td>\n",
              "    </tr>\n",
              "    <tr>\n",
              "      <th>3</th>\n",
              "      <td>12643413</td>\n",
              "      <td>0.0218</td>\n",
              "      <td>2016-01-02</td>\n",
              "      <td>1</td>\n",
              "      <td>1.0</td>\n",
              "      <td>NaN</td>\n",
              "      <td>NaN</td>\n",
              "      <td>2.0</td>\n",
              "      <td>2.0</td>\n",
              "      <td>NaN</td>\n",
              "      <td>4.0</td>\n",
              "      <td>2.0</td>\n",
              "      <td>NaN</td>\n",
              "      <td>NaN</td>\n",
              "      <td>839.0</td>\n",
              "      <td>839.0</td>\n",
              "      <td>NaN</td>\n",
              "      <td>NaN</td>\n",
              "      <td>NaN</td>\n",
              "      <td>NaN</td>\n",
              "      <td>6037.0</td>\n",
              "      <td>NaN</td>\n",
              "      <td>2.0</td>\n",
              "      <td>NaN</td>\n",
              "      <td>NaN</td>\n",
              "      <td>NaN</td>\n",
              "      <td>2.0</td>\n",
              "      <td>33755800.0</td>\n",
              "      <td>-118309000.0</td>\n",
              "      <td>70859.0</td>\n",
              "      <td>NaN</td>\n",
              "      <td>NaN</td>\n",
              "      <td>NaN</td>\n",
              "      <td>NaN</td>\n",
              "      <td>NaN</td>\n",
              "      <td>010C</td>\n",
              "      <td>266.0</td>\n",
              "      <td>LAR3</td>\n",
              "      <td>6.037296e+07</td>\n",
              "      <td>12447.0</td>\n",
              "      <td>3101.0</td>\n",
              "      <td>54300.0</td>\n",
              "      <td>96222.0</td>\n",
              "      <td>0.0</td>\n",
              "      <td>NaN</td>\n",
              "      <td>NaN</td>\n",
              "      <td>NaN</td>\n",
              "      <td>1.0</td>\n",
              "      <td>NaN</td>\n",
              "      <td>NaN</td>\n",
              "      <td>1987.0</td>\n",
              "      <td>NaN</td>\n",
              "      <td>NaN</td>\n",
              "      <td>171518.0</td>\n",
              "      <td>244880.0</td>\n",
              "      <td>2015.0</td>\n",
              "      <td>73362.0</td>\n",
              "      <td>3048.74</td>\n",
              "      <td>NaN</td>\n",
              "      <td>NaN</td>\n",
              "      <td>6.037296e+13</td>\n",
              "    </tr>\n",
              "    <tr>\n",
              "      <th>4</th>\n",
              "      <td>14432541</td>\n",
              "      <td>-0.0050</td>\n",
              "      <td>2016-01-02</td>\n",
              "      <td>1</td>\n",
              "      <td>NaN</td>\n",
              "      <td>NaN</td>\n",
              "      <td>NaN</td>\n",
              "      <td>2.5</td>\n",
              "      <td>4.0</td>\n",
              "      <td>NaN</td>\n",
              "      <td>NaN</td>\n",
              "      <td>2.5</td>\n",
              "      <td>NaN</td>\n",
              "      <td>NaN</td>\n",
              "      <td>2283.0</td>\n",
              "      <td>2283.0</td>\n",
              "      <td>NaN</td>\n",
              "      <td>NaN</td>\n",
              "      <td>NaN</td>\n",
              "      <td>NaN</td>\n",
              "      <td>6059.0</td>\n",
              "      <td>NaN</td>\n",
              "      <td>2.0</td>\n",
              "      <td>2.0</td>\n",
              "      <td>598.0</td>\n",
              "      <td>NaN</td>\n",
              "      <td>NaN</td>\n",
              "      <td>33485643.0</td>\n",
              "      <td>-117700234.0</td>\n",
              "      <td>6000.0</td>\n",
              "      <td>1.0</td>\n",
              "      <td>NaN</td>\n",
              "      <td>NaN</td>\n",
              "      <td>NaN</td>\n",
              "      <td>1.0</td>\n",
              "      <td>122</td>\n",
              "      <td>261.0</td>\n",
              "      <td>NaN</td>\n",
              "      <td>6.059042e+07</td>\n",
              "      <td>17686.0</td>\n",
              "      <td>1286.0</td>\n",
              "      <td>NaN</td>\n",
              "      <td>96961.0</td>\n",
              "      <td>8.0</td>\n",
              "      <td>NaN</td>\n",
              "      <td>1.0</td>\n",
              "      <td>NaN</td>\n",
              "      <td>NaN</td>\n",
              "      <td>NaN</td>\n",
              "      <td>NaN</td>\n",
              "      <td>1981.0</td>\n",
              "      <td>2.0</td>\n",
              "      <td>NaN</td>\n",
              "      <td>169574.0</td>\n",
              "      <td>434551.0</td>\n",
              "      <td>2015.0</td>\n",
              "      <td>264977.0</td>\n",
              "      <td>5488.96</td>\n",
              "      <td>NaN</td>\n",
              "      <td>NaN</td>\n",
              "      <td>6.059042e+13</td>\n",
              "    </tr>\n",
              "  </tbody>\n",
              "</table>\n",
              "</div>"
            ],
            "text/plain": [
              "   parcelid  logerror  ... taxdelinquencyyear  censustractandblock\n",
              "0  11016594    0.0276  ...                NaN         6.037107e+13\n",
              "1  14366692   -0.1684  ...                NaN                  NaN\n",
              "2  12098116   -0.0040  ...                NaN         6.037464e+13\n",
              "3  12643413    0.0218  ...                NaN         6.037296e+13\n",
              "4  14432541   -0.0050  ...                NaN         6.059042e+13\n",
              "\n",
              "[5 rows x 61 columns]"
            ]
          },
          "metadata": {
            "tags": []
          },
          "execution_count": 14
        }
      ]
    },
    {
      "cell_type": "code",
      "metadata": {
        "id": "MI8RLly2IAfg",
        "outputId": "a718b7e1-eba9-4681-d1b7-03ee1db6ffef",
        "colab": {
          "base_uri": "https://localhost:8080/"
        }
      },
      "source": [
        "train_df.shape"
      ],
      "execution_count": 15,
      "outputs": [
        {
          "output_type": "execute_result",
          "data": {
            "text/plain": [
              "(90275, 61)"
            ]
          },
          "metadata": {
            "tags": []
          },
          "execution_count": 15
        }
      ]
    },
    {
      "cell_type": "code",
      "metadata": {
        "id": "rPR3x3ofIC9q",
        "outputId": "7d58b16d-eeab-49a3-c668-128134049b77",
        "colab": {
          "base_uri": "https://localhost:8080/"
        }
      },
      "source": [
        "pd.options.display.max_rows = 70\n",
        "train_df.dtypes"
      ],
      "execution_count": 16,
      "outputs": [
        {
          "output_type": "execute_result",
          "data": {
            "text/plain": [
              "parcelid                                 int64\n",
              "logerror                               float64\n",
              "transactiondate                 datetime64[ns]\n",
              "transaction_month                        int64\n",
              "airconditioningtypeid                  float64\n",
              "architecturalstyletypeid               float64\n",
              "basementsqft                           float64\n",
              "bathroomcnt                            float64\n",
              "bedroomcnt                             float64\n",
              "buildingclasstypeid                    float64\n",
              "buildingqualitytypeid                  float64\n",
              "calculatedbathnbr                      float64\n",
              "decktypeid                             float64\n",
              "finishedfloor1squarefeet               float64\n",
              "calculatedfinishedsquarefeet           float64\n",
              "finishedsquarefeet12                   float64\n",
              "finishedsquarefeet13                   float64\n",
              "finishedsquarefeet15                   float64\n",
              "finishedsquarefeet50                   float64\n",
              "finishedsquarefeet6                    float64\n",
              "fips                                   float64\n",
              "fireplacecnt                           float64\n",
              "fullbathcnt                            float64\n",
              "garagecarcnt                           float64\n",
              "garagetotalsqft                        float64\n",
              "hashottuborspa                          object\n",
              "heatingorsystemtypeid                  float64\n",
              "latitude                               float64\n",
              "longitude                              float64\n",
              "lotsizesquarefeet                      float64\n",
              "poolcnt                                float64\n",
              "poolsizesum                            float64\n",
              "pooltypeid10                           float64\n",
              "pooltypeid2                            float64\n",
              "pooltypeid7                            float64\n",
              "propertycountylandusecode               object\n",
              "propertylandusetypeid                  float64\n",
              "propertyzoningdesc                      object\n",
              "rawcensustractandblock                 float64\n",
              "regionidcity                           float64\n",
              "regionidcounty                         float64\n",
              "regionidneighborhood                   float64\n",
              "regionidzip                            float64\n",
              "roomcnt                                float64\n",
              "storytypeid                            float64\n",
              "threequarterbathnbr                    float64\n",
              "typeconstructiontypeid                 float64\n",
              "unitcnt                                float64\n",
              "yardbuildingsqft17                     float64\n",
              "yardbuildingsqft26                     float64\n",
              "yearbuilt                              float64\n",
              "numberofstories                        float64\n",
              "fireplaceflag                           object\n",
              "structuretaxvaluedollarcnt             float64\n",
              "taxvaluedollarcnt                      float64\n",
              "assessmentyear                         float64\n",
              "landtaxvaluedollarcnt                  float64\n",
              "taxamount                              float64\n",
              "taxdelinquencyflag                      object\n",
              "taxdelinquencyyear                     float64\n",
              "censustractandblock                    float64\n",
              "dtype: object"
            ]
          },
          "metadata": {
            "tags": []
          },
          "execution_count": 16
        }
      ]
    },
    {
      "cell_type": "code",
      "metadata": {
        "id": "GADaq25KIbzl",
        "outputId": "72b39df9-5b51-4f0e-db68-1a5cebcb31d6",
        "colab": {
          "base_uri": "https://localhost:8080/",
          "height": 1000
        }
      },
      "source": [
        "dtype_df = train_df.dtypes.reset_index()\n",
        "dtype_df.columns = [\"Attribute\", \"Data type\"]\n",
        "dtype_df"
      ],
      "execution_count": 17,
      "outputs": [
        {
          "output_type": "execute_result",
          "data": {
            "text/html": [
              "<div>\n",
              "<style scoped>\n",
              "    .dataframe tbody tr th:only-of-type {\n",
              "        vertical-align: middle;\n",
              "    }\n",
              "\n",
              "    .dataframe tbody tr th {\n",
              "        vertical-align: top;\n",
              "    }\n",
              "\n",
              "    .dataframe thead th {\n",
              "        text-align: right;\n",
              "    }\n",
              "</style>\n",
              "<table border=\"1\" class=\"dataframe\">\n",
              "  <thead>\n",
              "    <tr style=\"text-align: right;\">\n",
              "      <th></th>\n",
              "      <th>Attribute</th>\n",
              "      <th>Data type</th>\n",
              "    </tr>\n",
              "  </thead>\n",
              "  <tbody>\n",
              "    <tr>\n",
              "      <th>0</th>\n",
              "      <td>parcelid</td>\n",
              "      <td>int64</td>\n",
              "    </tr>\n",
              "    <tr>\n",
              "      <th>1</th>\n",
              "      <td>logerror</td>\n",
              "      <td>float64</td>\n",
              "    </tr>\n",
              "    <tr>\n",
              "      <th>2</th>\n",
              "      <td>transactiondate</td>\n",
              "      <td>datetime64[ns]</td>\n",
              "    </tr>\n",
              "    <tr>\n",
              "      <th>3</th>\n",
              "      <td>transaction_month</td>\n",
              "      <td>int64</td>\n",
              "    </tr>\n",
              "    <tr>\n",
              "      <th>4</th>\n",
              "      <td>airconditioningtypeid</td>\n",
              "      <td>float64</td>\n",
              "    </tr>\n",
              "    <tr>\n",
              "      <th>5</th>\n",
              "      <td>architecturalstyletypeid</td>\n",
              "      <td>float64</td>\n",
              "    </tr>\n",
              "    <tr>\n",
              "      <th>6</th>\n",
              "      <td>basementsqft</td>\n",
              "      <td>float64</td>\n",
              "    </tr>\n",
              "    <tr>\n",
              "      <th>7</th>\n",
              "      <td>bathroomcnt</td>\n",
              "      <td>float64</td>\n",
              "    </tr>\n",
              "    <tr>\n",
              "      <th>8</th>\n",
              "      <td>bedroomcnt</td>\n",
              "      <td>float64</td>\n",
              "    </tr>\n",
              "    <tr>\n",
              "      <th>9</th>\n",
              "      <td>buildingclasstypeid</td>\n",
              "      <td>float64</td>\n",
              "    </tr>\n",
              "    <tr>\n",
              "      <th>10</th>\n",
              "      <td>buildingqualitytypeid</td>\n",
              "      <td>float64</td>\n",
              "    </tr>\n",
              "    <tr>\n",
              "      <th>11</th>\n",
              "      <td>calculatedbathnbr</td>\n",
              "      <td>float64</td>\n",
              "    </tr>\n",
              "    <tr>\n",
              "      <th>12</th>\n",
              "      <td>decktypeid</td>\n",
              "      <td>float64</td>\n",
              "    </tr>\n",
              "    <tr>\n",
              "      <th>13</th>\n",
              "      <td>finishedfloor1squarefeet</td>\n",
              "      <td>float64</td>\n",
              "    </tr>\n",
              "    <tr>\n",
              "      <th>14</th>\n",
              "      <td>calculatedfinishedsquarefeet</td>\n",
              "      <td>float64</td>\n",
              "    </tr>\n",
              "    <tr>\n",
              "      <th>15</th>\n",
              "      <td>finishedsquarefeet12</td>\n",
              "      <td>float64</td>\n",
              "    </tr>\n",
              "    <tr>\n",
              "      <th>16</th>\n",
              "      <td>finishedsquarefeet13</td>\n",
              "      <td>float64</td>\n",
              "    </tr>\n",
              "    <tr>\n",
              "      <th>17</th>\n",
              "      <td>finishedsquarefeet15</td>\n",
              "      <td>float64</td>\n",
              "    </tr>\n",
              "    <tr>\n",
              "      <th>18</th>\n",
              "      <td>finishedsquarefeet50</td>\n",
              "      <td>float64</td>\n",
              "    </tr>\n",
              "    <tr>\n",
              "      <th>19</th>\n",
              "      <td>finishedsquarefeet6</td>\n",
              "      <td>float64</td>\n",
              "    </tr>\n",
              "    <tr>\n",
              "      <th>20</th>\n",
              "      <td>fips</td>\n",
              "      <td>float64</td>\n",
              "    </tr>\n",
              "    <tr>\n",
              "      <th>21</th>\n",
              "      <td>fireplacecnt</td>\n",
              "      <td>float64</td>\n",
              "    </tr>\n",
              "    <tr>\n",
              "      <th>22</th>\n",
              "      <td>fullbathcnt</td>\n",
              "      <td>float64</td>\n",
              "    </tr>\n",
              "    <tr>\n",
              "      <th>23</th>\n",
              "      <td>garagecarcnt</td>\n",
              "      <td>float64</td>\n",
              "    </tr>\n",
              "    <tr>\n",
              "      <th>24</th>\n",
              "      <td>garagetotalsqft</td>\n",
              "      <td>float64</td>\n",
              "    </tr>\n",
              "    <tr>\n",
              "      <th>25</th>\n",
              "      <td>hashottuborspa</td>\n",
              "      <td>object</td>\n",
              "    </tr>\n",
              "    <tr>\n",
              "      <th>26</th>\n",
              "      <td>heatingorsystemtypeid</td>\n",
              "      <td>float64</td>\n",
              "    </tr>\n",
              "    <tr>\n",
              "      <th>27</th>\n",
              "      <td>latitude</td>\n",
              "      <td>float64</td>\n",
              "    </tr>\n",
              "    <tr>\n",
              "      <th>28</th>\n",
              "      <td>longitude</td>\n",
              "      <td>float64</td>\n",
              "    </tr>\n",
              "    <tr>\n",
              "      <th>29</th>\n",
              "      <td>lotsizesquarefeet</td>\n",
              "      <td>float64</td>\n",
              "    </tr>\n",
              "    <tr>\n",
              "      <th>30</th>\n",
              "      <td>poolcnt</td>\n",
              "      <td>float64</td>\n",
              "    </tr>\n",
              "    <tr>\n",
              "      <th>31</th>\n",
              "      <td>poolsizesum</td>\n",
              "      <td>float64</td>\n",
              "    </tr>\n",
              "    <tr>\n",
              "      <th>32</th>\n",
              "      <td>pooltypeid10</td>\n",
              "      <td>float64</td>\n",
              "    </tr>\n",
              "    <tr>\n",
              "      <th>33</th>\n",
              "      <td>pooltypeid2</td>\n",
              "      <td>float64</td>\n",
              "    </tr>\n",
              "    <tr>\n",
              "      <th>34</th>\n",
              "      <td>pooltypeid7</td>\n",
              "      <td>float64</td>\n",
              "    </tr>\n",
              "    <tr>\n",
              "      <th>35</th>\n",
              "      <td>propertycountylandusecode</td>\n",
              "      <td>object</td>\n",
              "    </tr>\n",
              "    <tr>\n",
              "      <th>36</th>\n",
              "      <td>propertylandusetypeid</td>\n",
              "      <td>float64</td>\n",
              "    </tr>\n",
              "    <tr>\n",
              "      <th>37</th>\n",
              "      <td>propertyzoningdesc</td>\n",
              "      <td>object</td>\n",
              "    </tr>\n",
              "    <tr>\n",
              "      <th>38</th>\n",
              "      <td>rawcensustractandblock</td>\n",
              "      <td>float64</td>\n",
              "    </tr>\n",
              "    <tr>\n",
              "      <th>39</th>\n",
              "      <td>regionidcity</td>\n",
              "      <td>float64</td>\n",
              "    </tr>\n",
              "    <tr>\n",
              "      <th>40</th>\n",
              "      <td>regionidcounty</td>\n",
              "      <td>float64</td>\n",
              "    </tr>\n",
              "    <tr>\n",
              "      <th>41</th>\n",
              "      <td>regionidneighborhood</td>\n",
              "      <td>float64</td>\n",
              "    </tr>\n",
              "    <tr>\n",
              "      <th>42</th>\n",
              "      <td>regionidzip</td>\n",
              "      <td>float64</td>\n",
              "    </tr>\n",
              "    <tr>\n",
              "      <th>43</th>\n",
              "      <td>roomcnt</td>\n",
              "      <td>float64</td>\n",
              "    </tr>\n",
              "    <tr>\n",
              "      <th>44</th>\n",
              "      <td>storytypeid</td>\n",
              "      <td>float64</td>\n",
              "    </tr>\n",
              "    <tr>\n",
              "      <th>45</th>\n",
              "      <td>threequarterbathnbr</td>\n",
              "      <td>float64</td>\n",
              "    </tr>\n",
              "    <tr>\n",
              "      <th>46</th>\n",
              "      <td>typeconstructiontypeid</td>\n",
              "      <td>float64</td>\n",
              "    </tr>\n",
              "    <tr>\n",
              "      <th>47</th>\n",
              "      <td>unitcnt</td>\n",
              "      <td>float64</td>\n",
              "    </tr>\n",
              "    <tr>\n",
              "      <th>48</th>\n",
              "      <td>yardbuildingsqft17</td>\n",
              "      <td>float64</td>\n",
              "    </tr>\n",
              "    <tr>\n",
              "      <th>49</th>\n",
              "      <td>yardbuildingsqft26</td>\n",
              "      <td>float64</td>\n",
              "    </tr>\n",
              "    <tr>\n",
              "      <th>50</th>\n",
              "      <td>yearbuilt</td>\n",
              "      <td>float64</td>\n",
              "    </tr>\n",
              "    <tr>\n",
              "      <th>51</th>\n",
              "      <td>numberofstories</td>\n",
              "      <td>float64</td>\n",
              "    </tr>\n",
              "    <tr>\n",
              "      <th>52</th>\n",
              "      <td>fireplaceflag</td>\n",
              "      <td>object</td>\n",
              "    </tr>\n",
              "    <tr>\n",
              "      <th>53</th>\n",
              "      <td>structuretaxvaluedollarcnt</td>\n",
              "      <td>float64</td>\n",
              "    </tr>\n",
              "    <tr>\n",
              "      <th>54</th>\n",
              "      <td>taxvaluedollarcnt</td>\n",
              "      <td>float64</td>\n",
              "    </tr>\n",
              "    <tr>\n",
              "      <th>55</th>\n",
              "      <td>assessmentyear</td>\n",
              "      <td>float64</td>\n",
              "    </tr>\n",
              "    <tr>\n",
              "      <th>56</th>\n",
              "      <td>landtaxvaluedollarcnt</td>\n",
              "      <td>float64</td>\n",
              "    </tr>\n",
              "    <tr>\n",
              "      <th>57</th>\n",
              "      <td>taxamount</td>\n",
              "      <td>float64</td>\n",
              "    </tr>\n",
              "    <tr>\n",
              "      <th>58</th>\n",
              "      <td>taxdelinquencyflag</td>\n",
              "      <td>object</td>\n",
              "    </tr>\n",
              "    <tr>\n",
              "      <th>59</th>\n",
              "      <td>taxdelinquencyyear</td>\n",
              "      <td>float64</td>\n",
              "    </tr>\n",
              "    <tr>\n",
              "      <th>60</th>\n",
              "      <td>censustractandblock</td>\n",
              "      <td>float64</td>\n",
              "    </tr>\n",
              "  </tbody>\n",
              "</table>\n",
              "</div>"
            ],
            "text/plain": [
              "                       Attribute       Data type\n",
              "0                       parcelid           int64\n",
              "1                       logerror         float64\n",
              "2                transactiondate  datetime64[ns]\n",
              "3              transaction_month           int64\n",
              "4          airconditioningtypeid         float64\n",
              "5       architecturalstyletypeid         float64\n",
              "6                   basementsqft         float64\n",
              "7                    bathroomcnt         float64\n",
              "8                     bedroomcnt         float64\n",
              "9            buildingclasstypeid         float64\n",
              "10         buildingqualitytypeid         float64\n",
              "11             calculatedbathnbr         float64\n",
              "12                    decktypeid         float64\n",
              "13      finishedfloor1squarefeet         float64\n",
              "14  calculatedfinishedsquarefeet         float64\n",
              "15          finishedsquarefeet12         float64\n",
              "16          finishedsquarefeet13         float64\n",
              "17          finishedsquarefeet15         float64\n",
              "18          finishedsquarefeet50         float64\n",
              "19           finishedsquarefeet6         float64\n",
              "20                          fips         float64\n",
              "21                  fireplacecnt         float64\n",
              "22                   fullbathcnt         float64\n",
              "23                  garagecarcnt         float64\n",
              "24               garagetotalsqft         float64\n",
              "25                hashottuborspa          object\n",
              "26         heatingorsystemtypeid         float64\n",
              "27                      latitude         float64\n",
              "28                     longitude         float64\n",
              "29             lotsizesquarefeet         float64\n",
              "30                       poolcnt         float64\n",
              "31                   poolsizesum         float64\n",
              "32                  pooltypeid10         float64\n",
              "33                   pooltypeid2         float64\n",
              "34                   pooltypeid7         float64\n",
              "35     propertycountylandusecode          object\n",
              "36         propertylandusetypeid         float64\n",
              "37            propertyzoningdesc          object\n",
              "38        rawcensustractandblock         float64\n",
              "39                  regionidcity         float64\n",
              "40                regionidcounty         float64\n",
              "41          regionidneighborhood         float64\n",
              "42                   regionidzip         float64\n",
              "43                       roomcnt         float64\n",
              "44                   storytypeid         float64\n",
              "45           threequarterbathnbr         float64\n",
              "46        typeconstructiontypeid         float64\n",
              "47                       unitcnt         float64\n",
              "48            yardbuildingsqft17         float64\n",
              "49            yardbuildingsqft26         float64\n",
              "50                     yearbuilt         float64\n",
              "51               numberofstories         float64\n",
              "52                 fireplaceflag          object\n",
              "53    structuretaxvaluedollarcnt         float64\n",
              "54             taxvaluedollarcnt         float64\n",
              "55                assessmentyear         float64\n",
              "56         landtaxvaluedollarcnt         float64\n",
              "57                     taxamount         float64\n",
              "58            taxdelinquencyflag          object\n",
              "59            taxdelinquencyyear         float64\n",
              "60           censustractandblock         float64"
            ]
          },
          "metadata": {
            "tags": []
          },
          "execution_count": 17
        }
      ]
    },
    {
      "cell_type": "code",
      "metadata": {
        "id": "wVNkswNyI0AR",
        "outputId": "75028181-8c58-4939-c831-06acadd63674",
        "colab": {
          "base_uri": "https://localhost:8080/",
          "height": 173
        }
      },
      "source": [
        "dtype_df.groupby('Data type').aggregate('count').reset_index()"
      ],
      "execution_count": 18,
      "outputs": [
        {
          "output_type": "execute_result",
          "data": {
            "text/html": [
              "<div>\n",
              "<style scoped>\n",
              "    .dataframe tbody tr th:only-of-type {\n",
              "        vertical-align: middle;\n",
              "    }\n",
              "\n",
              "    .dataframe tbody tr th {\n",
              "        vertical-align: top;\n",
              "    }\n",
              "\n",
              "    .dataframe thead th {\n",
              "        text-align: right;\n",
              "    }\n",
              "</style>\n",
              "<table border=\"1\" class=\"dataframe\">\n",
              "  <thead>\n",
              "    <tr style=\"text-align: right;\">\n",
              "      <th></th>\n",
              "      <th>Data type</th>\n",
              "      <th>Attribute</th>\n",
              "    </tr>\n",
              "  </thead>\n",
              "  <tbody>\n",
              "    <tr>\n",
              "      <th>0</th>\n",
              "      <td>int64</td>\n",
              "      <td>2</td>\n",
              "    </tr>\n",
              "    <tr>\n",
              "      <th>1</th>\n",
              "      <td>float64</td>\n",
              "      <td>53</td>\n",
              "    </tr>\n",
              "    <tr>\n",
              "      <th>2</th>\n",
              "      <td>datetime64[ns]</td>\n",
              "      <td>1</td>\n",
              "    </tr>\n",
              "    <tr>\n",
              "      <th>3</th>\n",
              "      <td>object</td>\n",
              "      <td>5</td>\n",
              "    </tr>\n",
              "  </tbody>\n",
              "</table>\n",
              "</div>"
            ],
            "text/plain": [
              "        Data type  Attribute\n",
              "0           int64          2\n",
              "1         float64         53\n",
              "2  datetime64[ns]          1\n",
              "3          object          5"
            ]
          },
          "metadata": {
            "tags": []
          },
          "execution_count": 18
        }
      ]
    },
    {
      "cell_type": "markdown",
      "metadata": {
        "id": "pO3fGAlyI79u"
      },
      "source": [
        "### missing data"
      ]
    },
    {
      "cell_type": "code",
      "metadata": {
        "id": "eIrz7-nCI5Q6"
      },
      "source": [
        "# get missing data from combined dataset\n",
        "missing_df = train_df.isnull().sum(axis=0).reset_index()\n",
        "missing_df.columns = ['column_name', 'missing_count']\n",
        "missing_df['missing_ratio'] = missing_df['missing_count'] / train_df.shape[0]"
      ],
      "execution_count": 19,
      "outputs": []
    },
    {
      "cell_type": "code",
      "metadata": {
        "id": "K61cKZaaJNpU",
        "outputId": "57ac5e6b-5912-4647-ff1d-f92ad3f4b781",
        "colab": {
          "base_uri": "https://localhost:8080/",
          "height": 669
        }
      },
      "source": [
        "# show cols with over 90% missing data\n",
        "missing_df.loc[missing_df['missing_ratio'] > 0.9]"
      ],
      "execution_count": 20,
      "outputs": [
        {
          "output_type": "execute_result",
          "data": {
            "text/html": [
              "<div>\n",
              "<style scoped>\n",
              "    .dataframe tbody tr th:only-of-type {\n",
              "        vertical-align: middle;\n",
              "    }\n",
              "\n",
              "    .dataframe tbody tr th {\n",
              "        vertical-align: top;\n",
              "    }\n",
              "\n",
              "    .dataframe thead th {\n",
              "        text-align: right;\n",
              "    }\n",
              "</style>\n",
              "<table border=\"1\" class=\"dataframe\">\n",
              "  <thead>\n",
              "    <tr style=\"text-align: right;\">\n",
              "      <th></th>\n",
              "      <th>column_name</th>\n",
              "      <th>missing_count</th>\n",
              "      <th>missing_ratio</th>\n",
              "    </tr>\n",
              "  </thead>\n",
              "  <tbody>\n",
              "    <tr>\n",
              "      <th>5</th>\n",
              "      <td>architecturalstyletypeid</td>\n",
              "      <td>90014</td>\n",
              "      <td>0.997109</td>\n",
              "    </tr>\n",
              "    <tr>\n",
              "      <th>6</th>\n",
              "      <td>basementsqft</td>\n",
              "      <td>90232</td>\n",
              "      <td>0.999524</td>\n",
              "    </tr>\n",
              "    <tr>\n",
              "      <th>9</th>\n",
              "      <td>buildingclasstypeid</td>\n",
              "      <td>90259</td>\n",
              "      <td>0.999823</td>\n",
              "    </tr>\n",
              "    <tr>\n",
              "      <th>12</th>\n",
              "      <td>decktypeid</td>\n",
              "      <td>89617</td>\n",
              "      <td>0.992711</td>\n",
              "    </tr>\n",
              "    <tr>\n",
              "      <th>13</th>\n",
              "      <td>finishedfloor1squarefeet</td>\n",
              "      <td>83419</td>\n",
              "      <td>0.924054</td>\n",
              "    </tr>\n",
              "    <tr>\n",
              "      <th>16</th>\n",
              "      <td>finishedsquarefeet13</td>\n",
              "      <td>90242</td>\n",
              "      <td>0.999634</td>\n",
              "    </tr>\n",
              "    <tr>\n",
              "      <th>17</th>\n",
              "      <td>finishedsquarefeet15</td>\n",
              "      <td>86711</td>\n",
              "      <td>0.960521</td>\n",
              "    </tr>\n",
              "    <tr>\n",
              "      <th>18</th>\n",
              "      <td>finishedsquarefeet50</td>\n",
              "      <td>83419</td>\n",
              "      <td>0.924054</td>\n",
              "    </tr>\n",
              "    <tr>\n",
              "      <th>19</th>\n",
              "      <td>finishedsquarefeet6</td>\n",
              "      <td>89854</td>\n",
              "      <td>0.995336</td>\n",
              "    </tr>\n",
              "    <tr>\n",
              "      <th>25</th>\n",
              "      <td>hashottuborspa</td>\n",
              "      <td>87910</td>\n",
              "      <td>0.973802</td>\n",
              "    </tr>\n",
              "    <tr>\n",
              "      <th>31</th>\n",
              "      <td>poolsizesum</td>\n",
              "      <td>89306</td>\n",
              "      <td>0.989266</td>\n",
              "    </tr>\n",
              "    <tr>\n",
              "      <th>32</th>\n",
              "      <td>pooltypeid10</td>\n",
              "      <td>89114</td>\n",
              "      <td>0.987139</td>\n",
              "    </tr>\n",
              "    <tr>\n",
              "      <th>33</th>\n",
              "      <td>pooltypeid2</td>\n",
              "      <td>89071</td>\n",
              "      <td>0.986663</td>\n",
              "    </tr>\n",
              "    <tr>\n",
              "      <th>44</th>\n",
              "      <td>storytypeid</td>\n",
              "      <td>90232</td>\n",
              "      <td>0.999524</td>\n",
              "    </tr>\n",
              "    <tr>\n",
              "      <th>46</th>\n",
              "      <td>typeconstructiontypeid</td>\n",
              "      <td>89976</td>\n",
              "      <td>0.996688</td>\n",
              "    </tr>\n",
              "    <tr>\n",
              "      <th>48</th>\n",
              "      <td>yardbuildingsqft17</td>\n",
              "      <td>87629</td>\n",
              "      <td>0.970690</td>\n",
              "    </tr>\n",
              "    <tr>\n",
              "      <th>49</th>\n",
              "      <td>yardbuildingsqft26</td>\n",
              "      <td>90180</td>\n",
              "      <td>0.998948</td>\n",
              "    </tr>\n",
              "    <tr>\n",
              "      <th>52</th>\n",
              "      <td>fireplaceflag</td>\n",
              "      <td>90053</td>\n",
              "      <td>0.997541</td>\n",
              "    </tr>\n",
              "    <tr>\n",
              "      <th>58</th>\n",
              "      <td>taxdelinquencyflag</td>\n",
              "      <td>88492</td>\n",
              "      <td>0.980249</td>\n",
              "    </tr>\n",
              "    <tr>\n",
              "      <th>59</th>\n",
              "      <td>taxdelinquencyyear</td>\n",
              "      <td>88492</td>\n",
              "      <td>0.980249</td>\n",
              "    </tr>\n",
              "  </tbody>\n",
              "</table>\n",
              "</div>"
            ],
            "text/plain": [
              "                 column_name  missing_count  missing_ratio\n",
              "5   architecturalstyletypeid          90014       0.997109\n",
              "6               basementsqft          90232       0.999524\n",
              "9        buildingclasstypeid          90259       0.999823\n",
              "12                decktypeid          89617       0.992711\n",
              "13  finishedfloor1squarefeet          83419       0.924054\n",
              "16      finishedsquarefeet13          90242       0.999634\n",
              "17      finishedsquarefeet15          86711       0.960521\n",
              "18      finishedsquarefeet50          83419       0.924054\n",
              "19       finishedsquarefeet6          89854       0.995336\n",
              "25            hashottuborspa          87910       0.973802\n",
              "31               poolsizesum          89306       0.989266\n",
              "32              pooltypeid10          89114       0.987139\n",
              "33               pooltypeid2          89071       0.986663\n",
              "44               storytypeid          90232       0.999524\n",
              "46    typeconstructiontypeid          89976       0.996688\n",
              "48        yardbuildingsqft17          87629       0.970690\n",
              "49        yardbuildingsqft26          90180       0.998948\n",
              "52             fireplaceflag          90053       0.997541\n",
              "58        taxdelinquencyflag          88492       0.980249\n",
              "59        taxdelinquencyyear          88492       0.980249"
            ]
          },
          "metadata": {
            "tags": []
          },
          "execution_count": 20
        }
      ]
    },
    {
      "cell_type": "code",
      "metadata": {
        "id": "q2-gMRSXJTo3",
        "outputId": "cb8bc816-a70a-4be0-ba0a-ed02826e7a4c",
        "colab": {
          "base_uri": "https://localhost:8080/",
          "height": 359
        }
      },
      "source": [
        "missing_df.loc[missing_df['missing_ratio'] > 0.99]"
      ],
      "execution_count": 21,
      "outputs": [
        {
          "output_type": "execute_result",
          "data": {
            "text/html": [
              "<div>\n",
              "<style scoped>\n",
              "    .dataframe tbody tr th:only-of-type {\n",
              "        vertical-align: middle;\n",
              "    }\n",
              "\n",
              "    .dataframe tbody tr th {\n",
              "        vertical-align: top;\n",
              "    }\n",
              "\n",
              "    .dataframe thead th {\n",
              "        text-align: right;\n",
              "    }\n",
              "</style>\n",
              "<table border=\"1\" class=\"dataframe\">\n",
              "  <thead>\n",
              "    <tr style=\"text-align: right;\">\n",
              "      <th></th>\n",
              "      <th>column_name</th>\n",
              "      <th>missing_count</th>\n",
              "      <th>missing_ratio</th>\n",
              "    </tr>\n",
              "  </thead>\n",
              "  <tbody>\n",
              "    <tr>\n",
              "      <th>5</th>\n",
              "      <td>architecturalstyletypeid</td>\n",
              "      <td>90014</td>\n",
              "      <td>0.997109</td>\n",
              "    </tr>\n",
              "    <tr>\n",
              "      <th>6</th>\n",
              "      <td>basementsqft</td>\n",
              "      <td>90232</td>\n",
              "      <td>0.999524</td>\n",
              "    </tr>\n",
              "    <tr>\n",
              "      <th>9</th>\n",
              "      <td>buildingclasstypeid</td>\n",
              "      <td>90259</td>\n",
              "      <td>0.999823</td>\n",
              "    </tr>\n",
              "    <tr>\n",
              "      <th>12</th>\n",
              "      <td>decktypeid</td>\n",
              "      <td>89617</td>\n",
              "      <td>0.992711</td>\n",
              "    </tr>\n",
              "    <tr>\n",
              "      <th>16</th>\n",
              "      <td>finishedsquarefeet13</td>\n",
              "      <td>90242</td>\n",
              "      <td>0.999634</td>\n",
              "    </tr>\n",
              "    <tr>\n",
              "      <th>19</th>\n",
              "      <td>finishedsquarefeet6</td>\n",
              "      <td>89854</td>\n",
              "      <td>0.995336</td>\n",
              "    </tr>\n",
              "    <tr>\n",
              "      <th>44</th>\n",
              "      <td>storytypeid</td>\n",
              "      <td>90232</td>\n",
              "      <td>0.999524</td>\n",
              "    </tr>\n",
              "    <tr>\n",
              "      <th>46</th>\n",
              "      <td>typeconstructiontypeid</td>\n",
              "      <td>89976</td>\n",
              "      <td>0.996688</td>\n",
              "    </tr>\n",
              "    <tr>\n",
              "      <th>49</th>\n",
              "      <td>yardbuildingsqft26</td>\n",
              "      <td>90180</td>\n",
              "      <td>0.998948</td>\n",
              "    </tr>\n",
              "    <tr>\n",
              "      <th>52</th>\n",
              "      <td>fireplaceflag</td>\n",
              "      <td>90053</td>\n",
              "      <td>0.997541</td>\n",
              "    </tr>\n",
              "  </tbody>\n",
              "</table>\n",
              "</div>"
            ],
            "text/plain": [
              "                 column_name  missing_count  missing_ratio\n",
              "5   architecturalstyletypeid          90014       0.997109\n",
              "6               basementsqft          90232       0.999524\n",
              "9        buildingclasstypeid          90259       0.999823\n",
              "12                decktypeid          89617       0.992711\n",
              "16      finishedsquarefeet13          90242       0.999634\n",
              "19       finishedsquarefeet6          89854       0.995336\n",
              "44               storytypeid          90232       0.999524\n",
              "46    typeconstructiontypeid          89976       0.996688\n",
              "49        yardbuildingsqft26          90180       0.998948\n",
              "52             fireplaceflag          90053       0.997541"
            ]
          },
          "metadata": {
            "tags": []
          },
          "execution_count": 21
        }
      ]
    },
    {
      "cell_type": "code",
      "metadata": {
        "id": "c-ztHqOXozv0"
      },
      "source": [
        "train_df_new = missing_df.loc[missing_df['missing_ratio'] > 0.99]"
      ],
      "execution_count": 22,
      "outputs": []
    },
    {
      "cell_type": "code",
      "metadata": {
        "id": "Y3HhyNNcaxAS",
        "outputId": "3de8a8a2-0a26-4b60-8c35-6fc3b5456763",
        "colab": {
          "base_uri": "https://localhost:8080/"
        }
      },
      "source": [
        "train_df_new.isna().sum()"
      ],
      "execution_count": 23,
      "outputs": [
        {
          "output_type": "execute_result",
          "data": {
            "text/plain": [
              "column_name      0\n",
              "missing_count    0\n",
              "missing_ratio    0\n",
              "dtype: int64"
            ]
          },
          "metadata": {
            "tags": []
          },
          "execution_count": 23
        }
      ]
    },
    {
      "cell_type": "code",
      "metadata": {
        "id": "_GpNlcPPJUl-",
        "outputId": "9a37573f-bdf1-4ff0-8cbd-a332a9b4d99a",
        "colab": {
          "base_uri": "https://localhost:8080/"
        }
      },
      "source": [
        "# mean_values = train_df.mean(axis=0)\n",
        "mean_values = train_df.median(axis=0)\n",
        "train_df_new = train_df.fillna(mean_values)"
      ],
      "execution_count": 24,
      "outputs": [
        {
          "output_type": "stream",
          "text": [
            "/usr/local/lib/python3.6/dist-packages/ipykernel_launcher.py:2: FutureWarning: DataFrame.mean and DataFrame.median with numeric_only=None will include datetime64 and datetime64tz columns in a future version.\n",
            "  \n"
          ],
          "name": "stderr"
        }
      ]
    },
    {
      "cell_type": "code",
      "metadata": {
        "id": "EDiSIdTMJiXC",
        "outputId": "a89973d5-24e6-4a75-bd27-1248b7b56dc9",
        "colab": {
          "base_uri": "https://localhost:8080/"
        }
      },
      "source": [
        "# get correlations of each attribute\n",
        "\n",
        "x_cols = [col for col in train_df_new.columns if col not in ['logerror'] if train_df_new[col].dtype=='float64']\n",
        "\n",
        "labels = []\n",
        "vals = []\n",
        "\n",
        "for col in x_cols:\n",
        "  labels.append(col)\n",
        "  vals.append(np.corrcoef(train_df_new[col].values, train_df_new['logerror'].values)[0,1])\n",
        "\n",
        "corr_df = pd.DataFrame({\n",
        "    'col_labels':labels,\n",
        "    'corr_values': vals\n",
        "})\n",
        "corr_df = corr_df.sort_values(by='corr_values')"
      ],
      "execution_count": 25,
      "outputs": [
        {
          "output_type": "stream",
          "text": [
            "/usr/local/lib/python3.6/dist-packages/numpy/lib/function_base.py:2534: RuntimeWarning: invalid value encountered in true_divide\n",
            "  c /= stddev[:, None]\n",
            "/usr/local/lib/python3.6/dist-packages/numpy/lib/function_base.py:2535: RuntimeWarning: invalid value encountered in true_divide\n",
            "  c /= stddev[None, :]\n"
          ],
          "name": "stderr"
        }
      ]
    },
    {
      "cell_type": "code",
      "metadata": {
        "id": "K-_ycwV9KHQ8",
        "outputId": "3ea32ba3-42dd-454e-f6ce-4dce04f6d724",
        "colab": {
          "base_uri": "https://localhost:8080/",
          "height": 1000
        }
      },
      "source": [
        "index = np.arange(len(labels))\n",
        "width = 0.9\n",
        "fig, ax = plt.subplots(figsize=(10,30))\n",
        "rectangles = ax.barh(index, np.array(corr_df.corr_values.values), color='green')\n",
        "ax.set_yticks(index)\n",
        "ax.set_yticklabels(corr_df.col_labels.values, rotation='horizontal')\n",
        "ax.set_xlabel('Correlation coefficient')\n",
        "ax.set_title('Correlation coefficient of the attributes')\n",
        "plt.show()"
      ],
      "execution_count": 26,
      "outputs": [
        {
          "output_type": "display_data",
          "data": {
            "image/png": "[encoded data removed]",
            "text/plain": [
              "<Figure size 720x2160 with 1 Axes>"
            ]
          },
          "metadata": {
            "tags": [],
            "needs_background": "light"
          }
        }
      ]
    },
    {
      "cell_type": "code",
      "metadata": {
        "id": "Bs8bTR3VLhn9",
        "outputId": "02f20634-a941-48be-f7ff-62831641ecab",
        "colab": {
          "base_uri": "https://localhost:8080/"
        }
      },
      "source": [
        "# the attributes that dont have a corr only have 1 unique value\n",
        "corr_zero_cols = ['assessmentyear', 'storytypeid', 'pooltypeid2', 'pooltypeid7', 'pooltypeid10', 'poolcnt', 'decktypeid', 'buildingclasstypeid']\n",
        "for col in corr_zero_cols:\n",
        "    print(col, len(train_df_new[col].unique()))"
      ],
      "execution_count": 27,
      "outputs": [
        {
          "output_type": "stream",
          "text": [
            "assessmentyear 1\n",
            "storytypeid 1\n",
            "pooltypeid2 1\n",
            "pooltypeid7 1\n",
            "pooltypeid10 1\n",
            "poolcnt 1\n",
            "decktypeid 1\n",
            "buildingclasstypeid 1\n"
          ],
          "name": "stdout"
        }
      ]
    },
    {
      "cell_type": "code",
      "metadata": {
        "id": "JxRDFtxhLhgG",
        "outputId": "772cc4ef-0543-426f-d623-4fb629488c7d",
        "colab": {
          "base_uri": "https://localhost:8080/",
          "height": 297
        }
      },
      "source": [
        "# high correlation attributes\n",
        "corr_df_sel = corr_df.loc[(corr_df['corr_values'] > 0.02) | (corr_df['corr_values'] < -0.01)]\n",
        "corr_df_sel"
      ],
      "execution_count": 28,
      "outputs": [
        {
          "output_type": "execute_result",
          "data": {
            "text/html": [
              "<div>\n",
              "<style scoped>\n",
              "    .dataframe tbody tr th:only-of-type {\n",
              "        vertical-align: middle;\n",
              "    }\n",
              "\n",
              "    .dataframe tbody tr th {\n",
              "        vertical-align: top;\n",
              "    }\n",
              "\n",
              "    .dataframe thead th {\n",
              "        text-align: right;\n",
              "    }\n",
              "</style>\n",
              "<table border=\"1\" class=\"dataframe\">\n",
              "  <thead>\n",
              "    <tr style=\"text-align: right;\">\n",
              "      <th></th>\n",
              "      <th>col_labels</th>\n",
              "      <th>corr_values</th>\n",
              "    </tr>\n",
              "  </thead>\n",
              "  <tbody>\n",
              "    <tr>\n",
              "      <th>21</th>\n",
              "      <td>heatingorsystemtypeid</td>\n",
              "      <td>-0.019586</td>\n",
              "    </tr>\n",
              "    <tr>\n",
              "      <th>45</th>\n",
              "      <td>structuretaxvaluedollarcnt</td>\n",
              "      <td>0.022264</td>\n",
              "    </tr>\n",
              "    <tr>\n",
              "      <th>4</th>\n",
              "      <td>bedroomcnt</td>\n",
              "      <td>0.025467</td>\n",
              "    </tr>\n",
              "    <tr>\n",
              "      <th>3</th>\n",
              "      <td>bathroomcnt</td>\n",
              "      <td>0.027889</td>\n",
              "    </tr>\n",
              "    <tr>\n",
              "      <th>18</th>\n",
              "      <td>fullbathcnt</td>\n",
              "      <td>0.028197</td>\n",
              "    </tr>\n",
              "    <tr>\n",
              "      <th>7</th>\n",
              "      <td>calculatedbathnbr</td>\n",
              "      <td>0.028788</td>\n",
              "    </tr>\n",
              "    <tr>\n",
              "      <th>10</th>\n",
              "      <td>calculatedfinishedsquarefeet</td>\n",
              "      <td>0.038488</td>\n",
              "    </tr>\n",
              "    <tr>\n",
              "      <th>11</th>\n",
              "      <td>finishedsquarefeet12</td>\n",
              "      <td>0.039694</td>\n",
              "    </tr>\n",
              "  </tbody>\n",
              "</table>\n",
              "</div>"
            ],
            "text/plain": [
              "                      col_labels  corr_values\n",
              "21         heatingorsystemtypeid    -0.019586\n",
              "45    structuretaxvaluedollarcnt     0.022264\n",
              "4                     bedroomcnt     0.025467\n",
              "3                    bathroomcnt     0.027889\n",
              "18                   fullbathcnt     0.028197\n",
              "7              calculatedbathnbr     0.028788\n",
              "10  calculatedfinishedsquarefeet     0.038488\n",
              "11          finishedsquarefeet12     0.039694"
            ]
          },
          "metadata": {
            "tags": []
          },
          "execution_count": 28
        }
      ]
    },
    {
      "cell_type": "code",
      "metadata": {
        "id": "RH0q3u2DL22G",
        "outputId": "c2f468ba-a655-4c62-87ad-ee8d674213b1",
        "colab": {
          "base_uri": "https://localhost:8080/",
          "height": 484
        }
      },
      "source": [
        "# heatmap of attribute correlations\n",
        "cols_to_use = corr_df_sel['col_labels'].tolist()\n",
        "temp_df = train_df_new[cols_to_use]\n",
        "corr_matrix = temp_df.corr(method='spearman')\n",
        "\n",
        "fig, ax = plt.subplots(figsize=(6,6))\n",
        "sns.heatmap(corr_matrix, vmax=1, square=True, cmap=\"YlGnBu\")\n",
        "plt.title('High correlation attributes')\n",
        "plt.show()"
      ],
      "execution_count": 29,
      "outputs": [
        {
          "output_type": "display_data",
          "data": {
            "image/png": "[encoded data removed]",
            "text/plain": [
              "<Figure size 432x432 with 2 Axes>"
            ]
          },
          "metadata": {
            "tags": [],
            "needs_background": "light"
          }
        }
      ]
    },
    {
      "cell_type": "code",
      "metadata": {
        "id": "Frh1tP5VMhX8",
        "outputId": "fda036a3-db1d-4e64-b4e5-43a930fc34b0",
        "colab": {
          "base_uri": "https://localhost:8080/",
          "height": 404
        }
      },
      "source": [
        "# distribution of the number of bathrooms\n",
        "plt.figure(figsize=(10,6))\n",
        "sns.countplot(x='bathroomcnt', data=train_df_new)\n",
        "plt.xlabel('# of bathrooms')\n",
        "plt.ylabel('Count')\n",
        "plt.title('Distribution of bathrooms')\n",
        "plt.show()"
      ],
      "execution_count": 30,
      "outputs": [
        {
          "output_type": "display_data",
          "data": {
            "image/png": "[encoded data removed]",
            "text/plain": [
              "<Figure size 720x432 with 1 Axes>"
            ]
          },
          "metadata": {
            "tags": [],
            "needs_background": "light"
          }
        }
      ]
    },
    {
      "cell_type": "code",
      "metadata": {
        "id": "PgEZNUN-NVDB",
        "outputId": "b8a7a9a1-b491-4486-bdf5-ea9b8bb46c6c",
        "colab": {
          "base_uri": "https://localhost:8080/",
          "height": 404
        }
      },
      "source": [
        "# distribution of the number of bedrooms\n",
        "plt.figure(figsize=(10,6))\n",
        "sns.countplot(x='bedroomcnt', data=train_df_new)\n",
        "plt.xlabel('# of bedrooms')\n",
        "plt.ylabel('Count')\n",
        "plt.title('Distribution of bedrooms')\n",
        "plt.show()"
      ],
      "execution_count": 31,
      "outputs": [
        {
          "output_type": "display_data",
          "data": {
            "image/png": "[encoded data removed]",
            "text/plain": [
              "<Figure size 720x432 with 1 Axes>"
            ]
          },
          "metadata": {
            "tags": [],
            "needs_background": "light"
          }
        }
      ]
    },
    {
      "cell_type": "code",
      "metadata": {
        "id": "AZtkDNQ2OFdQ",
        "outputId": "bd66d84f-9c7f-4c92-8017-8c4f6946273f",
        "colab": {
          "base_uri": "https://localhost:8080/",
          "height": 224
        }
      },
      "source": [
        "train_df_new.head()"
      ],
      "execution_count": 32,
      "outputs": [
        {
          "output_type": "execute_result",
          "data": {
            "text/html": [
              "<div>\n",
              "<style scoped>\n",
              "    .dataframe tbody tr th:only-of-type {\n",
              "        vertical-align: middle;\n",
              "    }\n",
              "\n",
              "    .dataframe tbody tr th {\n",
              "        vertical-align: top;\n",
              "    }\n",
              "\n",
              "    .dataframe thead th {\n",
              "        text-align: right;\n",
              "    }\n",
              "</style>\n",
              "<table border=\"1\" class=\"dataframe\">\n",
              "  <thead>\n",
              "    <tr style=\"text-align: right;\">\n",
              "      <th></th>\n",
              "      <th>parcelid</th>\n",
              "      <th>logerror</th>\n",
              "      <th>transactiondate</th>\n",
              "      <th>transaction_month</th>\n",
              "      <th>airconditioningtypeid</th>\n",
              "      <th>architecturalstyletypeid</th>\n",
              "      <th>basementsqft</th>\n",
              "      <th>bathroomcnt</th>\n",
              "      <th>bedroomcnt</th>\n",
              "      <th>buildingclasstypeid</th>\n",
              "      <th>buildingqualitytypeid</th>\n",
              "      <th>calculatedbathnbr</th>\n",
              "      <th>decktypeid</th>\n",
              "      <th>finishedfloor1squarefeet</th>\n",
              "      <th>calculatedfinishedsquarefeet</th>\n",
              "      <th>finishedsquarefeet12</th>\n",
              "      <th>finishedsquarefeet13</th>\n",
              "      <th>finishedsquarefeet15</th>\n",
              "      <th>finishedsquarefeet50</th>\n",
              "      <th>finishedsquarefeet6</th>\n",
              "      <th>fips</th>\n",
              "      <th>fireplacecnt</th>\n",
              "      <th>fullbathcnt</th>\n",
              "      <th>garagecarcnt</th>\n",
              "      <th>garagetotalsqft</th>\n",
              "      <th>hashottuborspa</th>\n",
              "      <th>heatingorsystemtypeid</th>\n",
              "      <th>latitude</th>\n",
              "      <th>longitude</th>\n",
              "      <th>lotsizesquarefeet</th>\n",
              "      <th>poolcnt</th>\n",
              "      <th>poolsizesum</th>\n",
              "      <th>pooltypeid10</th>\n",
              "      <th>pooltypeid2</th>\n",
              "      <th>pooltypeid7</th>\n",
              "      <th>propertycountylandusecode</th>\n",
              "      <th>propertylandusetypeid</th>\n",
              "      <th>propertyzoningdesc</th>\n",
              "      <th>rawcensustractandblock</th>\n",
              "      <th>regionidcity</th>\n",
              "      <th>regionidcounty</th>\n",
              "      <th>regionidneighborhood</th>\n",
              "      <th>regionidzip</th>\n",
              "      <th>roomcnt</th>\n",
              "      <th>storytypeid</th>\n",
              "      <th>threequarterbathnbr</th>\n",
              "      <th>typeconstructiontypeid</th>\n",
              "      <th>unitcnt</th>\n",
              "      <th>yardbuildingsqft17</th>\n",
              "      <th>yardbuildingsqft26</th>\n",
              "      <th>yearbuilt</th>\n",
              "      <th>numberofstories</th>\n",
              "      <th>fireplaceflag</th>\n",
              "      <th>structuretaxvaluedollarcnt</th>\n",
              "      <th>taxvaluedollarcnt</th>\n",
              "      <th>assessmentyear</th>\n",
              "      <th>landtaxvaluedollarcnt</th>\n",
              "      <th>taxamount</th>\n",
              "      <th>taxdelinquencyflag</th>\n",
              "      <th>taxdelinquencyyear</th>\n",
              "      <th>censustractandblock</th>\n",
              "    </tr>\n",
              "  </thead>\n",
              "  <tbody>\n",
              "    <tr>\n",
              "      <th>0</th>\n",
              "      <td>11016594</td>\n",
              "      <td>0.0276</td>\n",
              "      <td>2016-01-01</td>\n",
              "      <td>1</td>\n",
              "      <td>1.0</td>\n",
              "      <td>7.0</td>\n",
              "      <td>616.0</td>\n",
              "      <td>2.0</td>\n",
              "      <td>3.0</td>\n",
              "      <td>4.0</td>\n",
              "      <td>4.0</td>\n",
              "      <td>2.0</td>\n",
              "      <td>66.0</td>\n",
              "      <td>1244.0</td>\n",
              "      <td>1684.0</td>\n",
              "      <td>1684.0</td>\n",
              "      <td>1440.0</td>\n",
              "      <td>2104.5</td>\n",
              "      <td>1248.0</td>\n",
              "      <td>2028.0</td>\n",
              "      <td>6037.0</td>\n",
              "      <td>1.0</td>\n",
              "      <td>2.0</td>\n",
              "      <td>2.0</td>\n",
              "      <td>433.0</td>\n",
              "      <td>1</td>\n",
              "      <td>2.0</td>\n",
              "      <td>34280990.0</td>\n",
              "      <td>-118488536.0</td>\n",
              "      <td>7528.0</td>\n",
              "      <td>1.0</td>\n",
              "      <td>500.0</td>\n",
              "      <td>1.0</td>\n",
              "      <td>1.0</td>\n",
              "      <td>1.0</td>\n",
              "      <td>0100</td>\n",
              "      <td>261.0</td>\n",
              "      <td>LARS</td>\n",
              "      <td>6.037107e+07</td>\n",
              "      <td>12447.0</td>\n",
              "      <td>3101.0</td>\n",
              "      <td>31817.0</td>\n",
              "      <td>96370.0</td>\n",
              "      <td>0.0</td>\n",
              "      <td>7.0</td>\n",
              "      <td>1.0</td>\n",
              "      <td>6.0</td>\n",
              "      <td>1.0</td>\n",
              "      <td>259.5</td>\n",
              "      <td>159.0</td>\n",
              "      <td>1959.0</td>\n",
              "      <td>1.0</td>\n",
              "      <td>1</td>\n",
              "      <td>122754.0</td>\n",
              "      <td>360170.0</td>\n",
              "      <td>2015.0</td>\n",
              "      <td>237416.0</td>\n",
              "      <td>6735.88</td>\n",
              "      <td>NaN</td>\n",
              "      <td>14.0</td>\n",
              "      <td>6.037107e+13</td>\n",
              "    </tr>\n",
              "    <tr>\n",
              "      <th>1</th>\n",
              "      <td>14366692</td>\n",
              "      <td>-0.1684</td>\n",
              "      <td>2016-01-01</td>\n",
              "      <td>1</td>\n",
              "      <td>1.0</td>\n",
              "      <td>7.0</td>\n",
              "      <td>616.0</td>\n",
              "      <td>3.5</td>\n",
              "      <td>4.0</td>\n",
              "      <td>4.0</td>\n",
              "      <td>7.0</td>\n",
              "      <td>3.5</td>\n",
              "      <td>66.0</td>\n",
              "      <td>1244.0</td>\n",
              "      <td>2263.0</td>\n",
              "      <td>2263.0</td>\n",
              "      <td>1440.0</td>\n",
              "      <td>2104.5</td>\n",
              "      <td>1248.0</td>\n",
              "      <td>2028.0</td>\n",
              "      <td>6059.0</td>\n",
              "      <td>1.0</td>\n",
              "      <td>3.0</td>\n",
              "      <td>2.0</td>\n",
              "      <td>468.0</td>\n",
              "      <td>1</td>\n",
              "      <td>2.0</td>\n",
              "      <td>33668120.0</td>\n",
              "      <td>-117677556.0</td>\n",
              "      <td>3643.0</td>\n",
              "      <td>1.0</td>\n",
              "      <td>500.0</td>\n",
              "      <td>1.0</td>\n",
              "      <td>1.0</td>\n",
              "      <td>1.0</td>\n",
              "      <td>1</td>\n",
              "      <td>261.0</td>\n",
              "      <td>NaN</td>\n",
              "      <td>6.059052e+07</td>\n",
              "      <td>32380.0</td>\n",
              "      <td>1286.0</td>\n",
              "      <td>118887.0</td>\n",
              "      <td>96962.0</td>\n",
              "      <td>0.0</td>\n",
              "      <td>7.0</td>\n",
              "      <td>1.0</td>\n",
              "      <td>6.0</td>\n",
              "      <td>1.0</td>\n",
              "      <td>259.5</td>\n",
              "      <td>159.0</td>\n",
              "      <td>2014.0</td>\n",
              "      <td>1.0</td>\n",
              "      <td>1</td>\n",
              "      <td>346458.0</td>\n",
              "      <td>585529.0</td>\n",
              "      <td>2015.0</td>\n",
              "      <td>239071.0</td>\n",
              "      <td>10153.02</td>\n",
              "      <td>NaN</td>\n",
              "      <td>14.0</td>\n",
              "      <td>6.037615e+13</td>\n",
              "    </tr>\n",
              "    <tr>\n",
              "      <th>2</th>\n",
              "      <td>12098116</td>\n",
              "      <td>-0.0040</td>\n",
              "      <td>2016-01-01</td>\n",
              "      <td>1</td>\n",
              "      <td>1.0</td>\n",
              "      <td>7.0</td>\n",
              "      <td>616.0</td>\n",
              "      <td>3.0</td>\n",
              "      <td>2.0</td>\n",
              "      <td>4.0</td>\n",
              "      <td>4.0</td>\n",
              "      <td>3.0</td>\n",
              "      <td>66.0</td>\n",
              "      <td>1244.0</td>\n",
              "      <td>2217.0</td>\n",
              "      <td>2217.0</td>\n",
              "      <td>1440.0</td>\n",
              "      <td>2104.5</td>\n",
              "      <td>1248.0</td>\n",
              "      <td>2028.0</td>\n",
              "      <td>6037.0</td>\n",
              "      <td>1.0</td>\n",
              "      <td>3.0</td>\n",
              "      <td>2.0</td>\n",
              "      <td>433.0</td>\n",
              "      <td>1</td>\n",
              "      <td>2.0</td>\n",
              "      <td>34136312.0</td>\n",
              "      <td>-118175032.0</td>\n",
              "      <td>11423.0</td>\n",
              "      <td>1.0</td>\n",
              "      <td>500.0</td>\n",
              "      <td>1.0</td>\n",
              "      <td>1.0</td>\n",
              "      <td>1.0</td>\n",
              "      <td>0100</td>\n",
              "      <td>261.0</td>\n",
              "      <td>PSR6</td>\n",
              "      <td>6.037464e+07</td>\n",
              "      <td>47019.0</td>\n",
              "      <td>3101.0</td>\n",
              "      <td>275411.0</td>\n",
              "      <td>96293.0</td>\n",
              "      <td>0.0</td>\n",
              "      <td>7.0</td>\n",
              "      <td>1.0</td>\n",
              "      <td>6.0</td>\n",
              "      <td>1.0</td>\n",
              "      <td>259.5</td>\n",
              "      <td>159.0</td>\n",
              "      <td>1940.0</td>\n",
              "      <td>1.0</td>\n",
              "      <td>1</td>\n",
              "      <td>61994.0</td>\n",
              "      <td>119906.0</td>\n",
              "      <td>2015.0</td>\n",
              "      <td>57912.0</td>\n",
              "      <td>11484.48</td>\n",
              "      <td>NaN</td>\n",
              "      <td>14.0</td>\n",
              "      <td>6.037464e+13</td>\n",
              "    </tr>\n",
              "    <tr>\n",
              "      <th>3</th>\n",
              "      <td>12643413</td>\n",
              "      <td>0.0218</td>\n",
              "      <td>2016-01-02</td>\n",
              "      <td>1</td>\n",
              "      <td>1.0</td>\n",
              "      <td>7.0</td>\n",
              "      <td>616.0</td>\n",
              "      <td>2.0</td>\n",
              "      <td>2.0</td>\n",
              "      <td>4.0</td>\n",
              "      <td>4.0</td>\n",
              "      <td>2.0</td>\n",
              "      <td>66.0</td>\n",
              "      <td>1244.0</td>\n",
              "      <td>839.0</td>\n",
              "      <td>839.0</td>\n",
              "      <td>1440.0</td>\n",
              "      <td>2104.5</td>\n",
              "      <td>1248.0</td>\n",
              "      <td>2028.0</td>\n",
              "      <td>6037.0</td>\n",
              "      <td>1.0</td>\n",
              "      <td>2.0</td>\n",
              "      <td>2.0</td>\n",
              "      <td>433.0</td>\n",
              "      <td>1</td>\n",
              "      <td>2.0</td>\n",
              "      <td>33755800.0</td>\n",
              "      <td>-118309000.0</td>\n",
              "      <td>70859.0</td>\n",
              "      <td>1.0</td>\n",
              "      <td>500.0</td>\n",
              "      <td>1.0</td>\n",
              "      <td>1.0</td>\n",
              "      <td>1.0</td>\n",
              "      <td>010C</td>\n",
              "      <td>266.0</td>\n",
              "      <td>LAR3</td>\n",
              "      <td>6.037296e+07</td>\n",
              "      <td>12447.0</td>\n",
              "      <td>3101.0</td>\n",
              "      <td>54300.0</td>\n",
              "      <td>96222.0</td>\n",
              "      <td>0.0</td>\n",
              "      <td>7.0</td>\n",
              "      <td>1.0</td>\n",
              "      <td>6.0</td>\n",
              "      <td>1.0</td>\n",
              "      <td>259.5</td>\n",
              "      <td>159.0</td>\n",
              "      <td>1987.0</td>\n",
              "      <td>1.0</td>\n",
              "      <td>1</td>\n",
              "      <td>171518.0</td>\n",
              "      <td>244880.0</td>\n",
              "      <td>2015.0</td>\n",
              "      <td>73362.0</td>\n",
              "      <td>3048.74</td>\n",
              "      <td>NaN</td>\n",
              "      <td>14.0</td>\n",
              "      <td>6.037296e+13</td>\n",
              "    </tr>\n",
              "    <tr>\n",
              "      <th>4</th>\n",
              "      <td>14432541</td>\n",
              "      <td>-0.0050</td>\n",
              "      <td>2016-01-02</td>\n",
              "      <td>1</td>\n",
              "      <td>1.0</td>\n",
              "      <td>7.0</td>\n",
              "      <td>616.0</td>\n",
              "      <td>2.5</td>\n",
              "      <td>4.0</td>\n",
              "      <td>4.0</td>\n",
              "      <td>7.0</td>\n",
              "      <td>2.5</td>\n",
              "      <td>66.0</td>\n",
              "      <td>1244.0</td>\n",
              "      <td>2283.0</td>\n",
              "      <td>2283.0</td>\n",
              "      <td>1440.0</td>\n",
              "      <td>2104.5</td>\n",
              "      <td>1248.0</td>\n",
              "      <td>2028.0</td>\n",
              "      <td>6059.0</td>\n",
              "      <td>1.0</td>\n",
              "      <td>2.0</td>\n",
              "      <td>2.0</td>\n",
              "      <td>598.0</td>\n",
              "      <td>1</td>\n",
              "      <td>2.0</td>\n",
              "      <td>33485643.0</td>\n",
              "      <td>-117700234.0</td>\n",
              "      <td>6000.0</td>\n",
              "      <td>1.0</td>\n",
              "      <td>500.0</td>\n",
              "      <td>1.0</td>\n",
              "      <td>1.0</td>\n",
              "      <td>1.0</td>\n",
              "      <td>122</td>\n",
              "      <td>261.0</td>\n",
              "      <td>NaN</td>\n",
              "      <td>6.059042e+07</td>\n",
              "      <td>17686.0</td>\n",
              "      <td>1286.0</td>\n",
              "      <td>118887.0</td>\n",
              "      <td>96961.0</td>\n",
              "      <td>8.0</td>\n",
              "      <td>7.0</td>\n",
              "      <td>1.0</td>\n",
              "      <td>6.0</td>\n",
              "      <td>1.0</td>\n",
              "      <td>259.5</td>\n",
              "      <td>159.0</td>\n",
              "      <td>1981.0</td>\n",
              "      <td>2.0</td>\n",
              "      <td>1</td>\n",
              "      <td>169574.0</td>\n",
              "      <td>434551.0</td>\n",
              "      <td>2015.0</td>\n",
              "      <td>264977.0</td>\n",
              "      <td>5488.96</td>\n",
              "      <td>NaN</td>\n",
              "      <td>14.0</td>\n",
              "      <td>6.059042e+13</td>\n",
              "    </tr>\n",
              "  </tbody>\n",
              "</table>\n",
              "</div>"
            ],
            "text/plain": [
              "   parcelid  logerror  ... taxdelinquencyyear  censustractandblock\n",
              "0  11016594    0.0276  ...               14.0         6.037107e+13\n",
              "1  14366692   -0.1684  ...               14.0         6.037615e+13\n",
              "2  12098116   -0.0040  ...               14.0         6.037464e+13\n",
              "3  12643413    0.0218  ...               14.0         6.037296e+13\n",
              "4  14432541   -0.0050  ...               14.0         6.059042e+13\n",
              "\n",
              "[5 rows x 61 columns]"
            ]
          },
          "metadata": {
            "tags": []
          },
          "execution_count": 32
        }
      ]
    },
    {
      "cell_type": "code",
      "metadata": {
        "id": "JHis6BnLOTeJ",
        "outputId": "5d7a5193-cb2f-4f92-9174-4bec9d9eec14",
        "colab": {
          "base_uri": "https://localhost:8080/"
        }
      },
      "source": [
        "train_df_new.dtypes"
      ],
      "execution_count": 33,
      "outputs": [
        {
          "output_type": "execute_result",
          "data": {
            "text/plain": [
              "parcelid                                 int64\n",
              "logerror                               float64\n",
              "transactiondate                 datetime64[ns]\n",
              "transaction_month                        int64\n",
              "airconditioningtypeid                  float64\n",
              "architecturalstyletypeid               float64\n",
              "basementsqft                           float64\n",
              "bathroomcnt                            float64\n",
              "bedroomcnt                             float64\n",
              "buildingclasstypeid                    float64\n",
              "buildingqualitytypeid                  float64\n",
              "calculatedbathnbr                      float64\n",
              "decktypeid                             float64\n",
              "finishedfloor1squarefeet               float64\n",
              "calculatedfinishedsquarefeet           float64\n",
              "finishedsquarefeet12                   float64\n",
              "finishedsquarefeet13                   float64\n",
              "finishedsquarefeet15                   float64\n",
              "finishedsquarefeet50                   float64\n",
              "finishedsquarefeet6                    float64\n",
              "fips                                   float64\n",
              "fireplacecnt                           float64\n",
              "fullbathcnt                            float64\n",
              "garagecarcnt                           float64\n",
              "garagetotalsqft                        float64\n",
              "hashottuborspa                          object\n",
              "heatingorsystemtypeid                  float64\n",
              "latitude                               float64\n",
              "longitude                              float64\n",
              "lotsizesquarefeet                      float64\n",
              "poolcnt                                float64\n",
              "poolsizesum                            float64\n",
              "pooltypeid10                           float64\n",
              "pooltypeid2                            float64\n",
              "pooltypeid7                            float64\n",
              "propertycountylandusecode               object\n",
              "propertylandusetypeid                  float64\n",
              "propertyzoningdesc                      object\n",
              "rawcensustractandblock                 float64\n",
              "regionidcity                           float64\n",
              "regionidcounty                         float64\n",
              "regionidneighborhood                   float64\n",
              "regionidzip                            float64\n",
              "roomcnt                                float64\n",
              "storytypeid                            float64\n",
              "threequarterbathnbr                    float64\n",
              "typeconstructiontypeid                 float64\n",
              "unitcnt                                float64\n",
              "yardbuildingsqft17                     float64\n",
              "yardbuildingsqft26                     float64\n",
              "yearbuilt                              float64\n",
              "numberofstories                        float64\n",
              "fireplaceflag                           object\n",
              "structuretaxvaluedollarcnt             float64\n",
              "taxvaluedollarcnt                      float64\n",
              "assessmentyear                         float64\n",
              "landtaxvaluedollarcnt                  float64\n",
              "taxamount                              float64\n",
              "taxdelinquencyflag                      object\n",
              "taxdelinquencyyear                     float64\n",
              "censustractandblock                    float64\n",
              "dtype: object"
            ]
          },
          "metadata": {
            "tags": []
          },
          "execution_count": 33
        }
      ]
    },
    {
      "cell_type": "code",
      "metadata": {
        "id": "u6uIndsSOVr9",
        "outputId": "43824d4d-8b53-4889-c11e-6c9fc29842cd",
        "colab": {
          "base_uri": "https://localhost:8080/",
          "height": 204
        }
      },
      "source": [
        "train_df_new[['taxamount','landtaxvaluedollarcnt']].head()"
      ],
      "execution_count": 34,
      "outputs": [
        {
          "output_type": "execute_result",
          "data": {
            "text/html": [
              "<div>\n",
              "<style scoped>\n",
              "    .dataframe tbody tr th:only-of-type {\n",
              "        vertical-align: middle;\n",
              "    }\n",
              "\n",
              "    .dataframe tbody tr th {\n",
              "        vertical-align: top;\n",
              "    }\n",
              "\n",
              "    .dataframe thead th {\n",
              "        text-align: right;\n",
              "    }\n",
              "</style>\n",
              "<table border=\"1\" class=\"dataframe\">\n",
              "  <thead>\n",
              "    <tr style=\"text-align: right;\">\n",
              "      <th></th>\n",
              "      <th>taxamount</th>\n",
              "      <th>landtaxvaluedollarcnt</th>\n",
              "    </tr>\n",
              "  </thead>\n",
              "  <tbody>\n",
              "    <tr>\n",
              "      <th>0</th>\n",
              "      <td>6735.88</td>\n",
              "      <td>237416.0</td>\n",
              "    </tr>\n",
              "    <tr>\n",
              "      <th>1</th>\n",
              "      <td>10153.02</td>\n",
              "      <td>239071.0</td>\n",
              "    </tr>\n",
              "    <tr>\n",
              "      <th>2</th>\n",
              "      <td>11484.48</td>\n",
              "      <td>57912.0</td>\n",
              "    </tr>\n",
              "    <tr>\n",
              "      <th>3</th>\n",
              "      <td>3048.74</td>\n",
              "      <td>73362.0</td>\n",
              "    </tr>\n",
              "    <tr>\n",
              "      <th>4</th>\n",
              "      <td>5488.96</td>\n",
              "      <td>264977.0</td>\n",
              "    </tr>\n",
              "  </tbody>\n",
              "</table>\n",
              "</div>"
            ],
            "text/plain": [
              "   taxamount  landtaxvaluedollarcnt\n",
              "0    6735.88               237416.0\n",
              "1   10153.02               239071.0\n",
              "2   11484.48                57912.0\n",
              "3    3048.74                73362.0\n",
              "4    5488.96               264977.0"
            ]
          },
          "metadata": {
            "tags": []
          },
          "execution_count": 34
        }
      ]
    },
    {
      "cell_type": "code",
      "metadata": {
        "id": "p3VxmCc_dAeI",
        "outputId": "0bfae4fc-481a-4291-a82f-e71e35380c62",
        "colab": {
          "base_uri": "https://localhost:8080/"
        }
      },
      "source": [
        "train_df_new.mean()"
      ],
      "execution_count": 35,
      "outputs": [
        {
          "output_type": "stream",
          "text": [
            "/usr/local/lib/python3.6/dist-packages/ipykernel_launcher.py:1: FutureWarning: DataFrame.mean and DataFrame.median with numeric_only=None will include datetime64 and datetime64tz columns in a future version.\n",
            "  \"\"\"Entry point for launching an IPython kernel.\n"
          ],
          "name": "stderr"
        },
        {
          "output_type": "execute_result",
          "data": {
            "text/plain": [
              "parcelid                        1.298466e+07\n",
              "logerror                        1.145722e-02\n",
              "transaction_month               5.849848e+00\n",
              "airconditioningtypeid           1.260271e+00\n",
              "architecturalstyletypeid        7.000665e+00\n",
              "basementsqft                    6.160465e+02\n",
              "bathroomcnt                     2.279474e+00\n",
              "bedroomcnt                      3.031869e+00\n",
              "buildingclasstypeid             4.000000e+00\n",
              "buildingqualitytypeid           6.088408e+00\n",
              "calculatedbathnbr               2.305168e+00\n",
              "decktypeid                      6.600000e+01\n",
              "finishedfloor1squarefeet        1.251896e+03\n",
              "calculatedfinishedsquarefeet    1.771479e+03\n",
              "finishedsquarefeet12            1.733665e+03\n",
              "finishedsquarefeet13            1.439987e+03\n",
              "finishedsquarefeet15            2.115380e+03\n",
              "finishedsquarefeet50            1.256168e+03\n",
              "finishedsquarefeet6             2.029280e+03\n",
              "fips                            6.048871e+03\n",
              "fireplacecnt                    1.019994e+00\n",
              "fullbathcnt                     2.238073e+00\n",
              "garagecarcnt                    1.937657e+00\n",
              "garagetotalsqft                 4.039903e+02\n",
              "hashottuborspa                  1.000000e+00\n",
              "heatingorsystemtypeid           3.197065e+00\n",
              "latitude                        3.400541e+07\n",
              "longitude                      -1.181989e+08\n",
              "lotsizesquarefeet               2.664671e+04\n",
              "poolcnt                         1.000000e+00\n",
              "poolsizesum                     5.002128e+02\n",
              "pooltypeid10                    1.000000e+00\n",
              "pooltypeid2                     1.000000e+00\n",
              "pooltypeid7                     1.000000e+00\n",
              "propertylandusetypeid           2.618322e+02\n",
              "rawcensustractandblock          6.049179e+07\n",
              "regionidcity                    3.359070e+04\n",
              "regionidcounty                  2.525421e+03\n",
              "regionidneighborhood            1.475129e+05\n",
              "regionidzip                     9.658606e+04\n",
              "roomcnt                         1.478516e+00\n",
              "storytypeid                     7.000000e+00\n",
              "threequarterbathnbr             1.001163e+00\n",
              "typeconstructiontypeid          6.000033e+00\n",
              "unitcnt                         1.071371e+00\n",
              "yardbuildingsqft17              2.609843e+02\n",
              "yardbuildingsqft26              1.591607e+02\n",
              "yearbuilt                       1.968545e+03\n",
              "numberofstories                 1.100426e+00\n",
              "fireplaceflag                   1.000000e+00\n",
              "structuretaxvaluedollarcnt      1.798910e+05\n",
              "taxvaluedollarcnt               4.576714e+05\n",
              "assessmentyear                  2.015000e+03\n",
              "landtaxvaluedollarcnt           2.783344e+05\n",
              "taxamount                       5.983880e+03\n",
              "taxdelinquencyyear              1.398820e+01\n",
              "censustractandblock             6.049074e+13\n",
              "dtype: float64"
            ]
          },
          "metadata": {
            "tags": []
          },
          "execution_count": 35
        }
      ]
    },
    {
      "cell_type": "code",
      "metadata": {
        "id": "YQaW1jpsdCXd"
      },
      "source": [
        ""
      ],
      "execution_count": null,
      "outputs": []
    },
    {
      "cell_type": "markdown",
      "metadata": {
        "id": "-xW3jUD2UPgV"
      },
      "source": [
        "### normalize data"
      ]
    },
    {
      "cell_type": "code",
      "metadata": {
        "id": "W4kQUwpmOk8m",
        "outputId": "d916c6ed-4468-449f-f408-be5a29822b3f",
        "colab": {
          "base_uri": "https://localhost:8080/"
        }
      },
      "source": [
        "# we're only using these attributes because they're the most common ones\n",
        "features_to_include = [\n",
        "                       'bathroomcnt',\n",
        "                       'bedroomcnt',\n",
        "                       'calculatedfinishedsquarefeet',\n",
        "                       'latitude',\n",
        "                       'longitude',\n",
        "                       'numberofstories',\n",
        "                       'roomcnt',\n",
        "                       'yearbuilt',\n",
        "                       'landtaxvaluedollarcnt',\n",
        "]\n",
        "X = train_df_new[features_to_include]\n",
        "y = train_df_new['taxvaluedollarcnt']\n",
        "X.shape, y.shape"
      ],
      "execution_count": 36,
      "outputs": [
        {
          "output_type": "execute_result",
          "data": {
            "text/plain": [
              "((90275, 9), (90275,))"
            ]
          },
          "metadata": {
            "tags": []
          },
          "execution_count": 36
        }
      ]
    },
    {
      "cell_type": "code",
      "metadata": {
        "id": "fCKYHj8pRVts",
        "outputId": "be9a41ca-e147-48bf-b965-3beec7d78cd5",
        "colab": {
          "base_uri": "https://localhost:8080/",
          "height": 224
        }
      },
      "source": [
        "X.head()"
      ],
      "execution_count": 37,
      "outputs": [
        {
          "output_type": "execute_result",
          "data": {
            "text/html": [
              "<div>\n",
              "<style scoped>\n",
              "    .dataframe tbody tr th:only-of-type {\n",
              "        vertical-align: middle;\n",
              "    }\n",
              "\n",
              "    .dataframe tbody tr th {\n",
              "        vertical-align: top;\n",
              "    }\n",
              "\n",
              "    .dataframe thead th {\n",
              "        text-align: right;\n",
              "    }\n",
              "</style>\n",
              "<table border=\"1\" class=\"dataframe\">\n",
              "  <thead>\n",
              "    <tr style=\"text-align: right;\">\n",
              "      <th></th>\n",
              "      <th>bathroomcnt</th>\n",
              "      <th>bedroomcnt</th>\n",
              "      <th>calculatedfinishedsquarefeet</th>\n",
              "      <th>latitude</th>\n",
              "      <th>longitude</th>\n",
              "      <th>numberofstories</th>\n",
              "      <th>roomcnt</th>\n",
              "      <th>yearbuilt</th>\n",
              "      <th>landtaxvaluedollarcnt</th>\n",
              "    </tr>\n",
              "  </thead>\n",
              "  <tbody>\n",
              "    <tr>\n",
              "      <th>0</th>\n",
              "      <td>2.0</td>\n",
              "      <td>3.0</td>\n",
              "      <td>1684.0</td>\n",
              "      <td>34280990.0</td>\n",
              "      <td>-118488536.0</td>\n",
              "      <td>1.0</td>\n",
              "      <td>0.0</td>\n",
              "      <td>1959.0</td>\n",
              "      <td>237416.0</td>\n",
              "    </tr>\n",
              "    <tr>\n",
              "      <th>1</th>\n",
              "      <td>3.5</td>\n",
              "      <td>4.0</td>\n",
              "      <td>2263.0</td>\n",
              "      <td>33668120.0</td>\n",
              "      <td>-117677556.0</td>\n",
              "      <td>1.0</td>\n",
              "      <td>0.0</td>\n",
              "      <td>2014.0</td>\n",
              "      <td>239071.0</td>\n",
              "    </tr>\n",
              "    <tr>\n",
              "      <th>2</th>\n",
              "      <td>3.0</td>\n",
              "      <td>2.0</td>\n",
              "      <td>2217.0</td>\n",
              "      <td>34136312.0</td>\n",
              "      <td>-118175032.0</td>\n",
              "      <td>1.0</td>\n",
              "      <td>0.0</td>\n",
              "      <td>1940.0</td>\n",
              "      <td>57912.0</td>\n",
              "    </tr>\n",
              "    <tr>\n",
              "      <th>3</th>\n",
              "      <td>2.0</td>\n",
              "      <td>2.0</td>\n",
              "      <td>839.0</td>\n",
              "      <td>33755800.0</td>\n",
              "      <td>-118309000.0</td>\n",
              "      <td>1.0</td>\n",
              "      <td>0.0</td>\n",
              "      <td>1987.0</td>\n",
              "      <td>73362.0</td>\n",
              "    </tr>\n",
              "    <tr>\n",
              "      <th>4</th>\n",
              "      <td>2.5</td>\n",
              "      <td>4.0</td>\n",
              "      <td>2283.0</td>\n",
              "      <td>33485643.0</td>\n",
              "      <td>-117700234.0</td>\n",
              "      <td>2.0</td>\n",
              "      <td>8.0</td>\n",
              "      <td>1981.0</td>\n",
              "      <td>264977.0</td>\n",
              "    </tr>\n",
              "  </tbody>\n",
              "</table>\n",
              "</div>"
            ],
            "text/plain": [
              "   bathroomcnt  bedroomcnt  ...  yearbuilt  landtaxvaluedollarcnt\n",
              "0          2.0         3.0  ...     1959.0               237416.0\n",
              "1          3.5         4.0  ...     2014.0               239071.0\n",
              "2          3.0         2.0  ...     1940.0                57912.0\n",
              "3          2.0         2.0  ...     1987.0                73362.0\n",
              "4          2.5         4.0  ...     1981.0               264977.0\n",
              "\n",
              "[5 rows x 9 columns]"
            ]
          },
          "metadata": {
            "tags": []
          },
          "execution_count": 37
        }
      ]
    },
    {
      "cell_type": "code",
      "metadata": {
        "id": "s0ONZ6rpRiHx",
        "outputId": "535f1553-37d7-4b6a-fc83-491af34c10fa",
        "colab": {
          "base_uri": "https://localhost:8080/"
        }
      },
      "source": [
        "# the longitude and latitude are on the wrong scale (need to be normalized to real scale)\n",
        "X['latitude'] = X['latitude'] / 1000000\n",
        "X['longitude'] = X['longitude'] / 1000000"
      ],
      "execution_count": 38,
      "outputs": [
        {
          "output_type": "stream",
          "text": [
            "/usr/local/lib/python3.6/dist-packages/ipykernel_launcher.py:2: SettingWithCopyWarning: \n",
            "A value is trying to be set on a copy of a slice from a DataFrame.\n",
            "Try using .loc[row_indexer,col_indexer] = value instead\n",
            "\n",
            "See the caveats in the documentation: https://pandas.pydata.org/pandas-docs/stable/user_guide/indexing.html#returning-a-view-versus-a-copy\n",
            "  \n",
            "/usr/local/lib/python3.6/dist-packages/ipykernel_launcher.py:3: SettingWithCopyWarning: \n",
            "A value is trying to be set on a copy of a slice from a DataFrame.\n",
            "Try using .loc[row_indexer,col_indexer] = value instead\n",
            "\n",
            "See the caveats in the documentation: https://pandas.pydata.org/pandas-docs/stable/user_guide/indexing.html#returning-a-view-versus-a-copy\n",
            "  This is separate from the ipykernel package so we can avoid doing imports until\n"
          ],
          "name": "stderr"
        }
      ]
    },
    {
      "cell_type": "code",
      "metadata": {
        "id": "q4NyhJD8SoBw",
        "outputId": "46caaffb-9919-4a20-e2bc-fb3e5b04ccc3",
        "colab": {
          "base_uri": "https://localhost:8080/",
          "height": 224
        }
      },
      "source": [
        "X.head()"
      ],
      "execution_count": 39,
      "outputs": [
        {
          "output_type": "execute_result",
          "data": {
            "text/html": [
              "<div>\n",
              "<style scoped>\n",
              "    .dataframe tbody tr th:only-of-type {\n",
              "        vertical-align: middle;\n",
              "    }\n",
              "\n",
              "    .dataframe tbody tr th {\n",
              "        vertical-align: top;\n",
              "    }\n",
              "\n",
              "    .dataframe thead th {\n",
              "        text-align: right;\n",
              "    }\n",
              "</style>\n",
              "<table border=\"1\" class=\"dataframe\">\n",
              "  <thead>\n",
              "    <tr style=\"text-align: right;\">\n",
              "      <th></th>\n",
              "      <th>bathroomcnt</th>\n",
              "      <th>bedroomcnt</th>\n",
              "      <th>calculatedfinishedsquarefeet</th>\n",
              "      <th>latitude</th>\n",
              "      <th>longitude</th>\n",
              "      <th>numberofstories</th>\n",
              "      <th>roomcnt</th>\n",
              "      <th>yearbuilt</th>\n",
              "      <th>landtaxvaluedollarcnt</th>\n",
              "    </tr>\n",
              "  </thead>\n",
              "  <tbody>\n",
              "    <tr>\n",
              "      <th>0</th>\n",
              "      <td>2.0</td>\n",
              "      <td>3.0</td>\n",
              "      <td>1684.0</td>\n",
              "      <td>34.280990</td>\n",
              "      <td>-118.488536</td>\n",
              "      <td>1.0</td>\n",
              "      <td>0.0</td>\n",
              "      <td>1959.0</td>\n",
              "      <td>237416.0</td>\n",
              "    </tr>\n",
              "    <tr>\n",
              "      <th>1</th>\n",
              "      <td>3.5</td>\n",
              "      <td>4.0</td>\n",
              "      <td>2263.0</td>\n",
              "      <td>33.668120</td>\n",
              "      <td>-117.677556</td>\n",
              "      <td>1.0</td>\n",
              "      <td>0.0</td>\n",
              "      <td>2014.0</td>\n",
              "      <td>239071.0</td>\n",
              "    </tr>\n",
              "    <tr>\n",
              "      <th>2</th>\n",
              "      <td>3.0</td>\n",
              "      <td>2.0</td>\n",
              "      <td>2217.0</td>\n",
              "      <td>34.136312</td>\n",
              "      <td>-118.175032</td>\n",
              "      <td>1.0</td>\n",
              "      <td>0.0</td>\n",
              "      <td>1940.0</td>\n",
              "      <td>57912.0</td>\n",
              "    </tr>\n",
              "    <tr>\n",
              "      <th>3</th>\n",
              "      <td>2.0</td>\n",
              "      <td>2.0</td>\n",
              "      <td>839.0</td>\n",
              "      <td>33.755800</td>\n",
              "      <td>-118.309000</td>\n",
              "      <td>1.0</td>\n",
              "      <td>0.0</td>\n",
              "      <td>1987.0</td>\n",
              "      <td>73362.0</td>\n",
              "    </tr>\n",
              "    <tr>\n",
              "      <th>4</th>\n",
              "      <td>2.5</td>\n",
              "      <td>4.0</td>\n",
              "      <td>2283.0</td>\n",
              "      <td>33.485643</td>\n",
              "      <td>-117.700234</td>\n",
              "      <td>2.0</td>\n",
              "      <td>8.0</td>\n",
              "      <td>1981.0</td>\n",
              "      <td>264977.0</td>\n",
              "    </tr>\n",
              "  </tbody>\n",
              "</table>\n",
              "</div>"
            ],
            "text/plain": [
              "   bathroomcnt  bedroomcnt  ...  yearbuilt  landtaxvaluedollarcnt\n",
              "0          2.0         3.0  ...     1959.0               237416.0\n",
              "1          3.5         4.0  ...     2014.0               239071.0\n",
              "2          3.0         2.0  ...     1940.0                57912.0\n",
              "3          2.0         2.0  ...     1987.0                73362.0\n",
              "4          2.5         4.0  ...     1981.0               264977.0\n",
              "\n",
              "[5 rows x 9 columns]"
            ]
          },
          "metadata": {
            "tags": []
          },
          "execution_count": 39
        }
      ]
    },
    {
      "cell_type": "code",
      "metadata": {
        "id": "23AdUkACQiX7",
        "outputId": "7e517145-3b6b-499a-e6eb-5544fcef5583",
        "colab": {
          "base_uri": "https://localhost:8080/"
        }
      },
      "source": [
        "X.mean()"
      ],
      "execution_count": 40,
      "outputs": [
        {
          "output_type": "execute_result",
          "data": {
            "text/plain": [
              "bathroomcnt                          2.279474\n",
              "bedroomcnt                           3.031869\n",
              "calculatedfinishedsquarefeet      1771.478582\n",
              "latitude                            34.005411\n",
              "longitude                         -118.198868\n",
              "numberofstories                      1.100426\n",
              "roomcnt                              1.478516\n",
              "yearbuilt                         1968.545156\n",
              "landtaxvaluedollarcnt           278334.379407\n",
              "dtype: float64"
            ]
          },
          "metadata": {
            "tags": []
          },
          "execution_count": 40
        }
      ]
    },
    {
      "cell_type": "code",
      "metadata": {
        "id": "E8brPdd4SrhJ",
        "outputId": "afcd0eba-2973-4b4a-9d9a-fd11e6aed49d",
        "colab": {
          "base_uri": "https://localhost:8080/"
        }
      },
      "source": [
        "y.mean()"
      ],
      "execution_count": 41,
      "outputs": [
        {
          "output_type": "execute_result",
          "data": {
            "text/plain": [
              "457671.3556798671"
            ]
          },
          "metadata": {
            "tags": []
          },
          "execution_count": 41
        }
      ]
    },
    {
      "cell_type": "code",
      "metadata": {
        "id": "Qb4lzroeTCRX",
        "outputId": "35acfda9-6ea0-40e4-e585-8c56079adc7a",
        "colab": {
          "base_uri": "https://localhost:8080/"
        }
      },
      "source": [
        "# normalize using standard scaler\n",
        "from sklearn.preprocessing import StandardScaler\n",
        "\n",
        "sc = StandardScaler()\n",
        "X[features_to_include] = sc.fit_transform(X[features_to_include])"
      ],
      "execution_count": 42,
      "outputs": [
        {
          "output_type": "stream",
          "text": [
            "/usr/local/lib/python3.6/dist-packages/ipykernel_launcher.py:5: SettingWithCopyWarning: \n",
            "A value is trying to be set on a copy of a slice from a DataFrame.\n",
            "Try using .loc[row_indexer,col_indexer] = value instead\n",
            "\n",
            "See the caveats in the documentation: https://pandas.pydata.org/pandas-docs/stable/user_guide/indexing.html#returning-a-view-versus-a-copy\n",
            "  \"\"\"\n",
            "/usr/local/lib/python3.6/dist-packages/pandas/core/frame.py:3076: SettingWithCopyWarning: \n",
            "A value is trying to be set on a copy of a slice from a DataFrame\n",
            "\n",
            "See the caveats in the documentation: https://pandas.pydata.org/pandas-docs/stable/user_guide/indexing.html#returning-a-view-versus-a-copy\n",
            "  self.iloc._setitem_with_indexer((slice(None), indexer), value)\n",
            "/usr/local/lib/python3.6/dist-packages/pandas/core/frame.py:3041: SettingWithCopyWarning: \n",
            "A value is trying to be set on a copy of a slice from a DataFrame\n",
            "\n",
            "See the caveats in the documentation: https://pandas.pydata.org/pandas-docs/stable/user_guide/indexing.html#returning-a-view-versus-a-copy\n",
            "  self._setitem_array(key, value)\n"
          ],
          "name": "stderr"
        }
      ]
    },
    {
      "cell_type": "code",
      "metadata": {
        "id": "gKmSHi1_THCW",
        "outputId": "0d9f159d-6016-464b-b9f4-94f1597bf0bf",
        "colab": {
          "base_uri": "https://localhost:8080/",
          "height": 224
        }
      },
      "source": [
        "X.head()"
      ],
      "execution_count": 43,
      "outputs": [
        {
          "output_type": "execute_result",
          "data": {
            "text/html": [
              "<div>\n",
              "<style scoped>\n",
              "    .dataframe tbody tr th:only-of-type {\n",
              "        vertical-align: middle;\n",
              "    }\n",
              "\n",
              "    .dataframe tbody tr th {\n",
              "        vertical-align: top;\n",
              "    }\n",
              "\n",
              "    .dataframe thead th {\n",
              "        text-align: right;\n",
              "    }\n",
              "</style>\n",
              "<table border=\"1\" class=\"dataframe\">\n",
              "  <thead>\n",
              "    <tr style=\"text-align: right;\">\n",
              "      <th></th>\n",
              "      <th>bathroomcnt</th>\n",
              "      <th>bedroomcnt</th>\n",
              "      <th>calculatedfinishedsquarefeet</th>\n",
              "      <th>latitude</th>\n",
              "      <th>longitude</th>\n",
              "      <th>numberofstories</th>\n",
              "      <th>roomcnt</th>\n",
              "      <th>yearbuilt</th>\n",
              "      <th>landtaxvaluedollarcnt</th>\n",
              "    </tr>\n",
              "  </thead>\n",
              "  <tbody>\n",
              "    <tr>\n",
              "      <th>0</th>\n",
              "      <td>-0.278287</td>\n",
              "      <td>-0.027558</td>\n",
              "      <td>-0.094575</td>\n",
              "      <td>1.040064</td>\n",
              "      <td>-0.803291</td>\n",
              "      <td>-0.314867</td>\n",
              "      <td>-0.524369</td>\n",
              "      <td>-0.403362</td>\n",
              "      <td>-0.102171</td>\n",
              "    </tr>\n",
              "    <tr>\n",
              "      <th>1</th>\n",
              "      <td>1.215342</td>\n",
              "      <td>0.837173</td>\n",
              "      <td>0.531394</td>\n",
              "      <td>-1.272968</td>\n",
              "      <td>1.445675</td>\n",
              "      <td>-0.314867</td>\n",
              "      <td>-0.524369</td>\n",
              "      <td>1.920843</td>\n",
              "      <td>-0.098038</td>\n",
              "    </tr>\n",
              "    <tr>\n",
              "      <th>2</th>\n",
              "      <td>0.717466</td>\n",
              "      <td>-0.892289</td>\n",
              "      <td>0.481662</td>\n",
              "      <td>0.494034</td>\n",
              "      <td>0.066102</td>\n",
              "      <td>-0.314867</td>\n",
              "      <td>-0.524369</td>\n",
              "      <td>-1.206269</td>\n",
              "      <td>-0.550380</td>\n",
              "    </tr>\n",
              "    <tr>\n",
              "      <th>3</th>\n",
              "      <td>-0.278287</td>\n",
              "      <td>-0.892289</td>\n",
              "      <td>-1.008121</td>\n",
              "      <td>-0.942055</td>\n",
              "      <td>-0.305411</td>\n",
              "      <td>-0.314867</td>\n",
              "      <td>-0.524369</td>\n",
              "      <td>0.779870</td>\n",
              "      <td>-0.511803</td>\n",
              "    </tr>\n",
              "    <tr>\n",
              "      <th>4</th>\n",
              "      <td>0.219590</td>\n",
              "      <td>0.837173</td>\n",
              "      <td>0.553016</td>\n",
              "      <td>-1.961655</td>\n",
              "      <td>1.382786</td>\n",
              "      <td>2.820431</td>\n",
              "      <td>2.312902</td>\n",
              "      <td>0.526320</td>\n",
              "      <td>-0.033352</td>\n",
              "    </tr>\n",
              "  </tbody>\n",
              "</table>\n",
              "</div>"
            ],
            "text/plain": [
              "   bathroomcnt  bedroomcnt  ...  yearbuilt  landtaxvaluedollarcnt\n",
              "0    -0.278287   -0.027558  ...  -0.403362              -0.102171\n",
              "1     1.215342    0.837173  ...   1.920843              -0.098038\n",
              "2     0.717466   -0.892289  ...  -1.206269              -0.550380\n",
              "3    -0.278287   -0.892289  ...   0.779870              -0.511803\n",
              "4     0.219590    0.837173  ...   0.526320              -0.033352\n",
              "\n",
              "[5 rows x 9 columns]"
            ]
          },
          "metadata": {
            "tags": []
          },
          "execution_count": 43
        }
      ]
    },
    {
      "cell_type": "markdown",
      "metadata": {
        "id": "ZzHsolEpi1w9"
      },
      "source": [
        "## **Models**"
      ]
    },
    {
      "cell_type": "markdown",
      "metadata": {
        "id": "WUstxKjLUKRs"
      },
      "source": [
        "**Linear Regression**"
      ]
    },
    {
      "cell_type": "code",
      "metadata": {
        "id": "8FJwZ8WwOHIS",
        "outputId": "23a8e4c0-a612-474d-bb6a-4be2901552d8",
        "colab": {
          "base_uri": "https://localhost:8080/"
        }
      },
      "source": [
        "from sklearn.model_selection import train_test_split\n",
        "from sklearn.linear_model import LinearRegression\n",
        "\n",
        "X_train, X_test, y_train, y_test = train_test_split(X, y, test_size=0.1, random_state=1)\n",
        "X_train.shape, y_train.shape, X_test.shape, y_test.shape"
      ],
      "execution_count": null,
      "outputs": [
        {
          "output_type": "execute_result",
          "data": {
            "text/plain": [
              "((81247, 9), (81247,), (9028, 9), (9028,))"
            ]
          },
          "metadata": {
            "tags": []
          },
          "execution_count": 49
        }
      ]
    },
    {
      "cell_type": "code",
      "metadata": {
        "id": "nrwsUHIaYX-m"
      },
      "source": [
        "X_test.sample(frac=0.5, axis=0).to_csv('/content/drive/My Drive/CMPE 255 Project/test_data_subset.csv')"
      ],
      "execution_count": null,
      "outputs": []
    },
    {
      "cell_type": "code",
      "metadata": {
        "id": "85cQe5jkO4qt",
        "outputId": "97598deb-90b3-4468-8c4c-6abdf6a44108",
        "colab": {
          "base_uri": "https://localhost:8080/"
        }
      },
      "source": [
        "model = LinearRegression()\n",
        "model.fit(X_train, y_train)\n",
        "\n",
        "print('score on training data: ', model.score(X_train, y_train))\n",
        "print('score on test data: ', model.score(X_test, y_test))"
      ],
      "execution_count": null,
      "outputs": [
        {
          "output_type": "stream",
          "text": [
            "score on training data:  0.9532716361803213\n",
            "score on test data:  0.9478817914657729\n"
          ],
          "name": "stdout"
        }
      ]
    },
    {
      "cell_type": "code",
      "metadata": {
        "id": "f9QcuYGzO-L7",
        "outputId": "a129c6fe-7fd8-4bdf-a1ca-e1b4bcc50336",
        "colab": {
          "base_uri": "https://localhost:8080/"
        }
      },
      "source": [
        "test_data = np.array([[2, 6, 1290, 33.4, -117, 2, 5, 1990, 280300]])\n",
        "normalized_test_data = sc.transform(test_data)\n",
        "# test_data = sc.transform(test_data)\n",
        "pred = model.predict(normalized_test_data)\n",
        "pred"
      ],
      "execution_count": null,
      "outputs": [
        {
          "output_type": "execute_result",
          "data": {
            "text/plain": [
              "array([272560.34259633])"
            ]
          },
          "metadata": {
            "tags": []
          },
          "execution_count": 51
        }
      ]
    },
    {
      "cell_type": "code",
      "metadata": {
        "id": "1KR_fkELQUyS"
      },
      "source": [
        "# write linear model to file\n",
        "\n",
        "# linear_model_file = \"/content/drive/My Drive/CMPE 255 Project/linear_model_updated.pkl\"\n",
        "# with open(linear_model_file, 'wb') as file:\n",
        "#     pickle.dump(model, file)"
      ],
      "execution_count": null,
      "outputs": []
    },
    {
      "cell_type": "code",
      "metadata": {
        "id": "2JNE2e5aegrr"
      },
      "source": [
        "# write standard scaler to file\n",
        "\n",
        "# scaler_file = \"/content/drive/My Drive/CMPE 255 Project/standard_scaler.pkl\"\n",
        "# with open(scaler_file, 'wb') as file:\n",
        "#     pickle.dump(sc, file)"
      ],
      "execution_count": null,
      "outputs": []
    },
    {
      "cell_type": "code",
      "metadata": {
        "id": "UCr9rfoFf_-v"
      },
      "source": [
        ""
      ],
      "execution_count": null,
      "outputs": []
    },
    {
      "cell_type": "code",
      "metadata": {
        "id": "syOl8uAOuPKg"
      },
      "source": [
        "import collections\n",
        "from sklearn import metrics\n",
        "import matplotlib.pyplot as plt\n",
        "\n",
        "models_info = collections.defaultdict(dict)"
      ],
      "execution_count": null,
      "outputs": []
    },
    {
      "cell_type": "markdown",
      "metadata": {
        "id": "GUKnI2NUTA6z"
      },
      "source": [
        "Linear model evaluation metrics"
      ]
    },
    {
      "cell_type": "code",
      "metadata": {
        "id": "z2Y7ZYIetWMd",
        "outputId": "eca844fc-c692-45bf-cd18-ee638a2e54ff",
        "colab": {
          "base_uri": "https://localhost:8080/"
        }
      },
      "source": [
        "predicted_price = model.predict(X_test)\n",
        "\n",
        "models_info[\"LinearRegression\"][\"RMSE\"] = np.sqrt(metrics.mean_squared_error(y_test, predicted_price))\n",
        "models_info[\"LinearRegression\"][\"MSE\"] = metrics.mean_squared_error(y_test, predicted_price)\n",
        "models_info[\"LinearRegression\"][\"MAE\"] = metrics.mean_absolute_error(y_test, predicted_price)\n",
        "models_info[\"LinearRegression\"][\"R2_TRAIN\"] = model.score(X_train, y_train)\n",
        "models_info[\"LinearRegression\"][\"R2_TEST\"] = model.score(X_test, y_test)\n",
        "\n",
        "print('R2 score on training data: ', models_info[\"LinearRegression\"][\"R2_TRAIN\"])\n",
        "print('R2 score on test data: ', models_info[\"LinearRegression\"][\"R2_TEST\"])\n",
        "print('Mean Absolute Error:', models_info[\"LinearRegression\"][\"MAE\"])  \n",
        "print('Mean Squared Error:', models_info[\"LinearRegression\"][\"MSE\"]) \n",
        "print('Root Mean Squared Error:', models_info[\"LinearRegression\"][\"RMSE\"])"
      ],
      "execution_count": null,
      "outputs": [
        {
          "output_type": "stream",
          "text": [
            "R2 score on training data:  0.9532716361803213\n",
            "R2 score on test data:  0.9478817914657729\n",
            "Mean Absolute Error: 62074.06165778232\n",
            "Mean Squared Error: 15918035023.524109\n",
            "Root Mean Squared Error: 126166.69538164226\n"
          ],
          "name": "stdout"
        }
      ]
    },
    {
      "cell_type": "markdown",
      "metadata": {
        "id": "UcZEz2YstfEi"
      },
      "source": [
        "**Lasso**"
      ]
    },
    {
      "cell_type": "code",
      "metadata": {
        "id": "zH0BT_8Ptc6s",
        "outputId": "0282abab-dcc6-4ded-83b9-8ffa9d5aa5af",
        "colab": {
          "base_uri": "https://localhost:8080/"
        }
      },
      "source": [
        "from sklearn.linear_model import Lasso\n",
        "\n",
        "model = Lasso()\n",
        "model.fit(X_train, y_train)\n",
        "predicted_price = model.predict(X_test)\n",
        "\n",
        "models_info[\"Lasso\"][\"RMSE\"] = np.sqrt(metrics.mean_squared_error(y_test, predicted_price))\n",
        "models_info[\"Lasso\"][\"MSE\"] = metrics.mean_squared_error(y_test, predicted_price)\n",
        "models_info[\"Lasso\"][\"MAE\"] = metrics.mean_absolute_error(y_test, predicted_price)\n",
        "models_info[\"Lasso\"][\"R2_TRAIN\"] = model.score(X_train, y_train)\n",
        "models_info[\"Lasso\"][\"R2_TEST\"] = model.score(X_test, y_test)\n",
        "\n",
        "print('R2 score on training data: ', models_info[\"Lasso\"][\"R2_TRAIN\"])\n",
        "print('R2 score on test data: ', models_info[\"Lasso\"][\"R2_TEST\"])\n",
        "print('Mean Absolute Error:', models_info[\"Lasso\"][\"MAE\"])  \n",
        "print('Mean Squared Error:', models_info[\"Lasso\"][\"MSE\"]) \n",
        "print('Root Mean Squared Error:', models_info[\"Lasso\"][\"RMSE\"])"
      ],
      "execution_count": null,
      "outputs": [
        {
          "output_type": "stream",
          "text": [
            "R2 score on training data:  0.9532716361354674\n",
            "R2 score on test data:  0.9478816447135566\n",
            "Mean Absolute Error: 62073.547977862654\n",
            "Mean Squared Error: 15918079844.844341\n",
            "Root Mean Squared Error: 126166.87300890175\n"
          ],
          "name": "stdout"
        }
      ]
    },
    {
      "cell_type": "markdown",
      "metadata": {
        "id": "P9rrejCTtmNh"
      },
      "source": [
        "**Linear** **SVR**"
      ]
    },
    {
      "cell_type": "code",
      "metadata": {
        "id": "rv7K-_IRtqiM",
        "outputId": "eca04f6b-8396-4db0-ba0b-72e3bf2ea13d",
        "colab": {
          "base_uri": "https://localhost:8080/"
        }
      },
      "source": [
        "from sklearn.svm import LinearSVR\n",
        "\n",
        "model = LinearSVR()\n",
        "model.fit(X_train, y_train)\n",
        "predicted_price = model.predict(X_test)\n",
        "\n",
        "models_info[\"LinearSVR\"][\"RMSE\"] = np.sqrt(metrics.mean_squared_error(y_test, predicted_price))\n",
        "models_info[\"LinearSVR\"][\"MSE\"] = metrics.mean_squared_error(y_test, predicted_price)\n",
        "models_info[\"LinearSVR\"][\"MAE\"] = metrics.mean_absolute_error(y_test, predicted_price)\n",
        "models_info[\"LinearSVR\"][\"R2_TRAIN\"] = model.score(X_train, y_train)\n",
        "models_info[\"LinearSVR\"][\"R2_TEST\"] = model.score(X_test, y_test)\n",
        "\n",
        "print('R2 score on training data: ', models_info[\"LinearSVR\"][\"R2_TRAIN\"])\n",
        "print('R2 score on test data: ', models_info[\"LinearSVR\"][\"R2_TEST\"])\n",
        "print('Mean Absolute Error:', models_info[\"LinearSVR\"][\"MAE\"])  \n",
        "print('Mean Squared Error:', models_info[\"LinearSVR\"][\"MSE\"]) \n",
        "print('Root Mean Squared Error:', models_info[\"LinearSVR\"][\"RMSE\"])"
      ],
      "execution_count": null,
      "outputs": [
        {
          "output_type": "stream",
          "text": [
            "R2 score on training data:  -0.43886770275431286\n",
            "R2 score on test data:  -0.46208415711342976\n",
            "Mean Absolute Error: 391697.5244137599\n",
            "Mean Squared Error: 446552317794.789\n",
            "Root Mean Squared Error: 668245.7016657788\n"
          ],
          "name": "stdout"
        }
      ]
    },
    {
      "cell_type": "markdown",
      "metadata": {
        "id": "7xoiAKaXtwQT"
      },
      "source": [
        "**ElasticNetCV**"
      ]
    },
    {
      "cell_type": "code",
      "metadata": {
        "id": "lyXR7fytt1gw",
        "outputId": "71cca8db-b867-44f9-a576-519fbf4419bc",
        "colab": {
          "base_uri": "https://localhost:8080/"
        }
      },
      "source": [
        "from sklearn.linear_model import ElasticNetCV\n",
        "\n",
        "model = ElasticNetCV()\n",
        "model.fit(X_train, y_train)\n",
        "predicted_price = model.predict(X_test)\n",
        "\n",
        "models_info[\"ElasticNetCV\"][\"RMSE\"] = np.sqrt(metrics.mean_squared_error(y_test, predicted_price))\n",
        "models_info[\"ElasticNetCV\"][\"MSE\"] = metrics.mean_squared_error(y_test, predicted_price)\n",
        "models_info[\"ElasticNetCV\"][\"MAE\"] = metrics.mean_absolute_error(y_test, predicted_price)\n",
        "models_info[\"ElasticNetCV\"][\"R2_TRAIN\"] = model.score(X_train, y_train)\n",
        "models_info[\"ElasticNetCV\"][\"R2_TEST\"] = model.score(X_test, y_test)\n",
        "\n",
        "print('R2 score on training data: ', models_info[\"ElasticNetCV\"][\"R2_TRAIN\"])\n",
        "print('R2 score on test data: ', models_info[\"ElasticNetCV\"][\"R2_TEST\"])\n",
        "print('Mean Absolute Error:', models_info[\"ElasticNetCV\"][\"MAE\"])  \n",
        "print('Mean Squared Error:', models_info[\"ElasticNetCV\"][\"MSE\"]) \n",
        "print('Root Mean Squared Error:', models_info[\"ElasticNetCV\"][\"RMSE\"])"
      ],
      "execution_count": null,
      "outputs": [
        {
          "output_type": "stream",
          "text": [
            "R2 score on training data:  0.0059412017407392\n",
            "R2 score on test data:  0.005707508952307205\n",
            "Mean Absolute Error: 287230.45686582325\n",
            "Mean Squared Error: 303678563428.17584\n",
            "Root Mean Squared Error: 551070.3797412594\n"
          ],
          "name": "stdout"
        }
      ]
    },
    {
      "cell_type": "markdown",
      "metadata": {
        "id": "0w-mGO9wt3YG"
      },
      "source": [
        "**RidgeCV**"
      ]
    },
    {
      "cell_type": "code",
      "metadata": {
        "id": "YQ3VRtGEt7zo",
        "outputId": "4c32441c-e4f1-4ef6-c5d6-dc13a6674a13",
        "colab": {
          "base_uri": "https://localhost:8080/"
        }
      },
      "source": [
        "from sklearn.linear_model import RidgeCV\n",
        "\n",
        "model = RidgeCV()\n",
        "model.fit(X_train, y_train)\n",
        "predicted_price = model.predict(X_test)\n",
        "\n",
        "models_info[\"RidgeCV\"][\"RMSE\"] = np.sqrt(metrics.mean_squared_error(y_test, predicted_price))\n",
        "models_info[\"RidgeCV\"][\"MSE\"] = metrics.mean_squared_error(y_test, predicted_price)\n",
        "models_info[\"RidgeCV\"][\"MAE\"] = metrics.mean_absolute_error(y_test, predicted_price)\n",
        "models_info[\"RidgeCV\"][\"R2_TRAIN\"] = model.score(X_train, y_train)\n",
        "models_info[\"RidgeCV\"][\"R2_TEST\"] = model.score(X_test, y_test)\n",
        "\n",
        "print('R2 score on training data: ', models_info[\"RidgeCV\"][\"R2_TRAIN\"])\n",
        "print('R2 score on test data: ', models_info[\"RidgeCV\"][\"R2_TEST\"])\n",
        "print('Mean Absolute Error:', models_info[\"RidgeCV\"][\"MAE\"])  \n",
        "print('Mean Squared Error:', models_info[\"RidgeCV\"][\"MSE\"]) \n",
        "print('Root Mean Squared Error:', models_info[\"RidgeCV\"][\"RMSE\"])"
      ],
      "execution_count": null,
      "outputs": [
        {
          "output_type": "stream",
          "text": [
            "R2 score on training data:  0.9532716230886248\n",
            "R2 score on test data:  0.9478806378807793\n",
            "Mean Absolute Error: 62070.91302712417\n",
            "Mean Squared Error: 15918387353.484184\n",
            "Root Mean Squared Error: 126168.09166141883\n"
          ],
          "name": "stdout"
        }
      ]
    },
    {
      "cell_type": "markdown",
      "metadata": {
        "id": "UjSOGvLFt_3Q"
      },
      "source": [
        "**Random Forest Regressor**"
      ]
    },
    {
      "cell_type": "code",
      "metadata": {
        "id": "EehM3IzeuEIS",
        "outputId": "53e3b028-ac1f-4dba-de20-8127afaf7e61",
        "colab": {
          "base_uri": "https://localhost:8080/"
        }
      },
      "source": [
        "from sklearn.ensemble import RandomForestRegressor\n",
        "\n",
        "model = RandomForestRegressor(n_estimators=1, max_depth=2, bootstrap=False, min_samples_leaf=1)\n",
        "model.fit(X_train, y_train)\n",
        "predicted_price = model.predict(X_test)\n",
        "\n",
        "models_info[\"RandomForestRegressor\"][\"RMSE\"] = np.sqrt(metrics.mean_squared_error(y_test, predicted_price))\n",
        "models_info[\"RandomForestRegressor\"][\"MSE\"] = metrics.mean_squared_error(y_test, predicted_price)\n",
        "models_info[\"RandomForestRegressor\"][\"MAE\"] = metrics.mean_absolute_error(y_test, predicted_price)\n",
        "models_info[\"RandomForestRegressor\"][\"R2_TRAIN\"] = model.score(X_train, y_train)\n",
        "models_info[\"RandomForestRegressor\"][\"R2_TEST\"] = model.score(X_test, y_test)\n",
        "\n",
        "print('R2 score on training data: ', models_info[\"RandomForestRegressor\"][\"R2_TRAIN\"])\n",
        "print('R2 score on test data: ', models_info[\"RandomForestRegressor\"][\"R2_TEST\"])\n",
        "print('Mean Absolute Error:', models_info[\"RandomForestRegressor\"][\"MAE\"])  \n",
        "print('Mean Squared Error:', models_info[\"RandomForestRegressor\"][\"MSE\"]) \n",
        "print('Root Mean Squared Error:', models_info[\"RandomForestRegressor\"][\"RMSE\"])"
      ],
      "execution_count": null,
      "outputs": [
        {
          "output_type": "stream",
          "text": [
            "R2 score on training data:  0.7111542916315077\n",
            "R2 score on test data:  0.7370619122732853\n",
            "Mean Absolute Error: 166156.3207837878\n",
            "Mean Squared Error: 80307013751.31909\n",
            "Root Mean Squared Error: 283384.92153133184\n"
          ],
          "name": "stdout"
        }
      ]
    },
    {
      "cell_type": "markdown",
      "metadata": {
        "id": "8X2SFxaiwrUX"
      },
      "source": [
        "**XGBoost**"
      ]
    },
    {
      "cell_type": "code",
      "metadata": {
        "id": "nmlHOgmszxS2",
        "outputId": "3456acda-f452-499a-fb73-8af18fb11739",
        "colab": {
          "base_uri": "https://localhost:8080/"
        }
      },
      "source": [
        "import xgboost as xgb\n",
        "\n",
        "X_train_xgb, X_test_xgb, y_train_xgb, y_test_xgb = train_test_split(X, y, test_size=0.2, random_state=1)\n",
        "\n",
        "reg_xgb = xgb.XGBRegressor(objective='reg:squarederror')\n",
        "reg_xgb.fit(X_train_xgb, \n",
        "            y_train_xgb, \n",
        "            verbose = True,\n",
        "            early_stopping_rounds = 10, \n",
        "            eval_metric = 'rmse',\n",
        "            eval_set=[(X_test_xgb, y_test_xgb)])\n"
      ],
      "execution_count": null,
      "outputs": [
        {
          "output_type": "stream",
          "text": [
            "[0]\tvalidation_0-rmse:658495\n",
            "Will train until validation_0-rmse hasn't improved in 10 rounds.\n",
            "[1]\tvalidation_0-rmse:600999\n",
            "[2]\tvalidation_0-rmse:547264\n",
            "[3]\tvalidation_0-rmse:501346\n",
            "[4]\tvalidation_0-rmse:460077\n",
            "[5]\tvalidation_0-rmse:423223\n",
            "[6]\tvalidation_0-rmse:390309\n",
            "[7]\tvalidation_0-rmse:360156\n",
            "[8]\tvalidation_0-rmse:333548\n",
            "[9]\tvalidation_0-rmse:309794\n",
            "[10]\tvalidation_0-rmse:288490\n",
            "[11]\tvalidation_0-rmse:269661\n",
            "[12]\tvalidation_0-rmse:253069\n",
            "[13]\tvalidation_0-rmse:237940\n",
            "[14]\tvalidation_0-rmse:224355\n",
            "[15]\tvalidation_0-rmse:213097\n",
            "[16]\tvalidation_0-rmse:202902\n",
            "[17]\tvalidation_0-rmse:192977\n",
            "[18]\tvalidation_0-rmse:184854\n",
            "[19]\tvalidation_0-rmse:177820\n",
            "[20]\tvalidation_0-rmse:171431\n",
            "[21]\tvalidation_0-rmse:165374\n",
            "[22]\tvalidation_0-rmse:160067\n",
            "[23]\tvalidation_0-rmse:155524\n",
            "[24]\tvalidation_0-rmse:150991\n",
            "[25]\tvalidation_0-rmse:147169\n",
            "[26]\tvalidation_0-rmse:144358\n",
            "[27]\tvalidation_0-rmse:140773\n",
            "[28]\tvalidation_0-rmse:138542\n",
            "[29]\tvalidation_0-rmse:135937\n",
            "[30]\tvalidation_0-rmse:133362\n",
            "[31]\tvalidation_0-rmse:131621\n",
            "[32]\tvalidation_0-rmse:129676\n",
            "[33]\tvalidation_0-rmse:128272\n",
            "[34]\tvalidation_0-rmse:126770\n",
            "[35]\tvalidation_0-rmse:125378\n",
            "[36]\tvalidation_0-rmse:124161\n",
            "[37]\tvalidation_0-rmse:123214\n",
            "[38]\tvalidation_0-rmse:122315\n",
            "[39]\tvalidation_0-rmse:121395\n",
            "[40]\tvalidation_0-rmse:120346\n",
            "[41]\tvalidation_0-rmse:119637\n",
            "[42]\tvalidation_0-rmse:119158\n",
            "[43]\tvalidation_0-rmse:118780\n",
            "[44]\tvalidation_0-rmse:117937\n",
            "[45]\tvalidation_0-rmse:117416\n",
            "[46]\tvalidation_0-rmse:116719\n",
            "[47]\tvalidation_0-rmse:116220\n",
            "[48]\tvalidation_0-rmse:115717\n",
            "[49]\tvalidation_0-rmse:115352\n",
            "[50]\tvalidation_0-rmse:114975\n",
            "[51]\tvalidation_0-rmse:114550\n",
            "[52]\tvalidation_0-rmse:114218\n",
            "[53]\tvalidation_0-rmse:113901\n",
            "[54]\tvalidation_0-rmse:113641\n",
            "[55]\tvalidation_0-rmse:113339\n",
            "[56]\tvalidation_0-rmse:113151\n",
            "[57]\tvalidation_0-rmse:113029\n",
            "[58]\tvalidation_0-rmse:112776\n",
            "[59]\tvalidation_0-rmse:112563\n",
            "[60]\tvalidation_0-rmse:112405\n",
            "[61]\tvalidation_0-rmse:112238\n",
            "[62]\tvalidation_0-rmse:112072\n",
            "[63]\tvalidation_0-rmse:111958\n",
            "[64]\tvalidation_0-rmse:111815\n",
            "[65]\tvalidation_0-rmse:111668\n",
            "[66]\tvalidation_0-rmse:111548\n",
            "[67]\tvalidation_0-rmse:111315\n",
            "[68]\tvalidation_0-rmse:111182\n",
            "[69]\tvalidation_0-rmse:110877\n",
            "[70]\tvalidation_0-rmse:110697\n",
            "[71]\tvalidation_0-rmse:110618\n",
            "[72]\tvalidation_0-rmse:110567\n",
            "[73]\tvalidation_0-rmse:110478\n",
            "[74]\tvalidation_0-rmse:110289\n",
            "[75]\tvalidation_0-rmse:110031\n",
            "[76]\tvalidation_0-rmse:110005\n",
            "[77]\tvalidation_0-rmse:109848\n",
            "[78]\tvalidation_0-rmse:109793\n",
            "[79]\tvalidation_0-rmse:109725\n",
            "[80]\tvalidation_0-rmse:109627\n",
            "[81]\tvalidation_0-rmse:109494\n",
            "[82]\tvalidation_0-rmse:109280\n",
            "[83]\tvalidation_0-rmse:109232\n",
            "[84]\tvalidation_0-rmse:109182\n",
            "[85]\tvalidation_0-rmse:109162\n",
            "[86]\tvalidation_0-rmse:109082\n",
            "[87]\tvalidation_0-rmse:109086\n",
            "[88]\tvalidation_0-rmse:109015\n",
            "[89]\tvalidation_0-rmse:108925\n",
            "[90]\tvalidation_0-rmse:108834\n",
            "[91]\tvalidation_0-rmse:108814\n",
            "[92]\tvalidation_0-rmse:108849\n",
            "[93]\tvalidation_0-rmse:108794\n",
            "[94]\tvalidation_0-rmse:108746\n",
            "[95]\tvalidation_0-rmse:108695\n",
            "[96]\tvalidation_0-rmse:108666\n",
            "[97]\tvalidation_0-rmse:108586\n",
            "[98]\tvalidation_0-rmse:108554\n",
            "[99]\tvalidation_0-rmse:108454\n"
          ],
          "name": "stdout"
        },
        {
          "output_type": "execute_result",
          "data": {
            "text/plain": [
              "XGBRegressor(base_score=0.5, booster='gbtree', colsample_bylevel=1,\n",
              "             colsample_bynode=1, colsample_bytree=1, gamma=0,\n",
              "             importance_type='gain', learning_rate=0.1, max_delta_step=0,\n",
              "             max_depth=3, min_child_weight=1, missing=None, n_estimators=100,\n",
              "             n_jobs=1, nthread=None, objective='reg:squarederror',\n",
              "             random_state=0, reg_alpha=0, reg_lambda=1, scale_pos_weight=1,\n",
              "             seed=None, silent=None, subsample=1, verbosity=1)"
            ]
          },
          "metadata": {
            "tags": []
          },
          "execution_count": 61
        }
      ]
    },
    {
      "cell_type": "code",
      "metadata": {
        "id": "xB5j8ukKPmA5",
        "outputId": "01a99621-96cd-4972-cba1-0489e0405920",
        "colab": {
          "base_uri": "https://localhost:8080/"
        }
      },
      "source": [
        "reg_xgb.score(X_test_xgb, y_test_xgb), reg_xgb.score(X_train_xgb, y_train_xgb)"
      ],
      "execution_count": null,
      "outputs": [
        {
          "output_type": "execute_result",
          "data": {
            "text/plain": [
              "(0.9618219262227173, 0.9717021344351593)"
            ]
          },
          "metadata": {
            "tags": []
          },
          "execution_count": 64
        }
      ]
    },
    {
      "cell_type": "code",
      "metadata": {
        "id": "K5tThHiS0RDb"
      },
      "source": [
        "# # Optimization\n",
        "import hyperopt\n",
        "from hyperopt import fmin, tpe, hp, STATUS_OK, Trials\n",
        "from sklearn.metrics import mean_squared_error\n",
        "from math import sqrt\n",
        "\n",
        "space_1={ 'max_depth': hp.quniform(\"max_depth\", 2, 9, 1),\n",
        "        'gamma': hp.uniform ('gamma', 0,9),\n",
        "        'reg_lambda' : hp.uniform('reg_lambda', 0,5),\n",
        "        'colsample_bytree' : hp.uniform('colsample_bytree', 0.3,0.8),\n",
        "        'learning_rate': hp.uniform('learning_rate', .01, .1),\n",
        "        'scale_pos_weight': hp.uniform('scale_pos_weight', 0, 10),\n",
        "        'subsample': hp.uniform('subsample', 0.8, 1),\n",
        "        'n_estimators' : hp.quniform('n_estimators', 50, 750, 25)\n",
        "    }\n",
        "\n",
        "def hyperparameter_tuning(space):\n",
        "    model=xgb.XGBRegressor(learning_rate=space['learning_rate'], \n",
        "                           max_depth = int(space['max_depth']), \n",
        "                           gamma = space['gamma'],\n",
        "                           reg_lambda = space['reg_lambda'],\n",
        "                           colsample_bytree=space['colsample_bytree'], \n",
        "                           scale_pos_weight=space['scale_pos_weight'], \n",
        "                           n_estimators=int(space['n_estimators']),\n",
        "                           subsample=space['subsample'],\n",
        "                           seed=42)\n",
        "    \n",
        "    evaluation = [( X_train_xgb, y_train_xgb), ( X_test_xgb, y_test_xgb)]\n",
        "\n",
        "    model.fit(X_train_xgb, y_train_xgb,\n",
        "            eval_set=evaluation, eval_metric=\"rmse\",\n",
        "            early_stopping_rounds=10,verbose=False)\n",
        "\n",
        "    pred = model.predict(X_test_xgb)\n",
        "    rmse= sqrt(mean_squared_error(y_test_xgb, pred))\n",
        "    print (\"SCORE:\", rmse)\n",
        "    return {'loss':rmse, 'status': STATUS_OK, 'model': model}"
      ],
      "execution_count": null,
      "outputs": []
    },
    {
      "cell_type": "code",
      "metadata": {
        "id": "FwjXA4AgE-Zx",
        "outputId": "4032cd78-66b0-48bc-e7a2-5940dba75c30",
        "colab": {
          "base_uri": "https://localhost:8080/"
        }
      },
      "source": [
        "trials = Trials()\n",
        "best = fmin(fn=hyperparameter_tuning,\n",
        "            space=space_1,\n",
        "            algo=tpe.suggest,\n",
        "            max_evals=100,\n",
        "            trials=trials)\n",
        "\n",
        "print (best)"
      ],
      "execution_count": null,
      "outputs": [
        {
          "output_type": "stream",
          "text": [
            "[23:52:08] WARNING: /workspace/src/objective/regression_obj.cu:152: reg:linear is now deprecated in favor of reg:squarederror.\n",
            "SCORE:\n",
            "109332.7072840651\n",
            "[23:52:22] WARNING: /workspace/src/objective/regression_obj.cu:152: reg:linear is now deprecated in favor of reg:squarederror.\n",
            "SCORE:\n",
            "111840.90101206486\n",
            "[23:52:35] WARNING: /workspace/src/objective/regression_obj.cu:152: reg:linear is now deprecated in favor of reg:squarederror.\n",
            "SCORE:\n",
            "115079.61660119449\n",
            "[23:52:43] WARNING: /workspace/src/objective/regression_obj.cu:152: reg:linear is now deprecated in favor of reg:squarederror.\n",
            "SCORE:\n",
            "111770.91116984315\n",
            "[23:52:57] WARNING: /workspace/src/objective/regression_obj.cu:152: reg:linear is now deprecated in favor of reg:squarederror.\n",
            "SCORE:\n",
            "103400.57750446186\n",
            "[23:53:14] WARNING: /workspace/src/objective/regression_obj.cu:152: reg:linear is now deprecated in favor of reg:squarederror.\n",
            "SCORE:\n",
            "101744.28458509588\n",
            "[23:53:51] WARNING: /workspace/src/objective/regression_obj.cu:152: reg:linear is now deprecated in favor of reg:squarederror.\n",
            "SCORE:\n",
            "311746.24614756583\n",
            "[23:53:53] WARNING: /workspace/src/objective/regression_obj.cu:152: reg:linear is now deprecated in favor of reg:squarederror.\n",
            "SCORE:\n",
            "99746.50008104433\n",
            "[23:54:09] WARNING: /workspace/src/objective/regression_obj.cu:152: reg:linear is now deprecated in favor of reg:squarederror.\n",
            "SCORE:\n",
            "98767.91132840943\n",
            "[23:54:32] WARNING: /workspace/src/objective/regression_obj.cu:152: reg:linear is now deprecated in favor of reg:squarederror.\n",
            "SCORE:\n",
            "113841.59277999536\n",
            "[23:54:57] WARNING: /workspace/src/objective/regression_obj.cu:152: reg:linear is now deprecated in favor of reg:squarederror.\n",
            "SCORE:\n",
            "106339.14045312672\n",
            "[23:55:21] WARNING: /workspace/src/objective/regression_obj.cu:152: reg:linear is now deprecated in favor of reg:squarederror.\n",
            "SCORE:\n",
            "113638.32543487482\n",
            "[23:55:31] WARNING: /workspace/src/objective/regression_obj.cu:152: reg:linear is now deprecated in favor of reg:squarederror.\n",
            "SCORE:\n",
            "106702.03807735596\n",
            "[23:55:45] WARNING: /workspace/src/objective/regression_obj.cu:152: reg:linear is now deprecated in favor of reg:squarederror.\n",
            "SCORE:\n",
            "104066.19272968934\n",
            "[23:56:28] WARNING: /workspace/src/objective/regression_obj.cu:152: reg:linear is now deprecated in favor of reg:squarederror.\n",
            "SCORE:\n",
            "105061.12315248695\n",
            "[23:56:39] WARNING: /workspace/src/objective/regression_obj.cu:152: reg:linear is now deprecated in favor of reg:squarederror.\n",
            "SCORE:\n",
            "113248.42414252664\n",
            "[23:56:53] WARNING: /workspace/src/objective/regression_obj.cu:152: reg:linear is now deprecated in favor of reg:squarederror.\n",
            "SCORE:\n",
            "150323.79279081555\n",
            "[23:56:58] WARNING: /workspace/src/objective/regression_obj.cu:152: reg:linear is now deprecated in favor of reg:squarederror.\n",
            "SCORE:\n",
            "110821.92681275075\n",
            "[23:57:19] WARNING: /workspace/src/objective/regression_obj.cu:152: reg:linear is now deprecated in favor of reg:squarederror.\n",
            "SCORE:\n",
            "99798.51900371823\n",
            "[23:57:39] WARNING: /workspace/src/objective/regression_obj.cu:152: reg:linear is now deprecated in favor of reg:squarederror.\n",
            "SCORE:\n",
            "109743.5766652098\n",
            "[23:58:36] WARNING: /workspace/src/objective/regression_obj.cu:152: reg:linear is now deprecated in favor of reg:squarederror.\n",
            "SCORE:\n",
            "102002.91458722988\n",
            "[23:58:46] WARNING: /workspace/src/objective/regression_obj.cu:152: reg:linear is now deprecated in favor of reg:squarederror.\n",
            "SCORE:\n",
            "108318.06814112101\n",
            "[23:59:00] WARNING: /workspace/src/objective/regression_obj.cu:152: reg:linear is now deprecated in favor of reg:squarederror.\n",
            "SCORE:\n",
            "113994.31487101475\n",
            "[23:59:23] WARNING: /workspace/src/objective/regression_obj.cu:152: reg:linear is now deprecated in favor of reg:squarederror.\n",
            "SCORE:\n",
            "99132.19152169125\n",
            "[23:59:35] WARNING: /workspace/src/objective/regression_obj.cu:152: reg:linear is now deprecated in favor of reg:squarederror.\n",
            "SCORE:\n",
            "101641.63333897776\n",
            "[23:59:52] WARNING: /workspace/src/objective/regression_obj.cu:152: reg:linear is now deprecated in favor of reg:squarederror.\n",
            "SCORE:\n",
            "105652.10187964186\n",
            "[23:59:59] WARNING: /workspace/src/objective/regression_obj.cu:152: reg:linear is now deprecated in favor of reg:squarederror.\n",
            "SCORE:\n",
            "120419.35231654809\n",
            "[00:00:06] WARNING: /workspace/src/objective/regression_obj.cu:152: reg:linear is now deprecated in favor of reg:squarederror.\n",
            "SCORE:\n",
            "99846.53690450266\n",
            "[00:00:27] WARNING: /workspace/src/objective/regression_obj.cu:152: reg:linear is now deprecated in favor of reg:squarederror.\n",
            "SCORE:\n",
            "101017.38587629501\n",
            "[00:00:45] WARNING: /workspace/src/objective/regression_obj.cu:152: reg:linear is now deprecated in favor of reg:squarederror.\n",
            "SCORE:\n",
            "103568.67796469622\n",
            "[00:00:59] WARNING: /workspace/src/objective/regression_obj.cu:152: reg:linear is now deprecated in favor of reg:squarederror.\n",
            "SCORE:\n",
            "104133.96422100182\n",
            "[00:01:23] WARNING: /workspace/src/objective/regression_obj.cu:152: reg:linear is now deprecated in favor of reg:squarederror.\n",
            "SCORE:\n",
            "111090.88582354652\n",
            "[00:01:32] WARNING: /workspace/src/objective/regression_obj.cu:152: reg:linear is now deprecated in favor of reg:squarederror.\n",
            "SCORE:\n",
            "99029.11201436337\n",
            "[00:01:51] WARNING: /workspace/src/objective/regression_obj.cu:152: reg:linear is now deprecated in favor of reg:squarederror.\n",
            "SCORE:\n",
            "101635.68148514458\n",
            "[00:02:14] WARNING: /workspace/src/objective/regression_obj.cu:152: reg:linear is now deprecated in favor of reg:squarederror.\n",
            "SCORE:\n",
            "107483.35497823411\n",
            "[00:02:21] WARNING: /workspace/src/objective/regression_obj.cu:152: reg:linear is now deprecated in favor of reg:squarederror.\n",
            "SCORE:\n",
            "107845.08375322934\n",
            "[00:02:48] WARNING: /workspace/src/objective/regression_obj.cu:152: reg:linear is now deprecated in favor of reg:squarederror.\n",
            "SCORE:\n",
            "106448.21638833582\n",
            "[00:03:05] WARNING: /workspace/src/objective/regression_obj.cu:152: reg:linear is now deprecated in favor of reg:squarederror.\n",
            "SCORE:\n",
            "103430.7264268034\n",
            "[00:04:02] WARNING: /workspace/src/objective/regression_obj.cu:152: reg:linear is now deprecated in favor of reg:squarederror.\n",
            "SCORE:\n",
            "99871.33326346066\n",
            "[00:04:28] WARNING: /workspace/src/objective/regression_obj.cu:152: reg:linear is now deprecated in favor of reg:squarederror.\n",
            "SCORE:\n",
            "102714.40673735926\n",
            "[00:04:43] WARNING: /workspace/src/objective/regression_obj.cu:152: reg:linear is now deprecated in favor of reg:squarederror.\n",
            "SCORE:\n",
            "100943.07222659663\n",
            "[00:05:16] WARNING: /workspace/src/objective/regression_obj.cu:152: reg:linear is now deprecated in favor of reg:squarederror.\n",
            "SCORE:\n",
            "100802.79421408632\n",
            "[00:05:33] WARNING: /workspace/src/objective/regression_obj.cu:152: reg:linear is now deprecated in favor of reg:squarederror.\n",
            "SCORE:\n",
            "104701.21783904005\n",
            "[00:05:46] WARNING: /workspace/src/objective/regression_obj.cu:152: reg:linear is now deprecated in favor of reg:squarederror.\n",
            "SCORE:\n",
            "103650.71389209684\n",
            "[00:06:19] WARNING: /workspace/src/objective/regression_obj.cu:152: reg:linear is now deprecated in favor of reg:squarederror.\n",
            "SCORE:\n",
            "100329.88776976363\n",
            "[00:06:43] WARNING: /workspace/src/objective/regression_obj.cu:152: reg:linear is now deprecated in favor of reg:squarederror.\n",
            "SCORE:\n",
            "100768.94329826056\n",
            "[00:07:10] WARNING: /workspace/src/objective/regression_obj.cu:152: reg:linear is now deprecated in favor of reg:squarederror.\n",
            "SCORE:\n",
            "107396.20899331187\n",
            "[00:07:20] WARNING: /workspace/src/objective/regression_obj.cu:152: reg:linear is now deprecated in favor of reg:squarederror.\n",
            "SCORE:\n",
            "103543.09576172307\n",
            "[00:07:35] WARNING: /workspace/src/objective/regression_obj.cu:152: reg:linear is now deprecated in favor of reg:squarederror.\n",
            "SCORE:\n",
            "111653.35419549012\n",
            "[00:07:50] WARNING: /workspace/src/objective/regression_obj.cu:152: reg:linear is now deprecated in favor of reg:squarederror.\n",
            "SCORE:\n",
            "118629.73119163811\n",
            "[00:08:05] WARNING: /workspace/src/objective/regression_obj.cu:152: reg:linear is now deprecated in favor of reg:squarederror.\n",
            "SCORE:\n",
            "125640.36042463717\n",
            "[00:08:20] WARNING: /workspace/src/objective/regression_obj.cu:152: reg:linear is now deprecated in favor of reg:squarederror.\n",
            "SCORE:\n",
            "123028.15779509203\n",
            "[00:08:46] WARNING: /workspace/src/objective/regression_obj.cu:152: reg:linear is now deprecated in favor of reg:squarederror.\n",
            "SCORE:\n",
            "104016.6000640199\n",
            "[00:09:11] WARNING: /workspace/src/objective/regression_obj.cu:152: reg:linear is now deprecated in favor of reg:squarederror.\n",
            "SCORE:\n",
            "110691.90681896369\n",
            "[00:09:27] WARNING: /workspace/src/objective/regression_obj.cu:152: reg:linear is now deprecated in favor of reg:squarederror.\n",
            "SCORE:\n",
            "108415.45535115968\n",
            "[00:09:46] WARNING: /workspace/src/objective/regression_obj.cu:152: reg:linear is now deprecated in favor of reg:squarederror.\n",
            "SCORE:\n",
            "108929.05442398127\n",
            "[00:09:54] WARNING: /workspace/src/objective/regression_obj.cu:152: reg:linear is now deprecated in favor of reg:squarederror.\n",
            "SCORE:\n",
            "108943.64658303917\n",
            "[00:10:01] WARNING: /workspace/src/objective/regression_obj.cu:152: reg:linear is now deprecated in favor of reg:squarederror.\n",
            "SCORE:\n",
            "98359.07694054535\n",
            "[00:10:19] WARNING: /workspace/src/objective/regression_obj.cu:152: reg:linear is now deprecated in favor of reg:squarederror.\n",
            "SCORE:\n",
            "99737.9414356074\n",
            "[00:10:37] WARNING: /workspace/src/objective/regression_obj.cu:152: reg:linear is now deprecated in favor of reg:squarederror.\n",
            "SCORE:\n",
            "98425.12830947309\n",
            "[00:11:01] WARNING: /workspace/src/objective/regression_obj.cu:152: reg:linear is now deprecated in favor of reg:squarederror.\n",
            "SCORE:\n",
            "99492.74697274846\n",
            "[00:11:31] WARNING: /workspace/src/objective/regression_obj.cu:152: reg:linear is now deprecated in favor of reg:squarederror.\n",
            "SCORE:\n",
            "99214.78543762602\n",
            "[00:12:09] WARNING: /workspace/src/objective/regression_obj.cu:152: reg:linear is now deprecated in favor of reg:squarederror.\n",
            "SCORE:\n",
            "98669.0120832308\n",
            "[00:12:55] WARNING: /workspace/src/objective/regression_obj.cu:152: reg:linear is now deprecated in favor of reg:squarederror.\n",
            "SCORE:\n",
            "100482.19707446337\n",
            "[00:13:12] WARNING: /workspace/src/objective/regression_obj.cu:152: reg:linear is now deprecated in favor of reg:squarederror.\n",
            "SCORE:\n",
            "101184.1517803809\n",
            "[00:13:23] WARNING: /workspace/src/objective/regression_obj.cu:152: reg:linear is now deprecated in favor of reg:squarederror.\n",
            "SCORE:\n",
            "100157.12869813792\n",
            "[00:13:53] WARNING: /workspace/src/objective/regression_obj.cu:152: reg:linear is now deprecated in favor of reg:squarederror.\n",
            "SCORE:\n",
            "101173.67407927976\n",
            "[00:14:14] WARNING: /workspace/src/objective/regression_obj.cu:152: reg:linear is now deprecated in favor of reg:squarederror.\n",
            "SCORE:\n",
            "100173.2312672627\n",
            "[00:14:42] WARNING: /workspace/src/objective/regression_obj.cu:152: reg:linear is now deprecated in favor of reg:squarederror.\n",
            "SCORE:\n",
            "98783.8005358107\n",
            "[00:15:34] WARNING: /workspace/src/objective/regression_obj.cu:152: reg:linear is now deprecated in favor of reg:squarederror.\n",
            "SCORE:\n",
            "103995.2685484789\n",
            "[00:15:55] WARNING: /workspace/src/objective/regression_obj.cu:152: reg:linear is now deprecated in favor of reg:squarederror.\n",
            "SCORE:\n",
            "99867.73020222718\n",
            "[00:16:21] WARNING: /workspace/src/objective/regression_obj.cu:152: reg:linear is now deprecated in favor of reg:squarederror.\n",
            "SCORE:\n",
            "101258.89333416891\n",
            "[00:16:39] WARNING: /workspace/src/objective/regression_obj.cu:152: reg:linear is now deprecated in favor of reg:squarederror.\n",
            "SCORE:\n",
            "102390.73320520774\n",
            "[00:16:56] WARNING: /workspace/src/objective/regression_obj.cu:152: reg:linear is now deprecated in favor of reg:squarederror.\n",
            "SCORE:\n",
            "100559.25472247039\n",
            "[00:17:15] WARNING: /workspace/src/objective/regression_obj.cu:152: reg:linear is now deprecated in favor of reg:squarederror.\n",
            "SCORE:\n",
            "100438.79152578738\n",
            "[00:17:42] WARNING: /workspace/src/objective/regression_obj.cu:152: reg:linear is now deprecated in favor of reg:squarederror.\n",
            "SCORE:\n",
            "99481.9483808017\n",
            "[00:18:17] WARNING: /workspace/src/objective/regression_obj.cu:152: reg:linear is now deprecated in favor of reg:squarederror.\n",
            "SCORE:\n",
            "99687.46525552036\n",
            "[00:18:43] WARNING: /workspace/src/objective/regression_obj.cu:152: reg:linear is now deprecated in favor of reg:squarederror.\n",
            "SCORE:\n",
            "99037.90117744765\n",
            "[00:19:04] WARNING: /workspace/src/objective/regression_obj.cu:152: reg:linear is now deprecated in favor of reg:squarederror.\n",
            "SCORE:\n",
            "98285.4015306836\n",
            "[00:19:31] WARNING: /workspace/src/objective/regression_obj.cu:152: reg:linear is now deprecated in favor of reg:squarederror.\n",
            "SCORE:\n",
            "102190.7891432889\n",
            "[00:19:41] WARNING: /workspace/src/objective/regression_obj.cu:152: reg:linear is now deprecated in favor of reg:squarederror.\n",
            "SCORE:\n",
            "101087.07893904974\n",
            "[00:20:03] WARNING: /workspace/src/objective/regression_obj.cu:152: reg:linear is now deprecated in favor of reg:squarederror.\n",
            "SCORE:\n",
            "99766.68700425871\n",
            "[00:20:19] WARNING: /workspace/src/objective/regression_obj.cu:152: reg:linear is now deprecated in favor of reg:squarederror.\n",
            "SCORE:\n",
            "106743.36399136398\n",
            "[00:20:55] WARNING: /workspace/src/objective/regression_obj.cu:152: reg:linear is now deprecated in favor of reg:squarederror.\n",
            "SCORE:\n",
            "100683.37545008896\n",
            "[00:21:11] WARNING: /workspace/src/objective/regression_obj.cu:152: reg:linear is now deprecated in favor of reg:squarederror.\n",
            "SCORE:\n",
            "99456.29399454851\n",
            "[00:21:31] WARNING: /workspace/src/objective/regression_obj.cu:152: reg:linear is now deprecated in favor of reg:squarederror.\n",
            "SCORE:\n",
            "101082.69639755669\n",
            "[00:21:50] WARNING: /workspace/src/objective/regression_obj.cu:152: reg:linear is now deprecated in favor of reg:squarederror.\n",
            "SCORE:\n",
            "99572.4158492577\n",
            "[00:22:17] WARNING: /workspace/src/objective/regression_obj.cu:152: reg:linear is now deprecated in favor of reg:squarederror.\n",
            "SCORE:\n",
            "99754.12937961628\n",
            "[00:22:38] WARNING: /workspace/src/objective/regression_obj.cu:152: reg:linear is now deprecated in favor of reg:squarederror.\n",
            "SCORE:\n",
            "100178.51376527872\n",
            "[00:23:01] WARNING: /workspace/src/objective/regression_obj.cu:152: reg:linear is now deprecated in favor of reg:squarederror.\n",
            "SCORE:\n",
            "104861.49462427129\n",
            "[00:23:20] WARNING: /workspace/src/objective/regression_obj.cu:152: reg:linear is now deprecated in favor of reg:squarederror.\n",
            "SCORE:\n",
            "100881.51140127613\n",
            "[00:23:46] WARNING: /workspace/src/objective/regression_obj.cu:152: reg:linear is now deprecated in favor of reg:squarederror.\n",
            "SCORE:\n",
            "104190.30365582091\n",
            "[00:23:56] WARNING: /workspace/src/objective/regression_obj.cu:152: reg:linear is now deprecated in favor of reg:squarederror.\n",
            "SCORE:\n",
            "100762.20617523862\n",
            "[00:24:12] WARNING: /workspace/src/objective/regression_obj.cu:152: reg:linear is now deprecated in favor of reg:squarederror.\n",
            "SCORE:\n",
            "103887.39463335396\n",
            "[00:24:45] WARNING: /workspace/src/objective/regression_obj.cu:152: reg:linear is now deprecated in favor of reg:squarederror.\n",
            "SCORE:\n",
            "102352.09615566614\n",
            "[00:25:38] WARNING: /workspace/src/objective/regression_obj.cu:152: reg:linear is now deprecated in favor of reg:squarederror.\n",
            "SCORE:\n",
            "99599.9202408536\n",
            "[00:25:55] WARNING: /workspace/src/objective/regression_obj.cu:152: reg:linear is now deprecated in favor of reg:squarederror.\n",
            "SCORE:\n",
            "102361.86744193327\n",
            "[00:26:13] WARNING: /workspace/src/objective/regression_obj.cu:152: reg:linear is now deprecated in favor of reg:squarederror.\n",
            "SCORE:\n",
            "99396.38588216697\n",
            "[00:26:27] WARNING: /workspace/src/objective/regression_obj.cu:152: reg:linear is now deprecated in favor of reg:squarederror.\n",
            "SCORE:\n",
            "102203.06366362015\n",
            "[00:26:48] WARNING: /workspace/src/objective/regression_obj.cu:152: reg:linear is now deprecated in favor of reg:squarederror.\n",
            "SCORE:\n",
            "100757.19918409263\n",
            "100%|██████████| 100/100 [35:02<00:00, 21.03s/it, best loss: 98285.4015306836]\n",
            "{'colsample_bytree': 0.7638747309172321, 'gamma': 7.478617802305849, 'learning_rate': 0.05819206076268289, 'max_depth': 8.0, 'n_estimators': 475.0, 'reg_lambda': 2.5907471760761176, 'scale_pos_weight': 3.8255921550846974, 'subsample': 0.866167775671287}\n"
          ],
          "name": "stdout"
        }
      ]
    },
    {
      "cell_type": "code",
      "metadata": {
        "id": "xrs0qpadN1sA"
      },
      "source": [
        "reg_xgb_1 = xgb.XGBRegressor(learning_rate=best['learning_rate'], \n",
        "                           max_depth = int(best['max_depth']), \n",
        "                           gamma = best['gamma'],\n",
        "                           reg_lambda = best['reg_lambda'],\n",
        "                           colsample_bytree=best['colsample_bytree'], \n",
        "                           scale_pos_weight=best['scale_pos_weight'], \n",
        "                           n_estimators=int(best['n_estimators']),\n",
        "                           subsample=best['subsample'],\n",
        "                           seed=42)"
      ],
      "execution_count": null,
      "outputs": []
    },
    {
      "cell_type": "code",
      "metadata": {
        "id": "IS1NS6pzOLzR",
        "outputId": "1db12bda-b0f6-42a6-b4fc-15e90a80a501",
        "colab": {
          "base_uri": "https://localhost:8080/"
        }
      },
      "source": [
        "reg_xgb_1.fit(X_train_xgb, \n",
        "            y_train_xgb, \n",
        "            verbose=True,\n",
        "            early_stopping_rounds=10,\n",
        "            eval_metric='rmse',\n",
        "            eval_set=[(X_test_xgb, y_test_xgb)])"
      ],
      "execution_count": null,
      "outputs": [
        {
          "output_type": "stream",
          "text": [
            "[00:28:35] WARNING: /workspace/src/objective/regression_obj.cu:152: reg:linear is now deprecated in favor of reg:squarederror.\n",
            "[0]\tvalidation_0-rmse:682766\n",
            "Will train until validation_0-rmse hasn't improved in 10 rounds.\n",
            "[1]\tvalidation_0-rmse:655188\n",
            "[2]\tvalidation_0-rmse:620156\n",
            "[3]\tvalidation_0-rmse:587493\n",
            "[4]\tvalidation_0-rmse:556176\n",
            "[5]\tvalidation_0-rmse:527054\n",
            "[6]\tvalidation_0-rmse:499882\n",
            "[7]\tvalidation_0-rmse:480631\n",
            "[8]\tvalidation_0-rmse:456224\n",
            "[9]\tvalidation_0-rmse:439367\n",
            "[10]\tvalidation_0-rmse:417157\n",
            "[11]\tvalidation_0-rmse:396086\n",
            "[12]\tvalidation_0-rmse:376713\n",
            "[13]\tvalidation_0-rmse:358370\n",
            "[14]\tvalidation_0-rmse:341119\n",
            "[15]\tvalidation_0-rmse:324832\n",
            "[16]\tvalidation_0-rmse:309628\n",
            "[17]\tvalidation_0-rmse:295456\n",
            "[18]\tvalidation_0-rmse:281886\n",
            "[19]\tvalidation_0-rmse:269518\n",
            "[20]\tvalidation_0-rmse:257924\n",
            "[21]\tvalidation_0-rmse:249790\n",
            "[22]\tvalidation_0-rmse:239410\n",
            "[23]\tvalidation_0-rmse:229539\n",
            "[24]\tvalidation_0-rmse:220449\n",
            "[25]\tvalidation_0-rmse:214412\n",
            "[26]\tvalidation_0-rmse:208251\n",
            "[27]\tvalidation_0-rmse:202348\n",
            "[28]\tvalidation_0-rmse:194828\n",
            "[29]\tvalidation_0-rmse:188030\n",
            "[30]\tvalidation_0-rmse:181621\n",
            "[31]\tvalidation_0-rmse:177006\n",
            "[32]\tvalidation_0-rmse:172991\n",
            "[33]\tvalidation_0-rmse:167569\n",
            "[34]\tvalidation_0-rmse:162509\n",
            "[35]\tvalidation_0-rmse:157784\n",
            "[36]\tvalidation_0-rmse:154921\n",
            "[37]\tvalidation_0-rmse:150555\n",
            "[38]\tvalidation_0-rmse:148257\n",
            "[39]\tvalidation_0-rmse:144653\n",
            "[40]\tvalidation_0-rmse:141313\n",
            "[41]\tvalidation_0-rmse:138221\n",
            "[42]\tvalidation_0-rmse:136263\n",
            "[43]\tvalidation_0-rmse:133609\n",
            "[44]\tvalidation_0-rmse:130989\n",
            "[45]\tvalidation_0-rmse:128702\n",
            "[46]\tvalidation_0-rmse:126611\n",
            "[47]\tvalidation_0-rmse:124666\n",
            "[48]\tvalidation_0-rmse:123430\n",
            "[49]\tvalidation_0-rmse:122489\n",
            "[50]\tvalidation_0-rmse:121476\n",
            "[51]\tvalidation_0-rmse:120437\n",
            "[52]\tvalidation_0-rmse:119633\n",
            "[53]\tvalidation_0-rmse:118968\n",
            "[54]\tvalidation_0-rmse:117515\n",
            "[55]\tvalidation_0-rmse:116306\n",
            "[56]\tvalidation_0-rmse:115763\n",
            "[57]\tvalidation_0-rmse:114655\n",
            "[58]\tvalidation_0-rmse:113615\n",
            "[59]\tvalidation_0-rmse:112677\n",
            "[60]\tvalidation_0-rmse:111816\n",
            "[61]\tvalidation_0-rmse:110918\n",
            "[62]\tvalidation_0-rmse:110230\n",
            "[63]\tvalidation_0-rmse:109887\n",
            "[64]\tvalidation_0-rmse:109595\n",
            "[65]\tvalidation_0-rmse:108785\n",
            "[66]\tvalidation_0-rmse:108512\n",
            "[67]\tvalidation_0-rmse:107996\n",
            "[68]\tvalidation_0-rmse:107384\n",
            "[69]\tvalidation_0-rmse:107040\n",
            "[70]\tvalidation_0-rmse:106564\n",
            "[71]\tvalidation_0-rmse:106430\n",
            "[72]\tvalidation_0-rmse:106170\n",
            "[73]\tvalidation_0-rmse:106004\n",
            "[74]\tvalidation_0-rmse:105844\n",
            "[75]\tvalidation_0-rmse:105485\n",
            "[76]\tvalidation_0-rmse:105515\n",
            "[77]\tvalidation_0-rmse:105111\n",
            "[78]\tvalidation_0-rmse:104797\n",
            "[79]\tvalidation_0-rmse:104722\n",
            "[80]\tvalidation_0-rmse:104467\n",
            "[81]\tvalidation_0-rmse:104374\n",
            "[82]\tvalidation_0-rmse:104460\n",
            "[83]\tvalidation_0-rmse:104201\n",
            "[84]\tvalidation_0-rmse:103909\n",
            "[85]\tvalidation_0-rmse:103793\n",
            "[86]\tvalidation_0-rmse:103538\n",
            "[87]\tvalidation_0-rmse:103308\n",
            "[88]\tvalidation_0-rmse:103087\n",
            "[89]\tvalidation_0-rmse:102849\n",
            "[90]\tvalidation_0-rmse:102872\n",
            "[91]\tvalidation_0-rmse:102721\n",
            "[92]\tvalidation_0-rmse:102636\n",
            "[93]\tvalidation_0-rmse:102474\n",
            "[94]\tvalidation_0-rmse:102277\n",
            "[95]\tvalidation_0-rmse:102134\n",
            "[96]\tvalidation_0-rmse:102193\n",
            "[97]\tvalidation_0-rmse:102090\n",
            "[98]\tvalidation_0-rmse:102065\n",
            "[99]\tvalidation_0-rmse:101948\n",
            "[100]\tvalidation_0-rmse:101844\n",
            "[101]\tvalidation_0-rmse:101686\n",
            "[102]\tvalidation_0-rmse:101550\n",
            "[103]\tvalidation_0-rmse:101458\n",
            "[104]\tvalidation_0-rmse:101397\n",
            "[105]\tvalidation_0-rmse:101347\n",
            "[106]\tvalidation_0-rmse:101308\n",
            "[107]\tvalidation_0-rmse:101252\n",
            "[108]\tvalidation_0-rmse:101049\n",
            "[109]\tvalidation_0-rmse:100948\n",
            "[110]\tvalidation_0-rmse:100882\n",
            "[111]\tvalidation_0-rmse:100855\n",
            "[112]\tvalidation_0-rmse:100770\n",
            "[113]\tvalidation_0-rmse:100685\n",
            "[114]\tvalidation_0-rmse:100570\n",
            "[115]\tvalidation_0-rmse:100526\n",
            "[116]\tvalidation_0-rmse:100509\n",
            "[117]\tvalidation_0-rmse:100449\n",
            "[118]\tvalidation_0-rmse:100509\n",
            "[119]\tvalidation_0-rmse:100483\n",
            "[120]\tvalidation_0-rmse:100434\n",
            "[121]\tvalidation_0-rmse:100399\n",
            "[122]\tvalidation_0-rmse:100379\n",
            "[123]\tvalidation_0-rmse:100249\n",
            "[124]\tvalidation_0-rmse:100183\n",
            "[125]\tvalidation_0-rmse:100134\n",
            "[126]\tvalidation_0-rmse:100093\n",
            "[127]\tvalidation_0-rmse:100064\n",
            "[128]\tvalidation_0-rmse:99982.8\n",
            "[129]\tvalidation_0-rmse:99976\n",
            "[130]\tvalidation_0-rmse:99931\n",
            "[131]\tvalidation_0-rmse:99902\n",
            "[132]\tvalidation_0-rmse:99824.6\n",
            "[133]\tvalidation_0-rmse:99830.5\n",
            "[134]\tvalidation_0-rmse:99806.8\n",
            "[135]\tvalidation_0-rmse:99781.5\n",
            "[136]\tvalidation_0-rmse:99782.8\n",
            "[137]\tvalidation_0-rmse:99746.8\n",
            "[138]\tvalidation_0-rmse:99686.5\n",
            "[139]\tvalidation_0-rmse:99672\n",
            "[140]\tvalidation_0-rmse:99671.4\n",
            "[141]\tvalidation_0-rmse:99655.6\n",
            "[142]\tvalidation_0-rmse:99582.9\n",
            "[143]\tvalidation_0-rmse:99587.2\n",
            "[144]\tvalidation_0-rmse:99579.5\n",
            "[145]\tvalidation_0-rmse:99606.9\n",
            "[146]\tvalidation_0-rmse:99597.1\n",
            "[147]\tvalidation_0-rmse:99594.5\n",
            "[148]\tvalidation_0-rmse:99586.5\n",
            "[149]\tvalidation_0-rmse:99625.3\n",
            "[150]\tvalidation_0-rmse:99589.7\n",
            "[151]\tvalidation_0-rmse:99542.6\n",
            "[152]\tvalidation_0-rmse:99515\n",
            "[153]\tvalidation_0-rmse:99524.8\n",
            "[154]\tvalidation_0-rmse:99478.6\n",
            "[155]\tvalidation_0-rmse:99443\n",
            "[156]\tvalidation_0-rmse:99481.5\n",
            "[157]\tvalidation_0-rmse:99452.5\n",
            "[158]\tvalidation_0-rmse:99444.7\n",
            "[159]\tvalidation_0-rmse:99438.8\n",
            "[160]\tvalidation_0-rmse:99432.7\n",
            "[161]\tvalidation_0-rmse:99405.7\n",
            "[162]\tvalidation_0-rmse:99435.9\n",
            "[163]\tvalidation_0-rmse:99461.7\n",
            "[164]\tvalidation_0-rmse:99429.7\n",
            "[165]\tvalidation_0-rmse:99410.9\n",
            "[166]\tvalidation_0-rmse:99392.4\n",
            "[167]\tvalidation_0-rmse:99388.2\n",
            "[168]\tvalidation_0-rmse:99400.2\n",
            "[169]\tvalidation_0-rmse:99402.3\n",
            "[170]\tvalidation_0-rmse:99392.3\n",
            "[171]\tvalidation_0-rmse:99398\n",
            "[172]\tvalidation_0-rmse:99408.9\n",
            "[173]\tvalidation_0-rmse:99362\n",
            "[174]\tvalidation_0-rmse:99337.2\n",
            "[175]\tvalidation_0-rmse:99330.4\n",
            "[176]\tvalidation_0-rmse:99319.1\n",
            "[177]\tvalidation_0-rmse:99336.4\n",
            "[178]\tvalidation_0-rmse:99332.9\n",
            "[179]\tvalidation_0-rmse:99301.6\n",
            "[180]\tvalidation_0-rmse:99278.6\n",
            "[181]\tvalidation_0-rmse:99230\n",
            "[182]\tvalidation_0-rmse:99227.2\n",
            "[183]\tvalidation_0-rmse:99270.5\n",
            "[184]\tvalidation_0-rmse:99292.5\n",
            "[185]\tvalidation_0-rmse:99275.8\n",
            "[186]\tvalidation_0-rmse:99265.2\n",
            "[187]\tvalidation_0-rmse:99228.5\n",
            "[188]\tvalidation_0-rmse:99193\n",
            "[189]\tvalidation_0-rmse:99154\n",
            "[190]\tvalidation_0-rmse:99141.1\n",
            "[191]\tvalidation_0-rmse:99117.4\n",
            "[192]\tvalidation_0-rmse:99096.7\n",
            "[193]\tvalidation_0-rmse:99105\n",
            "[194]\tvalidation_0-rmse:99077.1\n",
            "[195]\tvalidation_0-rmse:99076.6\n",
            "[196]\tvalidation_0-rmse:99062.9\n",
            "[197]\tvalidation_0-rmse:99032.7\n",
            "[198]\tvalidation_0-rmse:99004.1\n",
            "[199]\tvalidation_0-rmse:98983\n",
            "[200]\tvalidation_0-rmse:98969.5\n",
            "[201]\tvalidation_0-rmse:98959.3\n",
            "[202]\tvalidation_0-rmse:98910\n",
            "[203]\tvalidation_0-rmse:98877.9\n",
            "[204]\tvalidation_0-rmse:98847.9\n",
            "[205]\tvalidation_0-rmse:98837.3\n",
            "[206]\tvalidation_0-rmse:98835.6\n",
            "[207]\tvalidation_0-rmse:98830.4\n",
            "[208]\tvalidation_0-rmse:98808.6\n",
            "[209]\tvalidation_0-rmse:98791.5\n",
            "[210]\tvalidation_0-rmse:98797.9\n",
            "[211]\tvalidation_0-rmse:98731.6\n",
            "[212]\tvalidation_0-rmse:98720\n",
            "[213]\tvalidation_0-rmse:98715.2\n",
            "[214]\tvalidation_0-rmse:98703.7\n",
            "[215]\tvalidation_0-rmse:98668.8\n",
            "[216]\tvalidation_0-rmse:98653.8\n",
            "[217]\tvalidation_0-rmse:98598.1\n",
            "[218]\tvalidation_0-rmse:98558.7\n",
            "[219]\tvalidation_0-rmse:98552.8\n",
            "[220]\tvalidation_0-rmse:98563.6\n",
            "[221]\tvalidation_0-rmse:98557.5\n",
            "[222]\tvalidation_0-rmse:98572.4\n",
            "[223]\tvalidation_0-rmse:98558.6\n",
            "[224]\tvalidation_0-rmse:98570\n",
            "[225]\tvalidation_0-rmse:98569.9\n",
            "[226]\tvalidation_0-rmse:98543.7\n",
            "[227]\tvalidation_0-rmse:98534.4\n",
            "[228]\tvalidation_0-rmse:98517.1\n",
            "[229]\tvalidation_0-rmse:98515.8\n",
            "[230]\tvalidation_0-rmse:98512.3\n",
            "[231]\tvalidation_0-rmse:98500.3\n",
            "[232]\tvalidation_0-rmse:98509\n",
            "[233]\tvalidation_0-rmse:98451.5\n",
            "[234]\tvalidation_0-rmse:98443.5\n",
            "[235]\tvalidation_0-rmse:98435.4\n",
            "[236]\tvalidation_0-rmse:98436.8\n",
            "[237]\tvalidation_0-rmse:98402.8\n",
            "[238]\tvalidation_0-rmse:98413.5\n",
            "[239]\tvalidation_0-rmse:98389.8\n",
            "[240]\tvalidation_0-rmse:98356.2\n",
            "[241]\tvalidation_0-rmse:98332.8\n",
            "[242]\tvalidation_0-rmse:98313.9\n",
            "[243]\tvalidation_0-rmse:98292.7\n",
            "[244]\tvalidation_0-rmse:98285.4\n",
            "[245]\tvalidation_0-rmse:98285.2\n",
            "[246]\tvalidation_0-rmse:98298\n",
            "[247]\tvalidation_0-rmse:98289.9\n",
            "[248]\tvalidation_0-rmse:98288.1\n",
            "[249]\tvalidation_0-rmse:98286\n",
            "[250]\tvalidation_0-rmse:98296.7\n",
            "[251]\tvalidation_0-rmse:98296.9\n",
            "[252]\tvalidation_0-rmse:98320.1\n",
            "[253]\tvalidation_0-rmse:98328.1\n",
            "[254]\tvalidation_0-rmse:98319\n",
            "[255]\tvalidation_0-rmse:98301.2\n",
            "Stopping. Best iteration:\n",
            "[245]\tvalidation_0-rmse:98285.2\n",
            "\n"
          ],
          "name": "stdout"
        },
        {
          "output_type": "execute_result",
          "data": {
            "text/plain": [
              "XGBRegressor(base_score=0.5, booster='gbtree', colsample_bylevel=1,\n",
              "             colsample_bynode=1, colsample_bytree=0.7638747309172321,\n",
              "             gamma=7.478617802305849, importance_type='gain',\n",
              "             learning_rate=0.05819206076268289, max_delta_step=0, max_depth=8,\n",
              "             min_child_weight=1, missing=None, n_estimators=475, n_jobs=1,\n",
              "             nthread=None, objective='reg:linear', random_state=0, reg_alpha=0,\n",
              "             reg_lambda=2.5907471760761176, scale_pos_weight=3.8255921550846974,\n",
              "             seed=42, silent=None, subsample=0.866167775671287, verbosity=1)"
            ]
          },
          "metadata": {
            "tags": []
          },
          "execution_count": 68
        }
      ]
    },
    {
      "cell_type": "code",
      "metadata": {
        "id": "eRplyscIOnI1",
        "outputId": "7b4ee59b-89b7-42ae-e22b-9553fa72fb3a",
        "colab": {
          "base_uri": "https://localhost:8080/"
        }
      },
      "source": [
        "reg_xgb_1.score(X_test_xgb, y_test_xgb), reg_xgb_1.score(X_train_xgb, y_train_xgb)"
      ],
      "execution_count": null,
      "outputs": [
        {
          "output_type": "execute_result",
          "data": {
            "text/plain": [
              "(0.9686458137316051, 0.9871137712344735)"
            ]
          },
          "metadata": {
            "tags": []
          },
          "execution_count": 69
        }
      ]
    },
    {
      "cell_type": "code",
      "metadata": {
        "id": "TQWJIumOdIT3",
        "outputId": "6fb9cf8e-3a80-49fc-c344-7e80f93694e9",
        "colab": {
          "base_uri": "https://localhost:8080/"
        }
      },
      "source": [
        "cols = reg_xgb_1.get_booster().feature_names\n",
        "d = {\n",
        "    'calculatedfinishedsquarefeet':[1200],\n",
        "    'latitude':[36],\n",
        "    'numberofstories':[3],\n",
        "    'longitude':[-120],\n",
        "    'roomcnt':[5],\n",
        "    'bedroomcnt':[3],\n",
        "    'yearbuilt':[1992],\n",
        "    'landtaxvaluedollarcnt':[280000],\n",
        "    'bathroomcnt':[5]\n",
        "}\n",
        "test_df = pd.DataFrame(data=d)\n",
        "test_df = test_df[cols]\n",
        "test_input_normalized = sc.transform(test_df)\n",
        "test_norm = pd.DataFrame(test_input_normalized, columns=cols)\n",
        "reg_xgb_1.predict(test_norm)"
      ],
      "execution_count": null,
      "outputs": [
        {
          "output_type": "execute_result",
          "data": {
            "text/plain": [
              "array([470837.78], dtype=float32)"
            ]
          },
          "metadata": {
            "tags": []
          },
          "execution_count": 99
        }
      ]
    },
    {
      "cell_type": "code",
      "metadata": {
        "id": "PwOnsSG8hcl-",
        "outputId": "41fb556e-0c95-47b0-ec71-60ada4993947",
        "colab": {
          "base_uri": "https://localhost:8080/"
        }
      },
      "source": [
        "reg_xgb_1.predict(test_norm)"
      ],
      "execution_count": null,
      "outputs": [
        {
          "output_type": "execute_result",
          "data": {
            "text/plain": [
              "array([470837.78], dtype=float32)"
            ]
          },
          "metadata": {
            "tags": []
          },
          "execution_count": 98
        }
      ]
    },
    {
      "cell_type": "code",
      "metadata": {
        "id": "KpE8iY1a8K8m"
      },
      "source": [
        "# write xgboost model to file\n",
        "\n",
        "# with open('/content/drive/My Drive/CMPE 255 Project/xbg_model.pkl', 'wb') as f:\n",
        "#   pickle.dump(reg_xgb_1, f)"
      ],
      "execution_count": null,
      "outputs": []
    },
    {
      "cell_type": "code",
      "metadata": {
        "id": "val7jp6a9d65"
      },
      "source": [
        "# read xgboost model from file\n",
        "\n",
        "# with open('/content/drive/My Drive/CMPE 255 Project/xbg_model.pkl', 'rb') as f:\n",
        "#   reg_xgb_1 = pickle.load(f)"
      ],
      "execution_count": null,
      "outputs": []
    },
    {
      "cell_type": "code",
      "metadata": {
        "id": "IEb_DpjSXQCU",
        "outputId": "21e5139b-3fee-4ff9-db44-615b7db9078e",
        "colab": {
          "base_uri": "https://localhost:8080/"
        }
      },
      "source": [
        "predicted_price = reg_xgb_1.predict(X_test)\n",
        "\n",
        "models_info[\"XGBoost\"][\"RMSE\"] = np.sqrt(metrics.mean_squared_error(y_test, predicted_price))\n",
        "models_info[\"XGBoost\"][\"MSE\"] = metrics.mean_squared_error(y_test, predicted_price)\n",
        "models_info[\"XGBoost\"][\"MAE\"] = metrics.mean_absolute_error(y_test, predicted_price)\n",
        "models_info[\"XGBoost\"][\"R2_TRAIN\"] = reg_xgb_1.score(X_train, y_train)\n",
        "models_info[\"XGBoost\"][\"R2_TEST\"] = reg_xgb_1.score(X_test, y_test)\n",
        "\n",
        "print('R2 score on training data: ', models_info[\"XGBoost\"][\"R2_TRAIN\"])\n",
        "print('R2 score on test data: ', models_info[\"XGBoost\"][\"R2_TEST\"])\n",
        "print('Mean Absolute Error:', models_info[\"XGBoost\"][\"MAE\"])  \n",
        "print('Mean Squared Error:', models_info[\"XGBoost\"][\"MSE\"]) \n",
        "print('Root Mean Squared Error:', models_info[\"XGBoost\"][\"RMSE\"])"
      ],
      "execution_count": null,
      "outputs": [
        {
          "output_type": "stream",
          "text": [
            "R2 score on training data:  0.985110608716725\n",
            "R2 score on test data:  0.9680464669658073\n",
            "Mean Absolute Error: 43930.21273258803\n",
            "Mean Squared Error: 9759304325.082067\n",
            "Root Mean Squared Error: 98789.19133732226\n"
          ],
          "name": "stdout"
        }
      ]
    },
    {
      "cell_type": "markdown",
      "metadata": {
        "id": "QehMFcYzbNPu"
      },
      "source": [
        "**Neural Networks**"
      ]
    },
    {
      "cell_type": "code",
      "metadata": {
        "id": "9wVQE25DbTWF",
        "outputId": "d36112c1-d299-4a1d-eada-54da569a9e32",
        "colab": {
          "base_uri": "https://localhost:8080/"
        }
      },
      "source": [
        "from tensorflow.keras.models import Sequential\n",
        "from tensorflow.keras.layers import Dense\n",
        "from tensorflow.keras.layers import Dropout\n",
        "\n",
        "nn_model = Sequential()\n",
        "\n",
        "nn_model.add(Dense(units = 64,  kernel_initializer='normal', input_dim = X.shape[1], activation = 'relu'))\n",
        "\n",
        "nn_model.add(Dense(units = 128, kernel_initializer='normal', activation = 'relu'))\n",
        "nn_model.add(Dense(units = 128, kernel_initializer='normal', activation = 'relu'))\n",
        "nn_model.add(Dense(units = 128, kernel_initializer='normal', activation = 'relu'))\n",
        "\n",
        "nn_model.add(Dense(units = 1, kernel_initializer='normal', activation = 'linear'))\n",
        "\n",
        "\n",
        "nn_model.compile(loss='mean_absolute_error', optimizer='adam', metrics=['mean_absolute_error'])\n",
        "nn_model.summary()"
      ],
      "execution_count": null,
      "outputs": [
        {
          "output_type": "stream",
          "text": [
            "Model: \"sequential\"\n",
            "_________________________________________________________________\n",
            "Layer (type)                 Output Shape              Param #   \n",
            "=================================================================\n",
            "dense (Dense)                (None, 64)                640       \n",
            "_________________________________________________________________\n",
            "dense_1 (Dense)              (None, 128)               8320      \n",
            "_________________________________________________________________\n",
            "dense_2 (Dense)              (None, 128)               16512     \n",
            "_________________________________________________________________\n",
            "dense_3 (Dense)              (None, 128)               16512     \n",
            "_________________________________________________________________\n",
            "dense_4 (Dense)              (None, 1)                 129       \n",
            "=================================================================\n",
            "Total params: 42,113\n",
            "Trainable params: 42,113\n",
            "Non-trainable params: 0\n",
            "_________________________________________________________________\n"
          ],
          "name": "stdout"
        }
      ]
    },
    {
      "cell_type": "code",
      "metadata": {
        "id": "oitTc1lNf0SB",
        "outputId": "d72114e9-2da9-4db9-d6e4-7cbbd2ad0b78",
        "colab": {
          "base_uri": "https://localhost:8080/"
        }
      },
      "source": [
        "nn_model.fit(X_train, y_train, batch_size = 10, epochs = 10)"
      ],
      "execution_count": null,
      "outputs": [
        {
          "output_type": "stream",
          "text": [
            "Epoch 1/10\n",
            "8125/8125 [==============================] - 12s 1ms/step - loss: 69474.9141 - mean_absolute_error: 69474.9141\n",
            "Epoch 2/10\n",
            "8125/8125 [==============================] - 12s 1ms/step - loss: 49940.4023 - mean_absolute_error: 49940.4023\n",
            "Epoch 3/10\n",
            "8125/8125 [==============================] - 12s 1ms/step - loss: 47819.8125 - mean_absolute_error: 47819.8125\n",
            "Epoch 4/10\n",
            "8125/8125 [==============================] - 11s 1ms/step - loss: 47196.6016 - mean_absolute_error: 47196.6016\n",
            "Epoch 5/10\n",
            "8125/8125 [==============================] - 11s 1ms/step - loss: 46514.5625 - mean_absolute_error: 46514.5625\n",
            "Epoch 6/10\n",
            "8125/8125 [==============================] - 11s 1ms/step - loss: 46141.5078 - mean_absolute_error: 46141.5078\n",
            "Epoch 7/10\n",
            "8125/8125 [==============================] - 11s 1ms/step - loss: 45825.4922 - mean_absolute_error: 45825.4922\n",
            "Epoch 8/10\n",
            "8125/8125 [==============================] - 11s 1ms/step - loss: 45497.4414 - mean_absolute_error: 45497.4414\n",
            "Epoch 9/10\n",
            "8125/8125 [==============================] - 11s 1ms/step - loss: 45236.2695 - mean_absolute_error: 45236.2695\n",
            "Epoch 10/10\n",
            "8125/8125 [==============================] - 11s 1ms/step - loss: 45104.3047 - mean_absolute_error: 45104.3047\n"
          ],
          "name": "stdout"
        },
        {
          "output_type": "execute_result",
          "data": {
            "text/plain": [
              "<tensorflow.python.keras.callbacks.History at 0x7f67e4ff9a58>"
            ]
          },
          "metadata": {
            "tags": []
          },
          "execution_count": 106
        }
      ]
    },
    {
      "cell_type": "code",
      "metadata": {
        "id": "oYRxNrrPjbuU",
        "outputId": "26834ffd-5c1b-413e-a846-459114ce8685",
        "colab": {
          "base_uri": "https://localhost:8080/"
        }
      },
      "source": [
        "!pip install -q -U keras-tuner\n",
        "from kerastuner.tuners import RandomSearch\n",
        "from kerastuner.engine.hyperparameters import HyperParameters"
      ],
      "execution_count": null,
      "outputs": [
        {
          "output_type": "stream",
          "text": [
            "\u001b[?25l\r\u001b[K     |██████                          | 10kB 29.3MB/s eta 0:00:01\r\u001b[K     |████████████                    | 20kB 14.9MB/s eta 0:00:01\r\u001b[K     |██████████████████              | 30kB 14.2MB/s eta 0:00:01\r\u001b[K     |████████████████████████        | 40kB 14.0MB/s eta 0:00:01\r\u001b[K     |██████████████████████████████  | 51kB 15.0MB/s eta 0:00:01\r\u001b[K     |████████████████████████████████| 61kB 5.2MB/s \n",
            "\u001b[?25h  Building wheel for keras-tuner (setup.py) ... \u001b[?25l\u001b[?25hdone\n",
            "  Building wheel for terminaltables (setup.py) ... \u001b[?25l\u001b[?25hdone\n"
          ],
          "name": "stdout"
        }
      ]
    },
    {
      "cell_type": "code",
      "metadata": {
        "id": "Rq7-F1t1jfMY"
      },
      "source": [
        "def build_model(hp):\n",
        "    model = Sequential()\n",
        "    \n",
        "    model.add(Dense(units = hp.Int(\"input_units\", 8, 256, 8), activation = 'relu', input_dim = X.shape[1], kernel_initializer='normal'))\n",
        "    for i in range(hp.Int(\"n_layers\", 2, 8 , 1)):  \n",
        "        model.add(Dense(units = hp.Int(f\"layer_{i}_units\", 8, 256, 8), activation = 'relu', kernel_initializer='normal'))\n",
        "\n",
        "    model.add(Dense(units = 1, kernel_initializer='normal', activation = 'linear'))\n",
        "    \n",
        "    model.compile(loss='mean_absolute_error', optimizer='adam', metrics=['mean_absolute_error'])\n",
        "    \n",
        "    return model"
      ],
      "execution_count": null,
      "outputs": []
    },
    {
      "cell_type": "code",
      "metadata": {
        "id": "GPXnerZjmcOE",
        "outputId": "3abe9c08-91b7-41d2-8438-06a4b3cf5f3f",
        "colab": {
          "base_uri": "https://localhost:8080/",
          "height": 903
        }
      },
      "source": [
        "# import time\n",
        "\n",
        "# LOG_DIR = f\"{int(time.time())}\"\n",
        "\n",
        "tuner = RandomSearch(\n",
        "    build_model,\n",
        "    objective = \"mean_absolute_error\",\n",
        "    max_trials = 3,\n",
        "    executions_per_trial = 5\n",
        "    # directory = LOG_DIR\n",
        ")\n",
        "\n",
        "tuner.search(x = X_train, y = y_train, epochs=10, batch_size = 32, validation_data=(X_test, y_test), verbose=0)"
      ],
      "execution_count": null,
      "outputs": [
        {
          "output_type": "display_data",
          "data": {
            "text/html": [
              "<span style=\"color:#4527A0\"><h1 style=\"font-size:18px\">Trial complete</h1></span>"
            ],
            "text/plain": [
              "<IPython.core.display.HTML object>"
            ]
          },
          "metadata": {
            "tags": []
          }
        },
        {
          "output_type": "display_data",
          "data": {
            "text/html": [
              "<span style=\"color:#4527A0\"><h1 style=\"font-size:18px\">Trial summary</h1></span>"
            ],
            "text/plain": [
              "<IPython.core.display.HTML object>"
            ]
          },
          "metadata": {
            "tags": []
          }
        },
        {
          "output_type": "display_data",
          "data": {
            "text/html": [
              "<span style=\"color:cyan\"> |-Trial ID: 8c16a555f32f4d61017efa76019a0174</span>"
            ],
            "text/plain": [
              "<IPython.core.display.HTML object>"
            ]
          },
          "metadata": {
            "tags": []
          }
        },
        {
          "output_type": "display_data",
          "data": {
            "text/html": [
              "<span style=\"color:cyan\"> |-Score: 46082.371875</span>"
            ],
            "text/plain": [
              "<IPython.core.display.HTML object>"
            ]
          },
          "metadata": {
            "tags": []
          }
        },
        {
          "output_type": "display_data",
          "data": {
            "text/html": [
              "<span style=\"color:cyan\"> |-Best step: 0</span>"
            ],
            "text/plain": [
              "<IPython.core.display.HTML object>"
            ]
          },
          "metadata": {
            "tags": []
          }
        },
        {
          "output_type": "display_data",
          "data": {
            "text/html": [
              "<span style=\"color:#7E57C2\"><h2 style=\"font-size:16px\">Hyperparameters:</h2></span>"
            ],
            "text/plain": [
              "<IPython.core.display.HTML object>"
            ]
          },
          "metadata": {
            "tags": []
          }
        },
        {
          "output_type": "display_data",
          "data": {
            "text/html": [
              "<span style=\"color:cyan\"> |-input_units: 72</span>"
            ],
            "text/plain": [
              "<IPython.core.display.HTML object>"
            ]
          },
          "metadata": {
            "tags": []
          }
        },
        {
          "output_type": "display_data",
          "data": {
            "text/html": [
              "<span style=\"color:blue\"> |-layer_0_units: 192</span>"
            ],
            "text/plain": [
              "<IPython.core.display.HTML object>"
            ]
          },
          "metadata": {
            "tags": []
          }
        },
        {
          "output_type": "display_data",
          "data": {
            "text/html": [
              "<span style=\"color:cyan\"> |-layer_1_units: 88</span>"
            ],
            "text/plain": [
              "<IPython.core.display.HTML object>"
            ]
          },
          "metadata": {
            "tags": []
          }
        },
        {
          "output_type": "display_data",
          "data": {
            "text/html": [
              "<span style=\"color:blue\"> |-layer_2_units: 8</span>"
            ],
            "text/plain": [
              "<IPython.core.display.HTML object>"
            ]
          },
          "metadata": {
            "tags": []
          }
        },
        {
          "output_type": "display_data",
          "data": {
            "text/html": [
              "<span style=\"color:cyan\"> |-n_layers: 3</span>"
            ],
            "text/plain": [
              "<IPython.core.display.HTML object>"
            ]
          },
          "metadata": {
            "tags": []
          }
        },
        {
          "output_type": "display_data",
          "data": {
            "text/html": [
              "<span style=\"color:#4527A0\"><h1 style=\"font-size:18px\">Trial complete</h1></span>"
            ],
            "text/plain": [
              "<IPython.core.display.HTML object>"
            ]
          },
          "metadata": {
            "tags": []
          }
        },
        {
          "output_type": "display_data",
          "data": {
            "text/html": [
              "<span style=\"color:#4527A0\"><h1 style=\"font-size:18px\">Trial summary</h1></span>"
            ],
            "text/plain": [
              "<IPython.core.display.HTML object>"
            ]
          },
          "metadata": {
            "tags": []
          }
        },
        {
          "output_type": "display_data",
          "data": {
            "text/html": [
              "<span style=\"color:cyan\"> |-Trial ID: 3c98b70a3aed659ba8c26893e7f42462</span>"
            ],
            "text/plain": [
              "<IPython.core.display.HTML object>"
            ]
          },
          "metadata": {
            "tags": []
          }
        },
        {
          "output_type": "display_data",
          "data": {
            "text/html": [
              "<span style=\"color:cyan\"> |-Score: 129082.57109375</span>"
            ],
            "text/plain": [
              "<IPython.core.display.HTML object>"
            ]
          },
          "metadata": {
            "tags": []
          }
        },
        {
          "output_type": "display_data",
          "data": {
            "text/html": [
              "<span style=\"color:cyan\"> |-Best step: 0</span>"
            ],
            "text/plain": [
              "<IPython.core.display.HTML object>"
            ]
          },
          "metadata": {
            "tags": []
          }
        },
        {
          "output_type": "display_data",
          "data": {
            "text/html": [
              "<span style=\"color:#7E57C2\"><h2 style=\"font-size:16px\">Hyperparameters:</h2></span>"
            ],
            "text/plain": [
              "<IPython.core.display.HTML object>"
            ]
          },
          "metadata": {
            "tags": []
          }
        },
        {
          "output_type": "display_data",
          "data": {
            "text/html": [
              "<span style=\"color:cyan\"> |-input_units: 16</span>"
            ],
            "text/plain": [
              "<IPython.core.display.HTML object>"
            ]
          },
          "metadata": {
            "tags": []
          }
        },
        {
          "output_type": "display_data",
          "data": {
            "text/html": [
              "<span style=\"color:blue\"> |-layer_0_units: 32</span>"
            ],
            "text/plain": [
              "<IPython.core.display.HTML object>"
            ]
          },
          "metadata": {
            "tags": []
          }
        },
        {
          "output_type": "display_data",
          "data": {
            "text/html": [
              "<span style=\"color:cyan\"> |-layer_1_units: 40</span>"
            ],
            "text/plain": [
              "<IPython.core.display.HTML object>"
            ]
          },
          "metadata": {
            "tags": []
          }
        },
        {
          "output_type": "display_data",
          "data": {
            "text/html": [
              "<span style=\"color:blue\"> |-layer_2_units: 48</span>"
            ],
            "text/plain": [
              "<IPython.core.display.HTML object>"
            ]
          },
          "metadata": {
            "tags": []
          }
        },
        {
          "output_type": "display_data",
          "data": {
            "text/html": [
              "<span style=\"color:cyan\"> |-layer_3_units: 8</span>"
            ],
            "text/plain": [
              "<IPython.core.display.HTML object>"
            ]
          },
          "metadata": {
            "tags": []
          }
        },
        {
          "output_type": "display_data",
          "data": {
            "text/html": [
              "<span style=\"color:blue\"> |-layer_4_units: 8</span>"
            ],
            "text/plain": [
              "<IPython.core.display.HTML object>"
            ]
          },
          "metadata": {
            "tags": []
          }
        },
        {
          "output_type": "display_data",
          "data": {
            "text/html": [
              "<span style=\"color:cyan\"> |-layer_5_units: 8</span>"
            ],
            "text/plain": [
              "<IPython.core.display.HTML object>"
            ]
          },
          "metadata": {
            "tags": []
          }
        },
        {
          "output_type": "display_data",
          "data": {
            "text/html": [
              "<span style=\"color:blue\"> |-layer_6_units: 8</span>"
            ],
            "text/plain": [
              "<IPython.core.display.HTML object>"
            ]
          },
          "metadata": {
            "tags": []
          }
        },
        {
          "output_type": "display_data",
          "data": {
            "text/html": [
              "<span style=\"color:cyan\"> |-n_layers: 7</span>"
            ],
            "text/plain": [
              "<IPython.core.display.HTML object>"
            ]
          },
          "metadata": {
            "tags": []
          }
        },
        {
          "output_type": "display_data",
          "data": {
            "text/html": [
              "<span style=\"color:#4527A0\"><h1 style=\"font-size:18px\">Trial complete</h1></span>"
            ],
            "text/plain": [
              "<IPython.core.display.HTML object>"
            ]
          },
          "metadata": {
            "tags": []
          }
        },
        {
          "output_type": "display_data",
          "data": {
            "text/html": [
              "<span style=\"color:#4527A0\"><h1 style=\"font-size:18px\">Trial summary</h1></span>"
            ],
            "text/plain": [
              "<IPython.core.display.HTML object>"
            ]
          },
          "metadata": {
            "tags": []
          }
        },
        {
          "output_type": "display_data",
          "data": {
            "text/html": [
              "<span style=\"color:cyan\"> |-Trial ID: dc8d89e9f48862025882deadadd7d586</span>"
            ],
            "text/plain": [
              "<IPython.core.display.HTML object>"
            ]
          },
          "metadata": {
            "tags": []
          }
        },
        {
          "output_type": "display_data",
          "data": {
            "text/html": [
              "<span style=\"color:cyan\"> |-Score: 44945.6359375</span>"
            ],
            "text/plain": [
              "<IPython.core.display.HTML object>"
            ]
          },
          "metadata": {
            "tags": []
          }
        },
        {
          "output_type": "display_data",
          "data": {
            "text/html": [
              "<span style=\"color:cyan\"> |-Best step: 0</span>"
            ],
            "text/plain": [
              "<IPython.core.display.HTML object>"
            ]
          },
          "metadata": {
            "tags": []
          }
        },
        {
          "output_type": "display_data",
          "data": {
            "text/html": [
              "<span style=\"color:#7E57C2\"><h2 style=\"font-size:16px\">Hyperparameters:</h2></span>"
            ],
            "text/plain": [
              "<IPython.core.display.HTML object>"
            ]
          },
          "metadata": {
            "tags": []
          }
        },
        {
          "output_type": "display_data",
          "data": {
            "text/html": [
              "<span style=\"color:cyan\"> |-input_units: 224</span>"
            ],
            "text/plain": [
              "<IPython.core.display.HTML object>"
            ]
          },
          "metadata": {
            "tags": []
          }
        },
        {
          "output_type": "display_data",
          "data": {
            "text/html": [
              "<span style=\"color:blue\"> |-layer_0_units: 56</span>"
            ],
            "text/plain": [
              "<IPython.core.display.HTML object>"
            ]
          },
          "metadata": {
            "tags": []
          }
        },
        {
          "output_type": "display_data",
          "data": {
            "text/html": [
              "<span style=\"color:cyan\"> |-layer_1_units: 200</span>"
            ],
            "text/plain": [
              "<IPython.core.display.HTML object>"
            ]
          },
          "metadata": {
            "tags": []
          }
        },
        {
          "output_type": "display_data",
          "data": {
            "text/html": [
              "<span style=\"color:blue\"> |-layer_2_units: 120</span>"
            ],
            "text/plain": [
              "<IPython.core.display.HTML object>"
            ]
          },
          "metadata": {
            "tags": []
          }
        },
        {
          "output_type": "display_data",
          "data": {
            "text/html": [
              "<span style=\"color:cyan\"> |-layer_3_units: 128</span>"
            ],
            "text/plain": [
              "<IPython.core.display.HTML object>"
            ]
          },
          "metadata": {
            "tags": []
          }
        },
        {
          "output_type": "display_data",
          "data": {
            "text/html": [
              "<span style=\"color:blue\"> |-layer_4_units: 192</span>"
            ],
            "text/plain": [
              "<IPython.core.display.HTML object>"
            ]
          },
          "metadata": {
            "tags": []
          }
        },
        {
          "output_type": "display_data",
          "data": {
            "text/html": [
              "<span style=\"color:cyan\"> |-layer_5_units: 168</span>"
            ],
            "text/plain": [
              "<IPython.core.display.HTML object>"
            ]
          },
          "metadata": {
            "tags": []
          }
        },
        {
          "output_type": "display_data",
          "data": {
            "text/html": [
              "<span style=\"color:blue\"> |-layer_6_units: 40</span>"
            ],
            "text/plain": [
              "<IPython.core.display.HTML object>"
            ]
          },
          "metadata": {
            "tags": []
          }
        },
        {
          "output_type": "display_data",
          "data": {
            "text/html": [
              "<span style=\"color:cyan\"> |-n_layers: 3</span>"
            ],
            "text/plain": [
              "<IPython.core.display.HTML object>"
            ]
          },
          "metadata": {
            "tags": []
          }
        },
        {
          "output_type": "stream",
          "text": [
            "INFO:tensorflow:Oracle triggered exit\n"
          ],
          "name": "stdout"
        }
      ]
    },
    {
      "cell_type": "code",
      "metadata": {
        "id": "2VzZynC4vV-N",
        "outputId": "a5dd1d9c-91f4-4cd0-8dff-11f6d318ba59",
        "colab": {
          "base_uri": "https://localhost:8080/"
        }
      },
      "source": [
        "print(tuner.get_best_hyperparameters()[0].values)"
      ],
      "execution_count": null,
      "outputs": [
        {
          "output_type": "stream",
          "text": [
            "{'input_units': 224, 'n_layers': 3, 'layer_0_units': 56, 'layer_1_units': 200, 'layer_2_units': 120, 'layer_3_units': 128, 'layer_4_units': 192, 'layer_5_units': 168, 'layer_6_units': 40}\n"
          ],
          "name": "stdout"
        }
      ]
    },
    {
      "cell_type": "code",
      "metadata": {
        "id": "YnHOqyw0wuGS",
        "outputId": "53688247-562c-4db9-ecfc-bc3850a3a4d2",
        "colab": {
          "base_uri": "https://localhost:8080/"
        }
      },
      "source": [
        "print(tuner.get_best_models()[0].summary())"
      ],
      "execution_count": null,
      "outputs": [
        {
          "output_type": "stream",
          "text": [
            "Model: \"sequential\"\n",
            "_________________________________________________________________\n",
            "Layer (type)                 Output Shape              Param #   \n",
            "=================================================================\n",
            "dense (Dense)                (None, 224)               2240      \n",
            "_________________________________________________________________\n",
            "dense_1 (Dense)              (None, 56)                12600     \n",
            "_________________________________________________________________\n",
            "dense_2 (Dense)              (None, 200)               11400     \n",
            "_________________________________________________________________\n",
            "dense_3 (Dense)              (None, 120)               24120     \n",
            "_________________________________________________________________\n",
            "dense_4 (Dense)              (None, 1)                 121       \n",
            "=================================================================\n",
            "Total params: 50,481\n",
            "Trainable params: 50,481\n",
            "Non-trainable params: 0\n",
            "_________________________________________________________________\n",
            "WARNING:tensorflow:Unresolved object in checkpoint: (root).optimizer.iter\n",
            "WARNING:tensorflow:Unresolved object in checkpoint: (root).optimizer.beta_1\n",
            "WARNING:tensorflow:Unresolved object in checkpoint: (root).optimizer.beta_2\n",
            "WARNING:tensorflow:Unresolved object in checkpoint: (root).optimizer.decay\n",
            "WARNING:tensorflow:Unresolved object in checkpoint: (root).optimizer.learning_rate\n",
            "WARNING:tensorflow:A checkpoint was restored (e.g. tf.train.Checkpoint.restore or tf.keras.Model.load_weights) but not all checkpointed values were used. See above for specific issues. Use expect_partial() on the load status object, e.g. tf.train.Checkpoint.restore(...).expect_partial(), to silence these warnings, or use assert_consumed() to make the check explicit. See https://www.tensorflow.org/guide/checkpoint#loading_mechanics for details.\n",
            "None\n"
          ],
          "name": "stdout"
        }
      ]
    },
    {
      "cell_type": "code",
      "metadata": {
        "id": "0a-1tjMkwy6_",
        "outputId": "472e7dfc-39c3-4f83-9af5-36b2a2da3379",
        "colab": {
          "base_uri": "https://localhost:8080/"
        }
      },
      "source": [
        "nn_model_tuned = tuner.get_best_models()[0]\n",
        "nn_model_tuned.fit(X_train, y_train, batch_size = 10, epochs = 20)"
      ],
      "execution_count": null,
      "outputs": [
        {
          "output_type": "stream",
          "text": [
            "Epoch 1/20\n",
            "8125/8125 [==============================] - 14s 2ms/step - loss: 45203.4727 - mean_absolute_error: 45203.4727\n",
            "Epoch 2/20\n",
            "8125/8125 [==============================] - 14s 2ms/step - loss: 44962.8789 - mean_absolute_error: 44962.8789\n",
            "Epoch 3/20\n",
            "8125/8125 [==============================] - 14s 2ms/step - loss: 44799.6367 - mean_absolute_error: 44799.6367\n",
            "Epoch 4/20\n",
            "8125/8125 [==============================] - 14s 2ms/step - loss: 44579.3438 - mean_absolute_error: 44579.3438\n",
            "Epoch 5/20\n",
            "8125/8125 [==============================] - 14s 2ms/step - loss: 44499.8828 - mean_absolute_error: 44499.8828\n",
            "Epoch 6/20\n",
            "8125/8125 [==============================] - 14s 2ms/step - loss: 44386.5625 - mean_absolute_error: 44386.5625\n",
            "Epoch 7/20\n",
            "8125/8125 [==============================] - 14s 2ms/step - loss: 44266.1094 - mean_absolute_error: 44266.1094\n",
            "Epoch 8/20\n",
            "8125/8125 [==============================] - 13s 2ms/step - loss: 44208.0586 - mean_absolute_error: 44208.0625\n",
            "Epoch 9/20\n",
            "8125/8125 [==============================] - 13s 2ms/step - loss: 44138.8398 - mean_absolute_error: 44138.8398\n",
            "Epoch 10/20\n",
            "8125/8125 [==============================] - 13s 2ms/step - loss: 44062.9844 - mean_absolute_error: 44062.9844\n",
            "Epoch 11/20\n",
            "8125/8125 [==============================] - 13s 2ms/step - loss: 43946.3047 - mean_absolute_error: 43946.3047\n",
            "Epoch 12/20\n",
            "8125/8125 [==============================] - 13s 2ms/step - loss: 43951.8711 - mean_absolute_error: 43951.8750\n",
            "Epoch 13/20\n",
            "8125/8125 [==============================] - 13s 2ms/step - loss: 43821.0938 - mean_absolute_error: 43821.0938\n",
            "Epoch 14/20\n",
            "8125/8125 [==============================] - 14s 2ms/step - loss: 43785.5508 - mean_absolute_error: 43785.5508\n",
            "Epoch 15/20\n",
            "8125/8125 [==============================] - 14s 2ms/step - loss: 43756.9297 - mean_absolute_error: 43756.9297\n",
            "Epoch 16/20\n",
            "8125/8125 [==============================] - 13s 2ms/step - loss: 43560.2227 - mean_absolute_error: 43560.2227\n",
            "Epoch 17/20\n",
            "8125/8125 [==============================] - 13s 2ms/step - loss: 43522.1523 - mean_absolute_error: 43522.1484\n",
            "Epoch 18/20\n",
            "8125/8125 [==============================] - 13s 2ms/step - loss: 43599.0664 - mean_absolute_error: 43599.0664\n",
            "Epoch 19/20\n",
            "8125/8125 [==============================] - 13s 2ms/step - loss: 43527.2266 - mean_absolute_error: 43527.2266\n",
            "Epoch 20/20\n",
            "8125/8125 [==============================] - 13s 2ms/step - loss: 43380.1094 - mean_absolute_error: 43380.1094\n"
          ],
          "name": "stdout"
        },
        {
          "output_type": "execute_result",
          "data": {
            "text/plain": [
              "<tensorflow.python.keras.callbacks.History at 0x7f67e318c3c8>"
            ]
          },
          "metadata": {
            "tags": []
          },
          "execution_count": 112
        }
      ]
    },
    {
      "cell_type": "code",
      "metadata": {
        "id": "PO_NZiRSAGnx",
        "outputId": "267e08e5-decc-4a9d-a482-5c019ebd82da",
        "colab": {
          "base_uri": "https://localhost:8080/"
        }
      },
      "source": [
        "import keras\n",
        "nn_model_tuned.save(\"/content/drive/My Drive/CMPE 255 Project/nn_model\")\n",
        "# nn_model_tuned = keras.models.load_model(\"/content/drive/My Drive/CMPE 255 Project/nn_model\")"
      ],
      "execution_count": null,
      "outputs": [
        {
          "output_type": "stream",
          "text": [
            "WARNING:tensorflow:From /usr/local/lib/python3.6/dist-packages/tensorflow/python/training/tracking/tracking.py:111: Model.state_updates (from tensorflow.python.keras.engine.training) is deprecated and will be removed in a future version.\n",
            "Instructions for updating:\n",
            "This property should not be used in TensorFlow 2.0, as updates are applied automatically.\n",
            "WARNING:tensorflow:From /usr/local/lib/python3.6/dist-packages/tensorflow/python/training/tracking/tracking.py:111: Layer.updates (from tensorflow.python.keras.engine.base_layer) is deprecated and will be removed in a future version.\n",
            "Instructions for updating:\n",
            "This property should not be used in TensorFlow 2.0, as updates are applied automatically.\n",
            "INFO:tensorflow:Assets written to: /content/drive/My Drive/CMPE 255 Project/nn_model/assets\n"
          ],
          "name": "stdout"
        }
      ]
    },
    {
      "cell_type": "code",
      "metadata": {
        "id": "MU74H4xG4bsM",
        "outputId": "844dae2c-35ae-41ce-d3b2-02c211a7de5f",
        "colab": {
          "base_uri": "https://localhost:8080/"
        }
      },
      "source": [
        "from sklearn.metrics import r2_score\n",
        "\n",
        "predicted_price = nn_model_tuned.predict(X_test)\n",
        "predicted_price_train = nn_model_tuned.predict(X_train)\n",
        "\n",
        "models_info[\"Neural Network\"][\"RMSE\"] = np.sqrt(metrics.mean_squared_error(y_test, predicted_price))\n",
        "models_info[\"Neural Network\"][\"MSE\"] = metrics.mean_squared_error(y_test, predicted_price)\n",
        "models_info[\"Neural Network\"][\"MAE\"] = metrics.mean_absolute_error(y_test, predicted_price)\n",
        "\n",
        "models_info[\"Neural Network\"][\"R2_TRAIN\"] = r2_score(y_test, predicted_price)\n",
        "models_info[\"Neural Network\"][\"R2_TEST\"] = r2_score(y_train, predicted_price_train)\n",
        "\n",
        "print('R2 score on training data: ', models_info[\"Neural Network\"][\"R2_TRAIN\"])\n",
        "print('R2 score on test data: ', models_info[\"Neural Network\"][\"R2_TEST\"])\n",
        "print('Mean Absolute Error:', models_info[\"Neural Network\"][\"MAE\"])  \n",
        "print('Mean Squared Error:', models_info[\"Neural Network\"][\"MSE\"]) \n",
        "print('Root Mean Squared Error:', models_info[\"Neural Network\"][\"RMSE\"])"
      ],
      "execution_count": null,
      "outputs": [
        {
          "output_type": "stream",
          "text": [
            "R2 score on training data:  0.9615493192105207\n",
            "R2 score on test data:  0.9647906067891295\n",
            "Mean Absolute Error: 44879.045429735095\n",
            "Mean Squared Error: 11743674633.085772\n",
            "Root Mean Squared Error: 108368.23627376137\n"
          ],
          "name": "stdout"
        }
      ]
    },
    {
      "cell_type": "markdown",
      "metadata": {
        "id": "ngd1OMcuXlmg"
      },
      "source": [
        "# **Evaluate Models**"
      ]
    },
    {
      "cell_type": "markdown",
      "metadata": {
        "id": "2DRwLiS3Xos9"
      },
      "source": [
        "**Mean Absolute Error**"
      ]
    },
    {
      "cell_type": "code",
      "metadata": {
        "id": "25K8xk64XiNl",
        "outputId": "409efb26-3672-4157-9ad6-f970517bcfcb",
        "colab": {
          "base_uri": "https://localhost:8080/",
          "height": 735
        }
      },
      "source": [
        "print(\"Mean Absolute Error\")\n",
        "error_key = \"MAE\"\n",
        "\n",
        "x, y = [], []\n",
        "\n",
        "for model in models_info.keys():\n",
        "    x.append(model)\n",
        "    y.append(models_info[model][error_key])\n",
        "\n",
        "plt.figure(figsize=(10,8))\n",
        "sns.barplot(x=x, y=y)\n",
        "\n",
        "plt.xlabel('Models')\n",
        "plt.ylabel(error_key)\n",
        "plt.show()\n",
        "\n",
        "best_model=None\n",
        "best_model_value=None\n",
        "\n",
        "for model in models_info.keys():\n",
        "    print(\"Model: {}, {}: {}\".format(model, error_key, models_info[model][error_key]))\n",
        "    if not best_model or best_model_value > models_info[model][error_key]:\n",
        "       best_model = model\n",
        "       best_model_value = models_info[model][error_key]\n",
        "\n",
        "print (\"\\n\\nSuitable Model {}, its {}: {}\\n\\n\".format(best_model, error_key, best_model_value))"
      ],
      "execution_count": null,
      "outputs": [
        {
          "output_type": "stream",
          "text": [
            "Mean Absolute Error\n"
          ],
          "name": "stdout"
        },
        {
          "output_type": "display_data",
          "data": {
            "image/png": "[encoded data removed]",
            "text/plain": [
              "<Figure size 720x576 with 1 Axes>"
            ]
          },
          "metadata": {
            "tags": [],
            "needs_background": "light"
          }
        },
        {
          "output_type": "stream",
          "text": [
            "Model: LinearRegression, MAE: 62074.06165778232\n",
            "Model: Lasso, MAE: 62073.547977862654\n",
            "Model: LinearSVR, MAE: 391697.5244137599\n",
            "Model: ElasticNetCV, MAE: 287230.45686582325\n",
            "Model: RidgeCV, MAE: 62070.91302712417\n",
            "Model: RandomForestRegressor, MAE: 166156.3207837878\n",
            "Model: XGBoost, MAE: 43930.21273258803\n",
            "Model: Neural Network, MAE: 44879.045429735095\n",
            "\n",
            "\n",
            "Suitable Model XGBoost, its MAE: 43930.21273258803\n",
            "\n",
            "\n"
          ],
          "name": "stdout"
        }
      ]
    },
    {
      "cell_type": "markdown",
      "metadata": {
        "id": "K_8zTDtZXx24"
      },
      "source": [
        "**Mean Squared Error**"
      ]
    },
    {
      "cell_type": "code",
      "metadata": {
        "id": "JK9i4G0GX0dU",
        "outputId": "5a8a7022-734b-42ce-c225-6e4941075a04",
        "colab": {
          "base_uri": "https://localhost:8080/",
          "height": 746
        }
      },
      "source": [
        "print(\"Mean Squared Error\")\n",
        "error_key = \"MSE\"\n",
        "\n",
        "x, y = [], []\n",
        "\n",
        "for model in models_info.keys():\n",
        "    x.append(model)\n",
        "    y.append(models_info[model][error_key])\n",
        "\n",
        "plt.figure(figsize=(10,8))\n",
        "sns.barplot(x=x, y=y)\n",
        "\n",
        "plt.xlabel('Models')\n",
        "plt.ylabel(error_key)\n",
        "plt.show()\n",
        "\n",
        "best_model=None\n",
        "best_model_value=None\n",
        "\n",
        "for model in models_info.keys():\n",
        "    print(\"Model: {}, {}: {}\".format(model, error_key, models_info[model][error_key]))\n",
        "    if not best_model or best_model_value > models_info[model][error_key]:\n",
        "       best_model = model\n",
        "       best_model_value = models_info[model][error_key]\n",
        "\n",
        "print (\"\\n\\nSuitable Model {}, its {}: {}\\n\\n\".format(best_model, error_key, best_model_value))"
      ],
      "execution_count": null,
      "outputs": [
        {
          "output_type": "stream",
          "text": [
            "Mean Squared Error\n"
          ],
          "name": "stdout"
        },
        {
          "output_type": "display_data",
          "data": {
            "image/png": "[encoded data removed]",
            "text/plain": [
              "<Figure size 720x576 with 1 Axes>"
            ]
          },
          "metadata": {
            "tags": [],
            "needs_background": "light"
          }
        },
        {
          "output_type": "stream",
          "text": [
            "Model: LinearRegression, MSE: 15918035023.524109\n",
            "Model: Lasso, MSE: 15918079844.844341\n",
            "Model: LinearSVR, MSE: 446552317794.789\n",
            "Model: ElasticNetCV, MSE: 303678563428.17584\n",
            "Model: RidgeCV, MSE: 15918387353.484184\n",
            "Model: RandomForestRegressor, MSE: 80307013751.31909\n",
            "Model: XGBoost, MSE: 9759304325.082067\n",
            "Model: Neural Network, MSE: 11743674633.085772\n",
            "\n",
            "\n",
            "Suitable Model XGBoost, its MSE: 9759304325.082067\n",
            "\n",
            "\n"
          ],
          "name": "stdout"
        }
      ]
    },
    {
      "cell_type": "markdown",
      "metadata": {
        "id": "aDOtUZJfX4hg"
      },
      "source": [
        "**Root Mean Squar Error**"
      ]
    },
    {
      "cell_type": "code",
      "metadata": {
        "id": "K6awO9UhX8Hl",
        "outputId": "959d0c99-3708-467a-8147-35b49f687793",
        "colab": {
          "base_uri": "https://localhost:8080/",
          "height": 738
        }
      },
      "source": [
        "print(\"Root Mean Squar Error\")\n",
        "error_key = \"RMSE\"\n",
        "\n",
        "x, y = [], []\n",
        "\n",
        "for model in models_info.keys():\n",
        "    x.append(model)\n",
        "    y.append(models_info[model][error_key])\n",
        "\n",
        "plt.figure(figsize=(10,8))\n",
        "sns.barplot(x=x, y=y)\n",
        "\n",
        "plt.xlabel('Models')\n",
        "plt.ylabel(error_key)\n",
        "plt.show()\n",
        "\n",
        "best_model=None\n",
        "best_model_value=None\n",
        "\n",
        "for model in models_info.keys():\n",
        "    print(\"Model: {}, {}: {}\".format(model, error_key, models_info[model][error_key]))\n",
        "    if not best_model or best_model_value > models_info[model][error_key]:\n",
        "       best_model = model\n",
        "       best_model_value = models_info[model][error_key]\n",
        "\n",
        "print (\"\\n\\nSuitable Model {}, its {}: {}\\n\\n\".format(best_model, error_key, best_model_value))"
      ],
      "execution_count": null,
      "outputs": [
        {
          "output_type": "stream",
          "text": [
            "Root Mean Squar Error\n"
          ],
          "name": "stdout"
        },
        {
          "output_type": "display_data",
          "data": {
            "image/png": "[encoded data removed]",
            "text/plain": [
              "<Figure size 720x576 with 1 Axes>"
            ]
          },
          "metadata": {
            "tags": [],
            "needs_background": "light"
          }
        },
        {
          "output_type": "stream",
          "text": [
            "Model: LinearRegression, RMSE: 126166.69538164226\n",
            "Model: Lasso, RMSE: 126166.87300890175\n",
            "Model: LinearSVR, RMSE: 668245.7016657788\n",
            "Model: ElasticNetCV, RMSE: 551070.3797412594\n",
            "Model: RidgeCV, RMSE: 126168.09166141883\n",
            "Model: RandomForestRegressor, RMSE: 283384.92153133184\n",
            "Model: XGBoost, RMSE: 98789.19133732226\n",
            "Model: Neural Network, RMSE: 108368.23627376137\n",
            "\n",
            "\n",
            "Suitable Model XGBoost, its RMSE: 98789.19133732226\n",
            "\n",
            "\n"
          ],
          "name": "stdout"
        }
      ]
    },
    {
      "cell_type": "markdown",
      "metadata": {
        "id": "TnGaAtzbYE9x"
      },
      "source": [
        "**R2 Scores**"
      ]
    },
    {
      "cell_type": "code",
      "metadata": {
        "id": "SkHEH44zYIsL",
        "outputId": "57b0c090-52a0-408e-d347-3304a1f34b64",
        "colab": {
          "base_uri": "https://localhost:8080/",
          "height": 1000
        }
      },
      "source": [
        "print(\"R2 on training data\")\n",
        "\n",
        "x, y = [], []\n",
        "\n",
        "best_tarin_r2_model = None\n",
        "best_train_r2_value = None\n",
        "\n",
        "for model in models_info.keys():\n",
        "    x.append(model)\n",
        "    y.append(models_info[model][\"R2_TRAIN\"])\n",
        "    print(\"{}: {}\".format(model, models_info[model][\"R2_TRAIN\"]))\n",
        "    if not best_tarin_r2_model or best_train_r2_value < models_info[model][\"R2_TRAIN\"]:\n",
        "       best_tarin_r2_model = model\n",
        "       best_train_r2_value = models_info[model][\"R2_TRAIN\"]\n",
        "\n",
        "print(\"[Training Data] Model with good R2 value, Model:{} - {}\".format(best_tarin_r2_model, best_train_r2_value))\n",
        "plt.figure(figsize=(10,8))\n",
        "sns.barplot(x=x, y=y)\n",
        "\n",
        "plt.xlabel('Models')\n",
        "plt.ylabel(\"Training data\")\n",
        "plt.show()\n",
        "\n",
        "print(\"R2 on testing data\")\n",
        "\n",
        "xx, yy = [], []\n",
        "best_test_r2_model = None\n",
        "best_test_r2_value = None\n",
        "for model in models_info.keys():\n",
        "    xx.append(model)\n",
        "    yy.append(models_info[model][\"R2_TEST\"])\n",
        "    print(\"{}: {}\".format(model, models_info[model][\"R2_TEST\"]))\n",
        "    if not best_test_r2_model or best_test_r2_value < models_info[model][\"R2_TEST\"]:\n",
        "       best_test_r2_model = model\n",
        "       best_test_r2_value = models_info[model][\"R2_TEST\"]\n",
        "\n",
        "print(\"[Testing Data] Model with good R2 value, Model:{} - {}\".format(best_test_r2_model, best_test_r2_value))\n",
        "\n",
        "plt.figure(figsize=(10,8))\n",
        "sns.barplot(x=xx, y=yy)\n",
        "\n",
        "plt.xlabel('Models')\n",
        "plt.ylabel(\"Testing data\")\n",
        "plt.show()\n"
      ],
      "execution_count": null,
      "outputs": [
        {
          "output_type": "stream",
          "text": [
            "R2 on training data\n",
            "LinearRegression: 0.9532716361803213\n",
            "Lasso: 0.9532716361354674\n",
            "LinearSVR: -0.43886770275431286\n",
            "ElasticNetCV: 0.0059412017407392\n",
            "RidgeCV: 0.9532716230886248\n",
            "RandomForestRegressor: 0.7111542916315077\n",
            "XGBoost: 0.985110608716725\n",
            "Neural Network: 0.9615493192105207\n",
            "[Training Data] Model with good R2 value, Model:XGBoost - 0.985110608716725\n"
          ],
          "name": "stdout"
        },
        {
          "output_type": "display_data",
          "data": {
            "image/png": "[encoded data removed]",
            "text/plain": [
              "<Figure size 720x576 with 1 Axes>"
            ]
          },
          "metadata": {
            "tags": [],
            "needs_background": "light"
          }
        },
        {
          "output_type": "stream",
          "text": [
            "R2 on testing data\n",
            "LinearRegression: 0.9478817914657729\n",
            "Lasso: 0.9478816447135566\n",
            "LinearSVR: -0.46208415711342976\n",
            "ElasticNetCV: 0.005707508952307205\n",
            "RidgeCV: 0.9478806378807793\n",
            "RandomForestRegressor: 0.7370619122732853\n",
            "XGBoost: 0.9680464669658073\n",
            "Neural Network: 0.9647906067891295\n",
            "[Testing Data] Model with good R2 value, Model:XGBoost - 0.9680464669658073\n"
          ],
          "name": "stdout"
        },
        {
          "output_type": "display_data",
          "data": {
            "image/png": "[encoded data removed]",
            "text/plain": [
              "<Figure size 720x576 with 1 Axes>"
            ]
          },
          "metadata": {
            "tags": [],
            "needs_background": "light"
          }
        }
      ]
    },
    {
      "cell_type": "code",
      "metadata": {
        "id": "FrB0RQykAC4E"
      },
      "source": [
        ""
      ],
      "execution_count": null,
      "outputs": []
    }
  ]
}